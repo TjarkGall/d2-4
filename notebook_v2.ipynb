{
 "cells": [
  {
   "cell_type": "code",
   "execution_count": 1,
   "id": "9fa8ff90",
   "metadata": {},
   "outputs": [
    {
     "name": "stderr",
     "output_type": "stream",
     "text": [
      "/Users/tjark/opt/anaconda3/lib/python3.9/site-packages/geopandas/_compat.py:123: UserWarning: The Shapely GEOS version (3.11.1-CAPI-1.17.1) is incompatible with the GEOS version PyGEOS was compiled with (3.10.1-CAPI-1.16.0). Conversions between both will be slow.\n",
      "  warnings.warn(\n",
      "/var/folders/93/smcvnv_s04v84f_dnqvd4xkw0000gn/T/ipykernel_77392/2078194403.py:4: UserWarning: Shapely 2.0 is installed, but because PyGEOS is also installed, GeoPandas will still use PyGEOS by default for now. To force to use and test Shapely 2.0, you have to set the environment variable USE_PYGEOS=0. You can do this before starting the Python process, or in your code before importing geopandas:\n",
      "\n",
      "import os\n",
      "os.environ['USE_PYGEOS'] = '0'\n",
      "import geopandas\n",
      "\n",
      "In a future release, GeoPandas will switch to using Shapely by default. If you are using PyGEOS directly (calling PyGEOS functions on geometries from GeoPandas), this will then stop working and you are encouraged to migrate from PyGEOS to Shapely 2.0 (https://shapely.readthedocs.io/en/latest/migration_pygeos.html).\n",
      "  import geopandas as gpd\n"
     ]
    }
   ],
   "source": [
    "import pandas as pd\n",
    "import numpy as np\n",
    "import matplotlib.pyplot as plt\n",
    "import geopandas as gpd\n",
    "import matplotlib as mpl\n",
    "import seaborn as sns\n",
    "from os import path\n",
    "import platform\n",
    "from shapely.geometry import Point\n",
    "import zipfile\n",
    "import os\n",
    "%matplotlib inline"
   ]
  },
  {
   "cell_type": "code",
   "execution_count": 2,
   "id": "a381f08c",
   "metadata": {},
   "outputs": [],
   "source": [
    "# Disable scientific notation\n",
    "pd.set_option('display.float_format', lambda x: '%.3f' % x)"
   ]
  },
  {
   "cell_type": "code",
   "execution_count": 3,
   "id": "f5bc5e8c",
   "metadata": {},
   "outputs": [],
   "source": [
    "system = platform.system()\n",
    "\n",
    "def get_real_path(link_path):\n",
    "    if system == \"Windows\":\n",
    "        import win32com.client\n",
    "        shell = win32com.client.Dispatch(\"WScript.Shell\")\n",
    "        return str(shell.CreateShortCut(link_path).Targetpath)\n",
    "    else:\n",
    "        return path.realpath(link_path)\n"
   ]
  },
  {
   "cell_type": "code",
   "execution_count": 5,
   "id": "f7e9a14e",
   "metadata": {},
   "outputs": [],
   "source": [
    "def total_to_per_persona(total_df, personas_counts_df, scenarios, index):\n",
    "    result = total_df.copy(deep=True)\n",
    "    for persona in index:\n",
    "        for scenario in scenarios:\n",
    "            if personas_counts_df.loc[persona][scenario] == 0:\n",
    "                result.loc[persona][scenario] = 0\n",
    "            else:\n",
    "                old_value = total_df.loc[persona][scenario]\n",
    "                nb = personas_counts_df.loc[persona][scenario]\n",
    "                new_value = old_value / nb\n",
    "                result.loc[persona, scenario] = new_value\n",
    "    return result"
   ]
  },
  {
   "cell_type": "code",
   "execution_count": 6,
   "id": "d0b047b7",
   "metadata": {},
   "outputs": [],
   "source": [
    "inputs_path = get_real_path(\"data/raw/inputs\")\n",
    "outputs_path = get_real_path(\"data/raw/outputs\")"
   ]
  },
  {
   "cell_type": "code",
   "execution_count": 7,
   "id": "cdb51e4f",
   "metadata": {},
   "outputs": [],
   "source": [
    "scenarios = [\"s{}\".format(i) for i in range(9)]\n",
    "\n",
    "persons_csv_paths = {s: path.join(inputs_path, \"idf_{}_persons.csv\".format(s)) for s in scenarios}\n",
    "\n",
    "# The paths below should point to directories\n",
    "scenarios_outputs_folder_names = {\"s0\": \"s0\", \n",
    "                                  \"s1\": \"s1\",\n",
    "                                  \"s2\": \"s2\",\n",
    "                                  \"s3\": \"s3\",\n",
    "                                  \"s4\": \"s4\",\n",
    "                                  \"s5\": \"s5\",\n",
    "                                  \"s6\": \"s6\",\n",
    "                                  \"s7\": \"s7\",\n",
    "                                  \"s8\": \"s8\",\n",
    "                                 }\n",
    "\n",
    "scenarios_outputs = {s: path.join(outputs_path, \n",
    "                    scenarios_outputs_folder_names[s]) for s in scenarios}\n",
    "persons = dict()\n",
    "for s in scenarios:\n",
    "    persons[s] = pd.read_csv(persons_csv_paths[s], sep=\";\")"
   ]
  },
  {
   "cell_type": "code",
   "execution_count": 8,
   "id": "e867f6d6",
   "metadata": {},
   "outputs": [],
   "source": [
    "personas = set()\n",
    "for s in scenarios:\n",
    "    personas.update(pd.unique(persons[s][\"persona\"].values.ravel()))\n",
    "    \n",
    "personas_counts = pd.DataFrame(index=list(personas), columns=scenarios)\n",
    "for p in personas:\n",
    "    for s in scenarios:\n",
    "        try:\n",
    "            personas_counts.loc[p][s] = persons[s][\"persona\"].value_counts()[p]\n",
    "        except KeyError:\n",
    "            personas_counts.loc[p][s] = 0"
   ]
  },
  {
   "cell_type": "code",
   "execution_count": 9,
   "id": "1d5f4e9d",
   "metadata": {
    "scrolled": true
   },
   "outputs": [
    {
     "data": {
      "image/png": "[encoded data removed]",
      "text/plain": [
       "<Figure size 1080x432 with 1 Axes>"
      ]
     },
     "metadata": {
      "needs_background": "light"
     },
     "output_type": "display_data"
    }
   ],
   "source": [
    "personas_counts.plot(kind=\"bar\", grid=True, figsize=(15,6), title=\"Distribution of personas per scenario\", xlabel=\"persona\", ylabel=\"number of agents\")\n",
    "plt.show()"
   ]
  },
  {
   "cell_type": "code",
   "execution_count": 10,
   "id": "c84a749a",
   "metadata": {},
   "outputs": [],
   "source": [
    "# define files to be used from zip files\n",
    "input_files = ['eqasim_trips.csv','eqasim_pt.csv','eqasim_legs.csv']"
   ]
  },
  {
   "cell_type": "markdown",
   "id": "bd0a9f44",
   "metadata": {},
   "source": [
    "## Read csv files from zip file and save individually in folders"
   ]
  },
  {
   "cell_type": "code",
   "execution_count": 9,
   "id": "7269cd5a",
   "metadata": {},
   "outputs": [],
   "source": [
    "# # only when input data has changed\n",
    "# for s in scenarios:\n",
    "#     # create folders s0-sn if not existing yet\n",
    "#     s_path = f'data/raw/outputs/{s}' \n",
    "#     if not os.path.exists(s_path):\n",
    "#         os.makedirs(s_path)\n",
    "    \n",
    "#     # read and write files from zip to normal folder\n",
    "#     for inf in input_files:\n",
    "#         with zipfile.ZipFile(f'data/raw/outputs/{s}.zip', 'r') as zip_file:\n",
    "#             with zip_file.open(inf) as file:\n",
    "#                 df = pd.read_csv(file, sep=\",\")\n",
    "\n",
    "#                 df.to_csv(f'data/raw/outputs/{s}/{inf}', index=False)"
   ]
  },
  {
   "cell_type": "code",
   "execution_count": 10,
   "id": "892c12ed",
   "metadata": {},
   "outputs": [],
   "source": [
    "# # process to replace semicolon with comma for s5-s8 until replaced with proper zips\n",
    "# scen_temp = ['s5','s6','s7','s8']\n",
    "# for s in scen_temp:\n",
    "#     for inf in input_files:\n",
    "#         df = pd.read_csv(f'data/raw/outputs/{s}/{inf}', sep=\";\")\n",
    "#         df.to_csv(f'data/raw/outputs/{s}/{inf}', index=False)"
   ]
  },
  {
   "cell_type": "markdown",
   "id": "74585dd9",
   "metadata": {},
   "source": [
    "### Renaming drt trips with 99999, followed by car id"
   ]
  },
  {
   "cell_type": "code",
   "execution_count": 11,
   "id": "86b9273e",
   "metadata": {},
   "outputs": [],
   "source": [
    "# s5 = pd.read_csv('data/raw/outputs/s5/eqasim_trips.csv', sep=\";\")\n",
    "# s6 = pd.read_csv('data/raw/outputs/s6/eqasim_trips.csv', sep=\";\")\n",
    "# s7 = pd.read_csv('data/raw/outputs/s7/eqasim_trips.csv', sep=\";\")\n",
    "# s8 = pd.read_csv('data/raw/outputs/s8/eqasim_trips.csv', sep=\";\")"
   ]
  },
  {
   "cell_type": "code",
   "execution_count": 12,
   "id": "efde7a27",
   "metadata": {},
   "outputs": [],
   "source": [
    "# s5['person_id'] = s5['person_id'].apply(lambda x: f\"99999{x.split('_')[-1]}\" if isinstance(x, str) and x.startswith('vehicle_drt_') else x)\n",
    "# s6['person_id'] = s6['person_id'].apply(lambda x: f\"99999{x.split('_')[-1]}\" if isinstance(x, str) and x.startswith('vehicle_drt_') else x)\n",
    "# s7['person_id'] = s7['person_id'].apply(lambda x: f\"99999{x.split('_')[-1]}\" if isinstance(x, str) and x.startswith('vehicle_drt_') else x)\n",
    "# s8['person_id'] = s8['person_id'].apply(lambda x: f\"99999{x.split('_')[-1]}\" if isinstance(x, str) and x.startswith('vehicle_drt_') else x)\n",
    "# s5.to_csv('data/raw/outputs/s5/eqasim_trips.csv', index=False)\n",
    "# s6.to_csv('data/raw/outputs/s6/eqasim_trips.csv', index=False)\n",
    "# s7.to_csv('data/raw/outputs/s7/eqasim_trips.csv', index=False)\n",
    "# s8.to_csv('data/raw/outputs/s8/eqasim_trips.csv', index=False)"
   ]
  },
  {
   "cell_type": "markdown",
   "id": "113a14fd",
   "metadata": {},
   "source": [
    "## Load all data if working with same simulations as before"
   ]
  },
  {
   "cell_type": "code",
   "execution_count": 13,
   "id": "ea95fd7d",
   "metadata": {},
   "outputs": [],
   "source": [
    "# # when no changes in data\n",
    "# data = {}\n",
    "# for s in scenarios:\n",
    "#     for inf in input_files:\n",
    "#         data[(s, inf)] = pd.read_csv(f'data/raw/outputs/{s}/{inf}', sep=\";\")"
   ]
  },
  {
   "cell_type": "code",
   "execution_count": 14,
   "id": "cf13fafb",
   "metadata": {
    "scrolled": false
   },
   "outputs": [],
   "source": [
    "# data['s8','eqasim_legs.csv']"
   ]
  },
  {
   "cell_type": "markdown",
   "id": "22acfa3c",
   "metadata": {},
   "source": [
    "# Analysis starts here"
   ]
  },
  {
   "cell_type": "code",
   "execution_count": 15,
   "id": "d6658bd8",
   "metadata": {
    "scrolled": true
   },
   "outputs": [
    {
     "name": "stdout",
     "output_type": "stream",
     "text": [
      "s0\n",
      "s1\n",
      "s2\n",
      "s3\n",
      "s4\n",
      "s5\n",
      "s6\n",
      "s7\n",
      "s8\n"
     ]
    }
   ],
   "source": [
    "# legs_dfs = dict()\n",
    "# for s in scenarios:\n",
    "#     base_legs = pd.read_csv(path.join(scenarios_outputs[s], \"eqasim_legs.csv\"), sep=\";\")\n",
    "#     base_legs['person_id'] = base_legs['person_id'].astype(str)\n",
    "#     base_legs['person_id'] = base_legs['person_id'].astype('int64')\n",
    "#     clustered_legs = base_legs.merge(persons[s][[\"person_id\", \"persona\"]], on=\"person_id\", how=\"left\")\n",
    "#     print(s)\n",
    "#     assert len(clustered_legs) == len(base_legs)\n",
    "#     clustered_legs['scen'] = s\n",
    "#     if s == 's0':\n",
    "#         clustered_legs['group'] = 0\n",
    "#     elif s in ['s1', 's2', 's3', 's4']:\n",
    "#         clustered_legs['group'] = 1\n",
    "#     else:\n",
    "#         clustered_legs['group'] = 2\n",
    "#     legs_dfs[s] = clustered_legs"
   ]
  },
  {
   "cell_type": "markdown",
   "id": "e1bf8c13",
   "metadata": {},
   "source": [
    "### Duplicate entries to equal out rejected drt trips"
   ]
  },
  {
   "cell_type": "markdown",
   "id": "c5e3fdf8",
   "metadata": {},
   "source": [
    "#### Duplicating data from s1 to s5"
   ]
  },
  {
   "cell_type": "code",
   "execution_count": 16,
   "id": "ac7fce61",
   "metadata": {},
   "outputs": [],
   "source": [
    "# RejTrips = pd.read_csv(\"data/raw/outputs/s5/eqasim_drt_passenger_rides.csv\", sep=\";\")\n",
    "# RejTrips = RejTrips[pd.isna(RejTrips['vehicle_id'])]['person_id']"
   ]
  },
  {
   "cell_type": "code",
   "execution_count": 18,
   "id": "bf21661a",
   "metadata": {},
   "outputs": [],
   "source": [
    "# # Filter the entries from dataframe that meet the conditions\n",
    "# filtered_entries = legs_dfs['s1'][(legs_dfs['s1']['person_id'].isin(RejTrips))]\n",
    "# merged = filtered_entries.merge(legs_dfs['s5'], on=['person_id', 'departure_time'], how='left', indicator=True)\n",
    "# filtered_entries = merged[merged['_merge'] == 'left_only'].drop(columns='_merge')\n",
    "# columns_to_drop = ['person_trip_id_y', 'leg_index_y', 'origin_x_y', 'origin_y_y', 'destination_x_y', 'destination_y_y', 'travel_time_y', 'vehicle_distance_y', 'routed_distance_y', 'mode_y', 'euclidean_distance_y', 'persona_y', 'scen_y', 'group_y']\n",
    "# filtered_entries = filtered_entries.drop(columns=columns_to_drop)\n",
    "# filtered_entries = filtered_entries.rename(columns={'person_trip_id_x': 'person_trip_id',\n",
    "#                                                     'leg_index_x': 'leg_index',\n",
    "#                                                     'origin_x_x': 'origin_x',\n",
    "#                                                     'origin_y_x': 'origin_y',\n",
    "#                                                     'destination_x_x': 'destination_x',\n",
    "#                                                     'destination_y_x': 'destination_y',\n",
    "#                                                     'travel_time_x': 'travel_time',\n",
    "#                                                     'vehicle_distance_x': 'vehicle_distance',\n",
    "#                                                     'routed_distance_x': 'routed_distance',\n",
    "#                                                     'mode_x': 'mode',\n",
    "#                                                     'euclidean_distance_x': 'euclidean_distance',\n",
    "#                                                     'persona_x': 'persona',\n",
    "#                                                     'scen_x': 'scen',\n",
    "#                                                     'group_x': 'group'})\n",
    "# # Insert the filtered entries into the original dataframe\n",
    "# legs_dfs['s5'] = pd.concat([legs_dfs['s5'], filtered_entries])"
   ]
  },
  {
   "cell_type": "markdown",
   "id": "b918cebf",
   "metadata": {},
   "source": [
    "#### Duplicating data from s2 to s6"
   ]
  },
  {
   "cell_type": "code",
   "execution_count": 19,
   "id": "4cb7e662",
   "metadata": {},
   "outputs": [],
   "source": [
    "# RejTrips = pd.read_csv(\"data/raw/outputs/s6/eqasim_drt_passenger_rides.csv\", sep=\";\")\n",
    "# RejTrips = RejTrips[pd.isna(RejTrips['vehicle_id'])]['person_id']"
   ]
  },
  {
   "cell_type": "code",
   "execution_count": 20,
   "id": "c3ade324",
   "metadata": {},
   "outputs": [],
   "source": [
    "# # Filter the entries from dataframe that meet the conditions\n",
    "# filtered_entries = legs_dfs['s2'][(legs_dfs['s2']['person_id'].isin(RejTrips))]\n",
    "# merged = filtered_entries.merge(legs_dfs['s6'], on=['person_id', 'departure_time'], how='left', indicator=True)\n",
    "# filtered_entries = merged[merged['_merge'] == 'left_only'].drop(columns='_merge')\n",
    "# columns_to_drop = ['person_trip_id_y', 'leg_index_y', 'origin_x_y', 'origin_y_y', 'destination_x_y', 'destination_y_y', 'travel_time_y', 'vehicle_distance_y', 'routed_distance_y', 'mode_y', 'euclidean_distance_y', 'persona_y', 'scen_y', 'group_y']\n",
    "# filtered_entries = filtered_entries.drop(columns=columns_to_drop)\n",
    "# filtered_entries = filtered_entries.rename(columns={'person_trip_id_x': 'person_trip_id',\n",
    "#                                                     'leg_index_x': 'leg_index',\n",
    "#                                                     'origin_x_x': 'origin_x',\n",
    "#                                                     'origin_y_x': 'origin_y',\n",
    "#                                                     'destination_x_x': 'destination_x',\n",
    "#                                                     'destination_y_x': 'destination_y',\n",
    "#                                                     'travel_time_x': 'travel_time',\n",
    "#                                                     'vehicle_distance_x': 'vehicle_distance',\n",
    "#                                                     'routed_distance_x': 'routed_distance',\n",
    "#                                                     'mode_x': 'mode',\n",
    "#                                                     'euclidean_distance_x': 'euclidean_distance',\n",
    "#                                                     'persona_x': 'persona',\n",
    "#                                                     'scen_x': 'scen',\n",
    "#                                                     'group_x': 'group'})\n",
    "# # Insert the filtered entries into the original dataframe\n",
    "# legs_dfs['s6'] = pd.concat([legs_dfs['s6'], filtered_entries])"
   ]
  },
  {
   "cell_type": "markdown",
   "id": "5361933f",
   "metadata": {},
   "source": [
    "#### Duplicating data from s3 to s7"
   ]
  },
  {
   "cell_type": "code",
   "execution_count": 21,
   "id": "867b2b56",
   "metadata": {},
   "outputs": [],
   "source": [
    "# RejTrips = pd.read_csv(\"data/raw/outputs/s7/eqasim_drt_passenger_rides.csv\", sep=\";\")\n",
    "# RejTrips = RejTrips[pd.isna(RejTrips['vehicle_id'])]['person_id']"
   ]
  },
  {
   "cell_type": "code",
   "execution_count": 22,
   "id": "adb75038",
   "metadata": {},
   "outputs": [],
   "source": [
    "# # Filter the entries from dataframe that meet the conditions\n",
    "# filtered_entries = legs_dfs['s3'][(legs_dfs['s3']['person_id'].isin(RejTrips))]\n",
    "# merged = filtered_entries.merge(legs_dfs['s7'], on=['person_id', 'departure_time'], how='left', indicator=True)\n",
    "# filtered_entries = merged[merged['_merge'] == 'left_only'].drop(columns='_merge')\n",
    "# columns_to_drop = ['person_trip_id_y', 'leg_index_y', 'origin_x_y', 'origin_y_y', 'destination_x_y', 'destination_y_y', 'travel_time_y', 'vehicle_distance_y', 'routed_distance_y', 'mode_y', 'euclidean_distance_y', 'persona_y', 'scen_y', 'group_y']\n",
    "# filtered_entries = filtered_entries.drop(columns=columns_to_drop)\n",
    "# filtered_entries = filtered_entries.rename(columns={'person_trip_id_x': 'person_trip_id',\n",
    "#                                                     'leg_index_x': 'leg_index',\n",
    "#                                                     'origin_x_x': 'origin_x',\n",
    "#                                                     'origin_y_x': 'origin_y',\n",
    "#                                                     'destination_x_x': 'destination_x',\n",
    "#                                                     'destination_y_x': 'destination_y',\n",
    "#                                                     'travel_time_x': 'travel_time',\n",
    "#                                                     'vehicle_distance_x': 'vehicle_distance',\n",
    "#                                                     'routed_distance_x': 'routed_distance',\n",
    "#                                                     'mode_x': 'mode',\n",
    "#                                                     'euclidean_distance_x': 'euclidean_distance',\n",
    "#                                                     'persona_x': 'persona',\n",
    "#                                                     'scen_x': 'scen',\n",
    "#                                                     'group_x': 'group'})\n",
    "# # Insert the filtered entries into the original dataframe\n",
    "# legs_dfs['s7'] = pd.concat([legs_dfs['s7'], filtered_entries])"
   ]
  },
  {
   "cell_type": "markdown",
   "id": "37d228b6",
   "metadata": {},
   "source": [
    "#### Duplicating data from s4 to s8"
   ]
  },
  {
   "cell_type": "code",
   "execution_count": 23,
   "id": "bbb0b04b",
   "metadata": {},
   "outputs": [],
   "source": [
    "# RejTrips = pd.read_csv(\"data/raw/outputs/s8/eqasim_drt_passenger_rides.csv\", sep=\";\")\n",
    "# RejTrips = RejTrips[pd.isna(RejTrips['vehicle_id'])]['person_id']"
   ]
  },
  {
   "cell_type": "code",
   "execution_count": 24,
   "id": "6d8b3552",
   "metadata": {},
   "outputs": [],
   "source": [
    "# # Filter the entries from dataframe that meet the conditions\n",
    "# filtered_entries = legs_dfs['s4'][(legs_dfs['s4']['person_id'].isin(RejTrips))]\n",
    "# merged = filtered_entries.merge(legs_dfs['s8'], on=['person_id', 'departure_time'], how='left', indicator=True)\n",
    "# filtered_entries = merged[merged['_merge'] == 'left_only'].drop(columns='_merge')\n",
    "# columns_to_drop = ['person_trip_id_y', 'leg_index_y', 'origin_x_y', 'origin_y_y', 'destination_x_y', 'destination_y_y', 'travel_time_y', 'vehicle_distance_y', 'routed_distance_y', 'mode_y', 'euclidean_distance_y', 'persona_y', 'scen_y', 'group_y']\n",
    "# filtered_entries = filtered_entries.drop(columns=columns_to_drop)\n",
    "# filtered_entries = filtered_entries.rename(columns={'person_trip_id_x': 'person_trip_id',\n",
    "#                                                     'leg_index_x': 'leg_index',\n",
    "#                                                     'origin_x_x': 'origin_x',\n",
    "#                                                     'origin_y_x': 'origin_y',\n",
    "#                                                     'destination_x_x': 'destination_x',\n",
    "#                                                     'destination_y_x': 'destination_y',\n",
    "#                                                     'travel_time_x': 'travel_time',\n",
    "#                                                     'vehicle_distance_x': 'vehicle_distance',\n",
    "#                                                     'routed_distance_x': 'routed_distance',\n",
    "#                                                     'mode_x': 'mode',\n",
    "#                                                     'euclidean_distance_x': 'euclidean_distance',\n",
    "#                                                     'persona_x': 'persona',\n",
    "#                                                     'scen_x': 'scen',\n",
    "#                                                     'group_x': 'group'})\n",
    "# # Insert the filtered entries into the original dataframe\n",
    "# legs_dfs['s8'] = pd.concat([legs_dfs['s8'], filtered_entries])"
   ]
  },
  {
   "cell_type": "markdown",
   "id": "e1f10688",
   "metadata": {},
   "source": [
    "## Persona update"
   ]
  },
  {
   "cell_type": "code",
   "execution_count": 362,
   "id": "c0ab5133",
   "metadata": {},
   "outputs": [
    {
     "data": {
      "text/html": [
       "<div>\n",
       "<style scoped>\n",
       "    .dataframe tbody tr th:only-of-type {\n",
       "        vertical-align: middle;\n",
       "    }\n",
       "\n",
       "    .dataframe tbody tr th {\n",
       "        vertical-align: top;\n",
       "    }\n",
       "\n",
       "    .dataframe thead th {\n",
       "        text-align: right;\n",
       "    }\n",
       "</style>\n",
       "<table border=\"1\" class=\"dataframe\">\n",
       "  <thead>\n",
       "    <tr style=\"text-align: right;\">\n",
       "      <th></th>\n",
       "      <th>census_person_id</th>\n",
       "      <th>ID</th>\n",
       "    </tr>\n",
       "  </thead>\n",
       "  <tbody>\n",
       "    <tr>\n",
       "      <th>0</th>\n",
       "      <td>0</td>\n",
       "      <td>15</td>\n",
       "    </tr>\n",
       "    <tr>\n",
       "      <th>1</th>\n",
       "      <td>1</td>\n",
       "      <td>7</td>\n",
       "    </tr>\n",
       "    <tr>\n",
       "      <th>2</th>\n",
       "      <td>2</td>\n",
       "      <td>8</td>\n",
       "    </tr>\n",
       "    <tr>\n",
       "      <th>3</th>\n",
       "      <td>3</td>\n",
       "      <td>5</td>\n",
       "    </tr>\n",
       "    <tr>\n",
       "      <th>4</th>\n",
       "      <td>4</td>\n",
       "      <td>5</td>\n",
       "    </tr>\n",
       "  </tbody>\n",
       "</table>\n",
       "</div>"
      ],
      "text/plain": [
       "   census_person_id  ID\n",
       "0                 0  15\n",
       "1                 1   7\n",
       "2                 2   8\n",
       "3                 3   5\n",
       "4                 4   5"
      ]
     },
     "execution_count": 362,
     "metadata": {},
     "output_type": "execute_result"
    }
   ],
   "source": [
    "# ### Update personas to 16 personas from 2019 data\n",
    "# personas = pd.read_csv(\"data/raw/persona/clusters_2015.csv\")\n",
    "# personas = personas.reset_index()\n",
    "# personas = personas.rename(columns={'index': 'census_person_id'})\n",
    "# personas.head()"
   ]
  },
  {
   "cell_type": "code",
   "execution_count": 389,
   "id": "3740f40d",
   "metadata": {},
   "outputs": [],
   "source": [
    "# # Create an empty dictionary to hold the dataframes\n",
    "# merged_dfs = {}\n",
    "\n",
    "# for scen in scenarios:\n",
    "#     pers = pd.read_csv(f'data/raw/inputs/idf_{scen}_persons.csv', sep=\";\") \n",
    "#     # Merge columns based on person_id\n",
    "#     merged_df = pers.merge(personas, on='census_person_id', how='left')\n",
    "#     # Delete unused and rename columns\n",
    "#     merged_df = merged_df.drop(columns=['household_id', 'census_person_id', 'hts_id', 'persona'])\n",
    "#     merged_df = merged_df.rename(columns={'ID': 'persona'})\n",
    "#     # Store the dataframe in the dictionary\n",
    "#     merged_dfs[scen] = merged_df\n",
    "#     legs_dfs[scen] = legs_dfs[scen].drop(columns=['persona_x'])\n",
    "#     legs_dfs[scen] = legs_dfs[scen].merge(merged_df, on='person_id', how='left')"
   ]
  },
  {
   "cell_type": "markdown",
   "id": "8f266c82",
   "metadata": {},
   "source": [
    "### Combine dataframes"
   ]
  },
  {
   "cell_type": "code",
   "execution_count": 397,
   "id": "13888ba8",
   "metadata": {},
   "outputs": [],
   "source": [
    "# # combine all dataframes\n",
    "# df = pd.concat(legs_dfs.values(), ignore_index=True)"
   ]
  },
  {
   "cell_type": "code",
   "execution_count": 407,
   "id": "5b81f2c9",
   "metadata": {},
   "outputs": [
    {
     "data": {
      "text/html": [
       "<div>\n",
       "<style scoped>\n",
       "    .dataframe tbody tr th:only-of-type {\n",
       "        vertical-align: middle;\n",
       "    }\n",
       "\n",
       "    .dataframe tbody tr th {\n",
       "        vertical-align: top;\n",
       "    }\n",
       "\n",
       "    .dataframe thead th {\n",
       "        text-align: right;\n",
       "    }\n",
       "</style>\n",
       "<table border=\"1\" class=\"dataframe\">\n",
       "  <thead>\n",
       "    <tr style=\"text-align: right;\">\n",
       "      <th></th>\n",
       "      <th>person_id</th>\n",
       "      <th>person_trip_id</th>\n",
       "      <th>leg_index</th>\n",
       "      <th>origin_x</th>\n",
       "      <th>origin_y</th>\n",
       "      <th>destination_x</th>\n",
       "      <th>destination_y</th>\n",
       "      <th>departure_time</th>\n",
       "      <th>travel_time</th>\n",
       "      <th>vehicle_distance</th>\n",
       "      <th>...</th>\n",
       "      <th>euclidean_distance</th>\n",
       "      <th>scen</th>\n",
       "      <th>group</th>\n",
       "      <th>age</th>\n",
       "      <th>employed</th>\n",
       "      <th>sex</th>\n",
       "      <th>socioprofessional_class</th>\n",
       "      <th>has_driving_license</th>\n",
       "      <th>has_pt_subscription</th>\n",
       "      <th>persona</th>\n",
       "    </tr>\n",
       "  </thead>\n",
       "  <tbody>\n",
       "    <tr>\n",
       "      <th>0</th>\n",
       "      <td>3927147</td>\n",
       "      <td>0</td>\n",
       "      <td>0</td>\n",
       "      <td>605885.158</td>\n",
       "      <td>6876583.554</td>\n",
       "      <td>605885.158</td>\n",
       "      <td>6876583.554</td>\n",
       "      <td>12757.000</td>\n",
       "      <td>0.000</td>\n",
       "      <td>0.000</td>\n",
       "      <td>...</td>\n",
       "      <td>0.000</td>\n",
       "      <td>s0</td>\n",
       "      <td>0</td>\n",
       "      <td>58</td>\n",
       "      <td>False</td>\n",
       "      <td>male</td>\n",
       "      <td>6</td>\n",
       "      <td>True</td>\n",
       "      <td>False</td>\n",
       "      <td>15</td>\n",
       "    </tr>\n",
       "    <tr>\n",
       "      <th>1</th>\n",
       "      <td>2532319</td>\n",
       "      <td>0</td>\n",
       "      <td>0</td>\n",
       "      <td>664326.598</td>\n",
       "      <td>6862902.938</td>\n",
       "      <td>664326.598</td>\n",
       "      <td>6862902.938</td>\n",
       "      <td>12910.000</td>\n",
       "      <td>0.000</td>\n",
       "      <td>0.000</td>\n",
       "      <td>...</td>\n",
       "      <td>0.000</td>\n",
       "      <td>s0</td>\n",
       "      <td>0</td>\n",
       "      <td>47</td>\n",
       "      <td>True</td>\n",
       "      <td>female</td>\n",
       "      <td>6</td>\n",
       "      <td>True</td>\n",
       "      <td>False</td>\n",
       "      <td>1</td>\n",
       "    </tr>\n",
       "    <tr>\n",
       "      <th>2</th>\n",
       "      <td>11230911</td>\n",
       "      <td>0</td>\n",
       "      <td>0</td>\n",
       "      <td>652077.354</td>\n",
       "      <td>6881310.427</td>\n",
       "      <td>652077.354</td>\n",
       "      <td>6881310.427</td>\n",
       "      <td>13089.000</td>\n",
       "      <td>0.000</td>\n",
       "      <td>0.000</td>\n",
       "      <td>...</td>\n",
       "      <td>0.000</td>\n",
       "      <td>s0</td>\n",
       "      <td>0</td>\n",
       "      <td>57</td>\n",
       "      <td>True</td>\n",
       "      <td>male</td>\n",
       "      <td>6</td>\n",
       "      <td>True</td>\n",
       "      <td>False</td>\n",
       "      <td>6</td>\n",
       "    </tr>\n",
       "  </tbody>\n",
       "</table>\n",
       "<p>3 rows × 22 columns</p>\n",
       "</div>"
      ],
      "text/plain": [
       "   person_id  person_trip_id  leg_index   origin_x    origin_y  destination_x  \\\n",
       "0    3927147               0          0 605885.158 6876583.554     605885.158   \n",
       "1    2532319               0          0 664326.598 6862902.938     664326.598   \n",
       "2   11230911               0          0 652077.354 6881310.427     652077.354   \n",
       "\n",
       "   destination_y  departure_time  travel_time  vehicle_distance  ...  \\\n",
       "0    6876583.554       12757.000        0.000             0.000  ...   \n",
       "1    6862902.938       12910.000        0.000             0.000  ...   \n",
       "2    6881310.427       13089.000        0.000             0.000  ...   \n",
       "\n",
       "   euclidean_distance scen  group age  employed     sex  \\\n",
       "0               0.000   s0      0  58     False    male   \n",
       "1               0.000   s0      0  47      True  female   \n",
       "2               0.000   s0      0  57      True    male   \n",
       "\n",
       "   socioprofessional_class has_driving_license  has_pt_subscription  persona  \n",
       "0                        6                True                False       15  \n",
       "1                        6                True                False        1  \n",
       "2                        6                True                False        6  \n",
       "\n",
       "[3 rows x 22 columns]"
      ]
     },
     "execution_count": 407,
     "metadata": {},
     "output_type": "execute_result"
    }
   ],
   "source": [
    "# df.head(3)"
   ]
  },
  {
   "cell_type": "markdown",
   "id": "87d9ecae",
   "metadata": {},
   "source": [
    "### Add 1 for trips starting or ending in CPS, 0 otherwise"
   ]
  },
  {
   "cell_type": "code",
   "execution_count": 410,
   "id": "105b4b6b",
   "metadata": {},
   "outputs": [],
   "source": [
    "# # Load the shapefile containing individual shapes\n",
    "# cps = gpd.read_file(\"data/raw/spatial/cps.shp\")"
   ]
  },
  {
   "cell_type": "code",
   "execution_count": 411,
   "id": "0993ba34",
   "metadata": {},
   "outputs": [],
   "source": [
    "# origin_geo_df = gpd.GeoDataFrame(df, geometry=gpd.points_from_xy(df.origin_x, df.origin_y))\n",
    "# destination_geo_df = gpd.GeoDataFrame(df, geometry=gpd.points_from_xy(df.destination_x, df.destination_y))\n",
    "\n",
    "# # Set CRS to RGF93 / Lambert-93 (EPSG code 2154)\n",
    "\n",
    "# origin_geo_df.set_crs(epsg=2154, inplace=True)\n",
    "# destination_geo_df.set_crs(epsg=2154, inplace=True)\n",
    "\n",
    "# # Now, we check if these points exist within your shapefile\n",
    "# df['origin_in_cps'] = origin_geo_df['geometry'].apply(lambda x: cps.contains(x).any())\n",
    "# df['dest_in_cps'] = destination_geo_df['geometry'].apply(lambda x: cps.contains(x).any())"
   ]
  },
  {
   "cell_type": "code",
   "execution_count": 412,
   "id": "35ec50ef",
   "metadata": {
    "scrolled": true
   },
   "outputs": [
    {
     "data": {
      "text/html": [
       "<div>\n",
       "<style scoped>\n",
       "    .dataframe tbody tr th:only-of-type {\n",
       "        vertical-align: middle;\n",
       "    }\n",
       "\n",
       "    .dataframe tbody tr th {\n",
       "        vertical-align: top;\n",
       "    }\n",
       "\n",
       "    .dataframe thead th {\n",
       "        text-align: right;\n",
       "    }\n",
       "</style>\n",
       "<table border=\"1\" class=\"dataframe\">\n",
       "  <thead>\n",
       "    <tr style=\"text-align: right;\">\n",
       "      <th></th>\n",
       "      <th>person_id</th>\n",
       "      <th>person_trip_id</th>\n",
       "      <th>leg_index</th>\n",
       "      <th>origin_x</th>\n",
       "      <th>origin_y</th>\n",
       "      <th>destination_x</th>\n",
       "      <th>destination_y</th>\n",
       "      <th>departure_time</th>\n",
       "      <th>travel_time</th>\n",
       "      <th>vehicle_distance</th>\n",
       "      <th>...</th>\n",
       "      <th>scen</th>\n",
       "      <th>group</th>\n",
       "      <th>age</th>\n",
       "      <th>employed</th>\n",
       "      <th>sex</th>\n",
       "      <th>socioprofessional_class</th>\n",
       "      <th>has_driving_license</th>\n",
       "      <th>has_pt_subscription</th>\n",
       "      <th>persona</th>\n",
       "      <th>cps</th>\n",
       "    </tr>\n",
       "  </thead>\n",
       "  <tbody>\n",
       "    <tr>\n",
       "      <th>0</th>\n",
       "      <td>3927147</td>\n",
       "      <td>0</td>\n",
       "      <td>0</td>\n",
       "      <td>605885.158</td>\n",
       "      <td>6876583.554</td>\n",
       "      <td>605885.158</td>\n",
       "      <td>6876583.554</td>\n",
       "      <td>12757.000</td>\n",
       "      <td>0.000</td>\n",
       "      <td>0.000</td>\n",
       "      <td>...</td>\n",
       "      <td>s0</td>\n",
       "      <td>0</td>\n",
       "      <td>58</td>\n",
       "      <td>False</td>\n",
       "      <td>male</td>\n",
       "      <td>6</td>\n",
       "      <td>True</td>\n",
       "      <td>False</td>\n",
       "      <td>15</td>\n",
       "      <td>False</td>\n",
       "    </tr>\n",
       "    <tr>\n",
       "      <th>1</th>\n",
       "      <td>2532319</td>\n",
       "      <td>0</td>\n",
       "      <td>0</td>\n",
       "      <td>664326.598</td>\n",
       "      <td>6862902.938</td>\n",
       "      <td>664326.598</td>\n",
       "      <td>6862902.938</td>\n",
       "      <td>12910.000</td>\n",
       "      <td>0.000</td>\n",
       "      <td>0.000</td>\n",
       "      <td>...</td>\n",
       "      <td>s0</td>\n",
       "      <td>0</td>\n",
       "      <td>47</td>\n",
       "      <td>True</td>\n",
       "      <td>female</td>\n",
       "      <td>6</td>\n",
       "      <td>True</td>\n",
       "      <td>False</td>\n",
       "      <td>1</td>\n",
       "      <td>False</td>\n",
       "    </tr>\n",
       "    <tr>\n",
       "      <th>2</th>\n",
       "      <td>11230911</td>\n",
       "      <td>0</td>\n",
       "      <td>0</td>\n",
       "      <td>652077.354</td>\n",
       "      <td>6881310.427</td>\n",
       "      <td>652077.354</td>\n",
       "      <td>6881310.427</td>\n",
       "      <td>13089.000</td>\n",
       "      <td>0.000</td>\n",
       "      <td>0.000</td>\n",
       "      <td>...</td>\n",
       "      <td>s0</td>\n",
       "      <td>0</td>\n",
       "      <td>57</td>\n",
       "      <td>True</td>\n",
       "      <td>male</td>\n",
       "      <td>6</td>\n",
       "      <td>True</td>\n",
       "      <td>False</td>\n",
       "      <td>6</td>\n",
       "      <td>False</td>\n",
       "    </tr>\n",
       "  </tbody>\n",
       "</table>\n",
       "<p>3 rows × 23 columns</p>\n",
       "</div>"
      ],
      "text/plain": [
       "   person_id  person_trip_id  leg_index   origin_x    origin_y  destination_x  \\\n",
       "0    3927147               0          0 605885.158 6876583.554     605885.158   \n",
       "1    2532319               0          0 664326.598 6862902.938     664326.598   \n",
       "2   11230911               0          0 652077.354 6881310.427     652077.354   \n",
       "\n",
       "   destination_y  departure_time  travel_time  vehicle_distance  ...  scen  \\\n",
       "0    6876583.554       12757.000        0.000             0.000  ...    s0   \n",
       "1    6862902.938       12910.000        0.000             0.000  ...    s0   \n",
       "2    6881310.427       13089.000        0.000             0.000  ...    s0   \n",
       "\n",
       "  group  age employed     sex  socioprofessional_class  has_driving_license  \\\n",
       "0     0   58    False    male                        6                 True   \n",
       "1     0   47     True  female                        6                 True   \n",
       "2     0   57     True    male                        6                 True   \n",
       "\n",
       "  has_pt_subscription  persona    cps  \n",
       "0               False       15  False  \n",
       "1               False        1  False  \n",
       "2               False        6  False  \n",
       "\n",
       "[3 rows x 23 columns]"
      ]
     },
     "execution_count": 412,
     "metadata": {},
     "output_type": "execute_result"
    }
   ],
   "source": [
    "# df['cps'] = df['origin_in_cps'] | df['dest_in_cps']\n",
    "# df = df.drop(['geometry','origin_in_cps', 'dest_in_cps'], axis=1)\n",
    "# df.head(3)"
   ]
  },
  {
   "cell_type": "code",
   "execution_count": 413,
   "id": "0940d2ec",
   "metadata": {},
   "outputs": [
    {
     "data": {
      "text/plain": [
       "False    6404474\n",
       "True      163480\n",
       "Name: cps, dtype: int64"
      ]
     },
     "execution_count": 413,
     "metadata": {},
     "output_type": "execute_result"
    }
   ],
   "source": [
    "# df['cps'].value_counts()"
   ]
  },
  {
   "cell_type": "markdown",
   "id": "48d56242",
   "metadata": {},
   "source": [
    "## Data cleaning"
   ]
  },
  {
   "cell_type": "code",
   "execution_count": 414,
   "id": "a95d5e20",
   "metadata": {},
   "outputs": [],
   "source": [
    "# #rename values where necessary\n",
    "# df['mode'] = df['mode'].replace({'car': 'Car', 'walk': 'Walk', 'car_passenger': 'Passenger', 'bike': 'Bike', 'pt': 'Public Transport', 'drt': 'SAEV'})"
   ]
  },
  {
   "cell_type": "code",
   "execution_count": 415,
   "id": "20852351",
   "metadata": {},
   "outputs": [],
   "source": [
    "# # delete where no travel time or no routed distance\n",
    "# df = df[(df['travel_time'] >= 1) & (df['routed_distance'] >= 1)]"
   ]
  },
  {
   "cell_type": "markdown",
   "id": "4748fea5",
   "metadata": {},
   "source": [
    "# EXPORT & IMPORT PREVIOUS STEPS"
   ]
  },
  {
   "cell_type": "code",
   "execution_count": 416,
   "id": "0bcbd02d",
   "metadata": {},
   "outputs": [],
   "source": [
    "# df.to_csv(\"data/interim/analysis-basis.csv\", index=False)"
   ]
  },
  {
   "cell_type": "code",
   "execution_count": 11,
   "id": "b24af05b",
   "metadata": {},
   "outputs": [],
   "source": [
    "df = pd.read_csv(\"data/interim/analysis-basis.csv\")"
   ]
  },
  {
   "cell_type": "code",
   "execution_count": 12,
   "id": "166b7acd",
   "metadata": {},
   "outputs": [
    {
     "data": {
      "text/html": [
       "<div>\n",
       "<style scoped>\n",
       "    .dataframe tbody tr th:only-of-type {\n",
       "        vertical-align: middle;\n",
       "    }\n",
       "\n",
       "    .dataframe tbody tr th {\n",
       "        vertical-align: top;\n",
       "    }\n",
       "\n",
       "    .dataframe thead th {\n",
       "        text-align: right;\n",
       "    }\n",
       "</style>\n",
       "<table border=\"1\" class=\"dataframe\">\n",
       "  <thead>\n",
       "    <tr style=\"text-align: right;\">\n",
       "      <th></th>\n",
       "      <th>person_id</th>\n",
       "      <th>person_trip_id</th>\n",
       "      <th>leg_index</th>\n",
       "      <th>origin_x</th>\n",
       "      <th>origin_y</th>\n",
       "      <th>destination_x</th>\n",
       "      <th>destination_y</th>\n",
       "      <th>departure_time</th>\n",
       "      <th>travel_time</th>\n",
       "      <th>vehicle_distance</th>\n",
       "      <th>...</th>\n",
       "      <th>scen</th>\n",
       "      <th>group</th>\n",
       "      <th>age</th>\n",
       "      <th>employed</th>\n",
       "      <th>sex</th>\n",
       "      <th>socioprofessional_class</th>\n",
       "      <th>has_driving_license</th>\n",
       "      <th>has_pt_subscription</th>\n",
       "      <th>persona</th>\n",
       "      <th>cps</th>\n",
       "    </tr>\n",
       "  </thead>\n",
       "  <tbody>\n",
       "    <tr>\n",
       "      <th>0</th>\n",
       "      <td>4387344</td>\n",
       "      <td>0</td>\n",
       "      <td>0</td>\n",
       "      <td>634504.435</td>\n",
       "      <td>6866521.784</td>\n",
       "      <td>635049.607</td>\n",
       "      <td>6865966.686</td>\n",
       "      <td>12838.000</td>\n",
       "      <td>334.000</td>\n",
       "      <td>1415.206</td>\n",
       "      <td>...</td>\n",
       "      <td>s0</td>\n",
       "      <td>0</td>\n",
       "      <td>36</td>\n",
       "      <td>True</td>\n",
       "      <td>male</td>\n",
       "      <td>2</td>\n",
       "      <td>True</td>\n",
       "      <td>False</td>\n",
       "      <td>9</td>\n",
       "      <td>False</td>\n",
       "    </tr>\n",
       "    <tr>\n",
       "      <th>1</th>\n",
       "      <td>10928076</td>\n",
       "      <td>0</td>\n",
       "      <td>0</td>\n",
       "      <td>635914.835</td>\n",
       "      <td>6878041.201</td>\n",
       "      <td>637813.318</td>\n",
       "      <td>6877916.151</td>\n",
       "      <td>12740.000</td>\n",
       "      <td>520.000</td>\n",
       "      <td>2722.114</td>\n",
       "      <td>...</td>\n",
       "      <td>s0</td>\n",
       "      <td>0</td>\n",
       "      <td>36</td>\n",
       "      <td>True</td>\n",
       "      <td>male</td>\n",
       "      <td>6</td>\n",
       "      <td>True</td>\n",
       "      <td>False</td>\n",
       "      <td>11</td>\n",
       "      <td>False</td>\n",
       "    </tr>\n",
       "    <tr>\n",
       "      <th>2</th>\n",
       "      <td>7926032</td>\n",
       "      <td>0</td>\n",
       "      <td>0</td>\n",
       "      <td>663087.624</td>\n",
       "      <td>6866492.911</td>\n",
       "      <td>663329.988</td>\n",
       "      <td>6866725.611</td>\n",
       "      <td>13097.000</td>\n",
       "      <td>167.000</td>\n",
       "      <td>682.521</td>\n",
       "      <td>...</td>\n",
       "      <td>s0</td>\n",
       "      <td>0</td>\n",
       "      <td>22</td>\n",
       "      <td>True</td>\n",
       "      <td>male</td>\n",
       "      <td>5</td>\n",
       "      <td>True</td>\n",
       "      <td>False</td>\n",
       "      <td>3</td>\n",
       "      <td>False</td>\n",
       "    </tr>\n",
       "  </tbody>\n",
       "</table>\n",
       "<p>3 rows × 23 columns</p>\n",
       "</div>"
      ],
      "text/plain": [
       "   person_id  person_trip_id  leg_index   origin_x    origin_y  destination_x  \\\n",
       "0    4387344               0          0 634504.435 6866521.784     635049.607   \n",
       "1   10928076               0          0 635914.835 6878041.201     637813.318   \n",
       "2    7926032               0          0 663087.624 6866492.911     663329.988   \n",
       "\n",
       "   destination_y  departure_time  travel_time  vehicle_distance  ...  scen  \\\n",
       "0    6865966.686       12838.000      334.000          1415.206  ...    s0   \n",
       "1    6877916.151       12740.000      520.000          2722.114  ...    s0   \n",
       "2    6866725.611       13097.000      167.000           682.521  ...    s0   \n",
       "\n",
       "  group  age employed   sex  socioprofessional_class  has_driving_license  \\\n",
       "0     0   36     True  male                        2                 True   \n",
       "1     0   36     True  male                        6                 True   \n",
       "2     0   22     True  male                        5                 True   \n",
       "\n",
       "  has_pt_subscription  persona    cps  \n",
       "0               False        9  False  \n",
       "1               False       11  False  \n",
       "2               False        3  False  \n",
       "\n",
       "[3 rows x 23 columns]"
      ]
     },
     "execution_count": 12,
     "metadata": {},
     "output_type": "execute_result"
    }
   ],
   "source": [
    "df.head(3)"
   ]
  },
  {
   "cell_type": "markdown",
   "id": "24849593",
   "metadata": {},
   "source": [
    "## Average leg duration"
   ]
  },
  {
   "cell_type": "code",
   "execution_count": 418,
   "id": "e37ba486",
   "metadata": {},
   "outputs": [
    {
     "name": "stderr",
     "output_type": "stream",
     "text": [
      "/var/folders/93/smcvnv_s04v84f_dnqvd4xkw0000gn/T/ipykernel_41393/1098185633.py:2: FutureWarning: The default value of numeric_only in DataFrameGroupBy.mean is deprecated. In a future version, numeric_only will default to False. Either specify numeric_only or select only columns which should be valid for the function.\n",
      "  df_mean = df.groupby(['persona','group'], as_index=False).mean()\n"
     ]
    }
   ],
   "source": [
    "# Calculate the average departure time for each persona\n",
    "df_mean = df.groupby(['persona','group'], as_index=False).mean()\n",
    "df_mean['travel_time'] = df_mean['travel_time']/60\n",
    "df_mean['routed_distance'] = df_mean['routed_distance']/1000"
   ]
  },
  {
   "cell_type": "code",
   "execution_count": 419,
   "id": "9c67e58b",
   "metadata": {},
   "outputs": [
    {
     "data": {
      "text/html": [
       "<div>\n",
       "<style scoped>\n",
       "    .dataframe tbody tr th:only-of-type {\n",
       "        vertical-align: middle;\n",
       "    }\n",
       "\n",
       "    .dataframe tbody tr th {\n",
       "        vertical-align: top;\n",
       "    }\n",
       "\n",
       "    .dataframe thead th {\n",
       "        text-align: right;\n",
       "    }\n",
       "</style>\n",
       "<table border=\"1\" class=\"dataframe\">\n",
       "  <thead>\n",
       "    <tr style=\"text-align: right;\">\n",
       "      <th></th>\n",
       "      <th>persona</th>\n",
       "      <th>group</th>\n",
       "      <th>person_id</th>\n",
       "      <th>person_trip_id</th>\n",
       "      <th>leg_index</th>\n",
       "      <th>origin_x</th>\n",
       "      <th>origin_y</th>\n",
       "      <th>destination_x</th>\n",
       "      <th>destination_y</th>\n",
       "      <th>departure_time</th>\n",
       "      <th>travel_time</th>\n",
       "      <th>vehicle_distance</th>\n",
       "      <th>routed_distance</th>\n",
       "      <th>euclidean_distance</th>\n",
       "      <th>age</th>\n",
       "      <th>employed</th>\n",
       "      <th>socioprofessional_class</th>\n",
       "      <th>has_driving_license</th>\n",
       "      <th>has_pt_subscription</th>\n",
       "      <th>cps</th>\n",
       "    </tr>\n",
       "  </thead>\n",
       "  <tbody>\n",
       "    <tr>\n",
       "      <th>0</th>\n",
       "      <td>0</td>\n",
       "      <td>0</td>\n",
       "      <td>6057002.348</td>\n",
       "      <td>1.518</td>\n",
       "      <td>3.899</td>\n",
       "      <td>652035.907</td>\n",
       "      <td>6860120.119</td>\n",
       "      <td>652035.081</td>\n",
       "      <td>6860125.805</td>\n",
       "      <td>49523.379</td>\n",
       "      <td>11.971</td>\n",
       "      <td>268.425</td>\n",
       "      <td>2.863</td>\n",
       "      <td>2026.185</td>\n",
       "      <td>12.113</td>\n",
       "      <td>0.009</td>\n",
       "      <td>7.906</td>\n",
       "      <td>0.116</td>\n",
       "      <td>0.382</td>\n",
       "      <td>0.024</td>\n",
       "    </tr>\n",
       "    <tr>\n",
       "      <th>1</th>\n",
       "      <td>0</td>\n",
       "      <td>1</td>\n",
       "      <td>6919712.373</td>\n",
       "      <td>1.504</td>\n",
       "      <td>4.020</td>\n",
       "      <td>652659.784</td>\n",
       "      <td>6859944.384</td>\n",
       "      <td>652656.421</td>\n",
       "      <td>6859946.820</td>\n",
       "      <td>49247.715</td>\n",
       "      <td>12.141</td>\n",
       "      <td>232.676</td>\n",
       "      <td>2.982</td>\n",
       "      <td>2120.206</td>\n",
       "      <td>11.957</td>\n",
       "      <td>0.008</td>\n",
       "      <td>7.897</td>\n",
       "      <td>0.106</td>\n",
       "      <td>0.374</td>\n",
       "      <td>0.029</td>\n",
       "    </tr>\n",
       "    <tr>\n",
       "      <th>2</th>\n",
       "      <td>0</td>\n",
       "      <td>2</td>\n",
       "      <td>6926271.383</td>\n",
       "      <td>1.505</td>\n",
       "      <td>3.979</td>\n",
       "      <td>652674.261</td>\n",
       "      <td>6859993.981</td>\n",
       "      <td>652670.677</td>\n",
       "      <td>6859994.778</td>\n",
       "      <td>49212.570</td>\n",
       "      <td>12.102</td>\n",
       "      <td>1501.781</td>\n",
       "      <td>2.967</td>\n",
       "      <td>2107.274</td>\n",
       "      <td>11.957</td>\n",
       "      <td>0.008</td>\n",
       "      <td>7.896</td>\n",
       "      <td>0.107</td>\n",
       "      <td>0.374</td>\n",
       "      <td>0.027</td>\n",
       "    </tr>\n",
       "  </tbody>\n",
       "</table>\n",
       "</div>"
      ],
      "text/plain": [
       "   persona  group   person_id  person_trip_id  leg_index   origin_x  \\\n",
       "0        0      0 6057002.348           1.518      3.899 652035.907   \n",
       "1        0      1 6919712.373           1.504      4.020 652659.784   \n",
       "2        0      2 6926271.383           1.505      3.979 652674.261   \n",
       "\n",
       "     origin_y  destination_x  destination_y  departure_time  travel_time  \\\n",
       "0 6860120.119     652035.081    6860125.805       49523.379       11.971   \n",
       "1 6859944.384     652656.421    6859946.820       49247.715       12.141   \n",
       "2 6859993.981     652670.677    6859994.778       49212.570       12.102   \n",
       "\n",
       "   vehicle_distance  routed_distance  euclidean_distance    age  employed  \\\n",
       "0           268.425            2.863            2026.185 12.113     0.009   \n",
       "1           232.676            2.982            2120.206 11.957     0.008   \n",
       "2          1501.781            2.967            2107.274 11.957     0.008   \n",
       "\n",
       "   socioprofessional_class  has_driving_license  has_pt_subscription   cps  \n",
       "0                    7.906                0.116                0.382 0.024  \n",
       "1                    7.897                0.106                0.374 0.029  \n",
       "2                    7.896                0.107                0.374 0.027  "
      ]
     },
     "execution_count": 419,
     "metadata": {},
     "output_type": "execute_result"
    }
   ],
   "source": [
    "df_mean.head(3)"
   ]
  },
  {
   "cell_type": "code",
   "execution_count": 131,
   "id": "ff930f91",
   "metadata": {
    "scrolled": true
   },
   "outputs": [
    {
     "data": {
      "image/png": "[encoded data removed]",
      "text/plain": [
       "<Figure size 432x288 with 1 Axes>"
      ]
     },
     "metadata": {
      "needs_background": "light"
     },
     "output_type": "display_data"
    }
   ],
   "source": [
    "# Set the color palette to shades of blue\n",
    "sns.set_palette(\"Blues\")\n",
    "\n",
    "# Create bar chart with hue = 'group' and y = mean travel_time\n",
    "ax = sns.barplot(x=\"persona\", y=\"travel_time\", hue='group', data=df_mean)\n",
    "\n",
    "# Set the y-axis limits to only show values between 20 and 30\n",
    "ax.set_ylim(12, 20)\n",
    "\n",
    "# Add title\n",
    "ax.set_title(\"Average leg duration by persona\")\n",
    "\n",
    "# Change the name of the 'group' variable in the legend\n",
    "ax.legend(title='Simulation Group', labels=['Today', '2030 without MoD', '2030 with MoD'])\n",
    "\n",
    "# Add x and y axis titles\n",
    "ax.set(xlabel=\"Persona\", ylabel=\"Average leg duration in minutes\")\n",
    "\n",
    "# Format x-axis labels as integers\n",
    "ax.set_xticklabels([round(float(label.get_text())) for label in ax.get_xticklabels()], rotation=0, ha=\"center\", fontsize=12)\n",
    "\n",
    "# Set default figure size using rcParams\n",
    "mpl.rcParams['figure.figsize'] = [20, 6]\n",
    "\n",
    "# Show plot\n",
    "plt.show()\n"
   ]
  },
  {
   "cell_type": "markdown",
   "id": "ccc5c8a5",
   "metadata": {},
   "source": [
    "## Average trip distance by persona"
   ]
  },
  {
   "cell_type": "code",
   "execution_count": 132,
   "id": "fd4c49ce",
   "metadata": {},
   "outputs": [
    {
     "data": {
      "image/png": "[encoded data removed]",
      "text/plain": [
       "<Figure size 1440x432 with 1 Axes>"
      ]
     },
     "metadata": {
      "needs_background": "light"
     },
     "output_type": "display_data"
    }
   ],
   "source": [
    "# Set the color palette to shades of blue\n",
    "sns.set_palette(\"Blues\")\n",
    "\n",
    "# Create bar chart with hue = 'group' and y = mean travel_time\n",
    "ax = sns.barplot(x=\"persona\", y=\"routed_distance\", hue='group', data=df_mean)\n",
    "\n",
    "# Set the y-axis limits to only show values between 20 and 30\n",
    "ax.set_ylim(2.5, 5)\n",
    "\n",
    "# Add title\n",
    "ax.set_title(\"Average trip distance by persona\")\n",
    "\n",
    "# Change the name of the 'group' variable in the legend\n",
    "ax.legend(title='Simulation Group', labels=['Today', '2030 without MoD', '2030 with MoD'])\n",
    "\n",
    "# Add x and y axis titles\n",
    "ax.set(xlabel=\"Persona\", ylabel=\"Average trip distance in km\")\n",
    "\n",
    "# Format x-axis labels as integers\n",
    "ax.set_xticklabels([round(float(label.get_text())) for label in ax.get_xticklabels()], rotation=0, ha=\"center\", fontsize=12)\n",
    "\n",
    "# Set default figure size using rcParams\n",
    "mpl.rcParams['figure.figsize'] = [15, 6]\n",
    "\n",
    "# Show plot\n",
    "plt.show()\n"
   ]
  },
  {
   "cell_type": "markdown",
   "id": "3ec0c038",
   "metadata": {},
   "source": [
    "## Average trip distance"
   ]
  },
  {
   "cell_type": "code",
   "execution_count": 133,
   "id": "ecb19775",
   "metadata": {
    "scrolled": true
   },
   "outputs": [
    {
     "data": {
      "image/png": "[encoded data removed]",
      "text/plain": [
       "<Figure size 1080x432 with 1 Axes>"
      ]
     },
     "metadata": {
      "needs_background": "light"
     },
     "output_type": "display_data"
    }
   ],
   "source": [
    "# Set the color palette to shades of blue\n",
    "sns.set_palette(\"Blues\")\n",
    "\n",
    "# Create bar chart with hue = 'group' and y = mean travel_time\n",
    "ax = sns.barplot(x=\"group\", y=\"routed_distance\", data=df_mean)\n",
    "\n",
    "# Set the y-axis limits to only show values between 20 and 30\n",
    "ax.set_ylim(0, 5)\n",
    "\n",
    "# Add title\n",
    "ax.set_title(\"Average trip distance\")\n",
    "\n",
    "# Change the name of the 'group' variable in the legend\n",
    "ax.legend(title='Simulation Group', labels=['Today', '2030 without MoD', '2030 with MoD'])\n",
    "\n",
    "# Add x and y axis titles\n",
    "ax.set(xlabel=\"Simulation Group\", ylabel=\"Average leg distance in km\")\n",
    "\n",
    "# Format x-axis labels as integers\n",
    "ax.set_xticklabels([round(float(label.get_text())) for label in ax.get_xticklabels()], rotation=0, ha=\"center\", fontsize=12)\n",
    "\n",
    "# Set default figure size using rcParams\n",
    "mpl.rcParams['figure.figsize'] = [8, 2]\n",
    "\n",
    "# Show plot\n",
    "plt.show()\n"
   ]
  },
  {
   "cell_type": "code",
   "execution_count": 134,
   "id": "1a5c35d2",
   "metadata": {},
   "outputs": [],
   "source": [
    "df_sum = df.groupby(['mode','scen','persona'], as_index=False).sum()"
   ]
  },
  {
   "cell_type": "code",
   "execution_count": 135,
   "id": "308920bd",
   "metadata": {},
   "outputs": [],
   "source": [
    "# #  calculaye average speed\n",
    "df['avg_speed'] = df['routed_distance']/df['travel_time']*3.6"
   ]
  },
  {
   "cell_type": "code",
   "execution_count": 136,
   "id": "c8c0aea4",
   "metadata": {},
   "outputs": [],
   "source": [
    "df_speed = df.groupby(['mode','scen','persona'], as_index=False).sum()"
   ]
  },
  {
   "cell_type": "markdown",
   "id": "753a81dc",
   "metadata": {},
   "source": [
    "## Average speed per mode"
   ]
  },
  {
   "cell_type": "code",
   "execution_count": 137,
   "id": "3ddd39b4",
   "metadata": {},
   "outputs": [
    {
     "data": {
      "image/png": "[encoded data removed]",
      "text/plain": [
       "<Figure size 576x144 with 1 Axes>"
      ]
     },
     "metadata": {
      "needs_background": "light"
     },
     "output_type": "display_data"
    }
   ],
   "source": [
    "# Set the color palette to shades of blue\n",
    "sns.set_palette(\"Blues\")\n",
    "\n",
    "# Create bar chart with hue = 'group' and y = mean travel_time\n",
    "ax = sns.barplot(x=\"mode\", y=\"avg_speed\", data=df)\n",
    "\n",
    "# Set the y-axis limits to only show values between 20 and 30\n",
    "ax.set_ylim(0, 50)\n",
    "\n",
    "# Add title\n",
    "ax.set_title(\"Average speed per mode\")\n",
    "\n",
    "# Add x and y axis titles\n",
    "ax.set(xlabel=\"Mode\", ylabel=\"Average speed in kmh\")\n",
    "\n",
    "# Format x-axis labels as integers\n",
    "ax.set_xticklabels([label.get_text() for label in ax.get_xticklabels()], rotation=0, ha=\"center\", fontsize=12)\n",
    "\n",
    "# Set default figure size using rcParams\n",
    "mpl.rcParams['figure.figsize'] = [16, 5]\n",
    "\n",
    "# Show plot\n",
    "plt.show()\n"
   ]
  },
  {
   "cell_type": "markdown",
   "id": "4b0b3c73",
   "metadata": {},
   "source": [
    "## Emissions calculations"
   ]
  },
  {
   "cell_type": "code",
   "execution_count": 420,
   "id": "0234b96c",
   "metadata": {
    "scrolled": true
   },
   "outputs": [
    {
     "name": "stderr",
     "output_type": "stream",
     "text": [
      "/var/folders/93/smcvnv_s04v84f_dnqvd4xkw0000gn/T/ipykernel_41393/1670151180.py:1: FutureWarning: The default value of numeric_only in DataFrameGroupBy.sum is deprecated. In a future version, numeric_only will default to False. Either specify numeric_only or select only columns which should be valid for the function.\n",
      "  df_emis = df.groupby(['group','mode','scen','persona'], as_index=False).sum()\n",
      "/var/folders/93/smcvnv_s04v84f_dnqvd4xkw0000gn/T/ipykernel_41393/1670151180.py:2: FutureWarning: The default value of numeric_only in DataFrameGroupBy.sum is deprecated. In a future version, numeric_only will default to False. Either specify numeric_only or select only columns which should be valid for the function.\n",
      "  df_emis_sum = df.groupby(['group','scen','persona'], as_index=False).sum()\n"
     ]
    }
   ],
   "source": [
    "df_emis = df.groupby(['group','mode','scen','persona'], as_index=False).sum()\n",
    "df_emis_sum = df.groupby(['group','scen','persona'], as_index=False).sum()\n",
    "\n",
    "merged_df = pd.merge(df_emis, df_emis_sum, on=['group','scen', 'persona'], how='left')"
   ]
  },
  {
   "cell_type": "code",
   "execution_count": 421,
   "id": "69ea5d5d",
   "metadata": {},
   "outputs": [],
   "source": [
    "merged_df['modal_shift'] = merged_df['routed_distance_x']/merged_df['routed_distance_y']"
   ]
  },
  {
   "cell_type": "code",
   "execution_count": 422,
   "id": "56a17685",
   "metadata": {},
   "outputs": [],
   "source": [
    "modal_shift = merged_df.groupby(['mode','scen','persona'], as_index=False).sum()"
   ]
  },
  {
   "cell_type": "code",
   "execution_count": 423,
   "id": "0b7318fb",
   "metadata": {},
   "outputs": [
    {
     "data": {
      "text/html": [
       "<div>\n",
       "<style scoped>\n",
       "    .dataframe tbody tr th:only-of-type {\n",
       "        vertical-align: middle;\n",
       "    }\n",
       "\n",
       "    .dataframe tbody tr th {\n",
       "        vertical-align: top;\n",
       "    }\n",
       "\n",
       "    .dataframe thead th {\n",
       "        text-align: right;\n",
       "    }\n",
       "</style>\n",
       "<table border=\"1\" class=\"dataframe\">\n",
       "  <thead>\n",
       "    <tr style=\"text-align: right;\">\n",
       "      <th></th>\n",
       "      <th>mode</th>\n",
       "      <th>scen</th>\n",
       "      <th>persona</th>\n",
       "      <th>group</th>\n",
       "      <th>person_id_x</th>\n",
       "      <th>person_trip_id_x</th>\n",
       "      <th>leg_index_x</th>\n",
       "      <th>origin_x_x</th>\n",
       "      <th>origin_y_x</th>\n",
       "      <th>destination_x_x</th>\n",
       "      <th>...</th>\n",
       "      <th>vehicle_distance_y</th>\n",
       "      <th>routed_distance_y</th>\n",
       "      <th>euclidean_distance_y</th>\n",
       "      <th>age_y</th>\n",
       "      <th>employed_y</th>\n",
       "      <th>socioprofessional_class_y</th>\n",
       "      <th>has_driving_license_y</th>\n",
       "      <th>has_pt_subscription_y</th>\n",
       "      <th>cps_y</th>\n",
       "      <th>modal_shift</th>\n",
       "    </tr>\n",
       "  </thead>\n",
       "  <tbody>\n",
       "    <tr>\n",
       "      <th>0</th>\n",
       "      <td>Bike</td>\n",
       "      <td>s0</td>\n",
       "      <td>0</td>\n",
       "      <td>0</td>\n",
       "      <td>7400385638</td>\n",
       "      <td>2039</td>\n",
       "      <td>2597</td>\n",
       "      <td>996079343.935</td>\n",
       "      <td>10456496304.859</td>\n",
       "      <td>996027046.981</td>\n",
       "      <td>...</td>\n",
       "      <td>13302887.855</td>\n",
       "      <td>141907923.331</td>\n",
       "      <td>100415702.955</td>\n",
       "      <td>600288</td>\n",
       "      <td>455</td>\n",
       "      <td>391834</td>\n",
       "      <td>5765</td>\n",
       "      <td>18954</td>\n",
       "      <td>1210</td>\n",
       "      <td>0.053</td>\n",
       "    </tr>\n",
       "    <tr>\n",
       "      <th>1</th>\n",
       "      <td>Bike</td>\n",
       "      <td>s0</td>\n",
       "      <td>1</td>\n",
       "      <td>0</td>\n",
       "      <td>751337681</td>\n",
       "      <td>571</td>\n",
       "      <td>937</td>\n",
       "      <td>148582260.315</td>\n",
       "      <td>1564385368.310</td>\n",
       "      <td>148574585.769</td>\n",
       "      <td>...</td>\n",
       "      <td>121139989.185</td>\n",
       "      <td>231771560.889</td>\n",
       "      <td>162422118.371</td>\n",
       "      <td>2416080</td>\n",
       "      <td>57349</td>\n",
       "      <td>229017</td>\n",
       "      <td>45436</td>\n",
       "      <td>31396</td>\n",
       "      <td>889</td>\n",
       "      <td>0.006</td>\n",
       "    </tr>\n",
       "    <tr>\n",
       "      <th>2</th>\n",
       "      <td>Bike</td>\n",
       "      <td>s0</td>\n",
       "      <td>2</td>\n",
       "      <td>0</td>\n",
       "      <td>332686209</td>\n",
       "      <td>138</td>\n",
       "      <td>238</td>\n",
       "      <td>44787269.154</td>\n",
       "      <td>466032774.013</td>\n",
       "      <td>44784721.920</td>\n",
       "      <td>...</td>\n",
       "      <td>144690718.314</td>\n",
       "      <td>206490803.680</td>\n",
       "      <td>132008714.280</td>\n",
       "      <td>3460713</td>\n",
       "      <td>127</td>\n",
       "      <td>345175</td>\n",
       "      <td>45625</td>\n",
       "      <td>13307</td>\n",
       "      <td>1707</td>\n",
       "      <td>0.003</td>\n",
       "    </tr>\n",
       "    <tr>\n",
       "      <th>3</th>\n",
       "      <td>Bike</td>\n",
       "      <td>s0</td>\n",
       "      <td>3</td>\n",
       "      <td>0</td>\n",
       "      <td>647280407</td>\n",
       "      <td>459</td>\n",
       "      <td>613</td>\n",
       "      <td>149943464.577</td>\n",
       "      <td>1577688726.280</td>\n",
       "      <td>149945772.433</td>\n",
       "      <td>...</td>\n",
       "      <td>92271763.622</td>\n",
       "      <td>200570319.478</td>\n",
       "      <td>143975409.131</td>\n",
       "      <td>2157563</td>\n",
       "      <td>51029</td>\n",
       "      <td>198189</td>\n",
       "      <td>40767</td>\n",
       "      <td>31828</td>\n",
       "      <td>908</td>\n",
       "      <td>0.007</td>\n",
       "    </tr>\n",
       "    <tr>\n",
       "      <th>4</th>\n",
       "      <td>Bike</td>\n",
       "      <td>s0</td>\n",
       "      <td>4</td>\n",
       "      <td>0</td>\n",
       "      <td>301566318</td>\n",
       "      <td>125</td>\n",
       "      <td>129</td>\n",
       "      <td>39387053.636</td>\n",
       "      <td>418356421.906</td>\n",
       "      <td>39395163.171</td>\n",
       "      <td>...</td>\n",
       "      <td>127927992.124</td>\n",
       "      <td>197485713.108</td>\n",
       "      <td>133503116.889</td>\n",
       "      <td>1525301</td>\n",
       "      <td>36148</td>\n",
       "      <td>168480</td>\n",
       "      <td>29164</td>\n",
       "      <td>14798</td>\n",
       "      <td>1074</td>\n",
       "      <td>0.003</td>\n",
       "    </tr>\n",
       "  </tbody>\n",
       "</table>\n",
       "<p>5 rows × 41 columns</p>\n",
       "</div>"
      ],
      "text/plain": [
       "   mode scen  persona  group  person_id_x  person_trip_id_x  leg_index_x  \\\n",
       "0  Bike   s0        0      0   7400385638              2039         2597   \n",
       "1  Bike   s0        1      0    751337681               571          937   \n",
       "2  Bike   s0        2      0    332686209               138          238   \n",
       "3  Bike   s0        3      0    647280407               459          613   \n",
       "4  Bike   s0        4      0    301566318               125          129   \n",
       "\n",
       "     origin_x_x      origin_y_x  destination_x_x  ...  vehicle_distance_y  \\\n",
       "0 996079343.935 10456496304.859    996027046.981  ...        13302887.855   \n",
       "1 148582260.315  1564385368.310    148574585.769  ...       121139989.185   \n",
       "2  44787269.154   466032774.013     44784721.920  ...       144690718.314   \n",
       "3 149943464.577  1577688726.280    149945772.433  ...        92271763.622   \n",
       "4  39387053.636   418356421.906     39395163.171  ...       127927992.124   \n",
       "\n",
       "   routed_distance_y  euclidean_distance_y    age_y  employed_y  \\\n",
       "0      141907923.331         100415702.955   600288         455   \n",
       "1      231771560.889         162422118.371  2416080       57349   \n",
       "2      206490803.680         132008714.280  3460713         127   \n",
       "3      200570319.478         143975409.131  2157563       51029   \n",
       "4      197485713.108         133503116.889  1525301       36148   \n",
       "\n",
       "   socioprofessional_class_y  has_driving_license_y  has_pt_subscription_y  \\\n",
       "0                     391834                   5765                  18954   \n",
       "1                     229017                  45436                  31396   \n",
       "2                     345175                  45625                  13307   \n",
       "3                     198189                  40767                  31828   \n",
       "4                     168480                  29164                  14798   \n",
       "\n",
       "   cps_y  modal_shift  \n",
       "0   1210        0.053  \n",
       "1    889        0.006  \n",
       "2   1707        0.003  \n",
       "3    908        0.007  \n",
       "4   1074        0.003  \n",
       "\n",
       "[5 rows x 41 columns]"
      ]
     },
     "execution_count": 423,
     "metadata": {},
     "output_type": "execute_result"
    }
   ],
   "source": [
    "modal_shift.head()"
   ]
  },
  {
   "cell_type": "markdown",
   "id": "fe834f18",
   "metadata": {},
   "source": [
    "## Modal shares"
   ]
  },
  {
   "cell_type": "code",
   "execution_count": 142,
   "id": "4bda28f9",
   "metadata": {
    "scrolled": true
   },
   "outputs": [
    {
     "data": {
      "image/png": "[encoded data removed]",
      "text/plain": [
       "<Figure size 1152x360 with 1 Axes>"
      ]
     },
     "metadata": {
      "needs_background": "light"
     },
     "output_type": "display_data"
    }
   ],
   "source": [
    "# Set the color palette to shades of blue\n",
    "sns.set_palette(\"Blues\")\n",
    "\n",
    "modal_shift['group'] = modal_shift['group'].replace({0: 'Today', 1: '2030 without MoD', 2: '2030 with MoD'})\n",
    "\n",
    "# Create bar chart with hue = 'group' and y = mean travel_time\n",
    "ax = sns.barplot(x=\"group\", y='modal_shift', hue=\"mode\", data=modal_shift)\n",
    "\n",
    "# Set the y-axis limits to only show values between 20 and 30\n",
    "ax.set_ylim(0, 0.6)\n",
    "\n",
    "# Add title\n",
    "ax.set_title(\"Modal shares\")\n",
    "\n",
    "# Add x and y axis titles\n",
    "ax.set(xlabel=\"Mode\", ylabel=\"Modal shares\")\n",
    "\n",
    "# Format x-axis labels as integers\n",
    "ax.set_xticklabels([label.get_text() for label in ax.get_xticklabels()], rotation=0, ha=\"center\", fontsize=12)\n",
    "\n",
    "# Set default figure size using rcParams\n",
    "mpl.rcParams['figure.figsize'] = [8, 6]\n",
    "\n",
    "# Show plot\n",
    "plt.show()\n"
   ]
  },
  {
   "cell_type": "markdown",
   "id": "686eea96",
   "metadata": {},
   "source": [
    "## CO2e emissions per scenario group"
   ]
  },
  {
   "cell_type": "code",
   "execution_count": 424,
   "id": "77382af3",
   "metadata": {},
   "outputs": [
    {
     "name": "stderr",
     "output_type": "stream",
     "text": [
      "/var/folders/93/smcvnv_s04v84f_dnqvd4xkw0000gn/T/ipykernel_41393/222224655.py:1: FutureWarning: The default value of numeric_only in DataFrameGroupBy.sum is deprecated. In a future version, numeric_only will default to False. Either specify numeric_only or select only columns which should be valid for the function.\n",
      "  df_emis_aggr = df.groupby(['group','mode','scen','persona','cps'], as_index=False).sum()\n"
     ]
    }
   ],
   "source": [
    "df_emis_aggr = df.groupby(['group','mode','scen','persona','cps'], as_index=False).sum()"
   ]
  },
  {
   "cell_type": "code",
   "execution_count": 425,
   "id": "f208a8ce",
   "metadata": {},
   "outputs": [
    {
     "data": {
      "text/html": [
       "<div>\n",
       "<style scoped>\n",
       "    .dataframe tbody tr th:only-of-type {\n",
       "        vertical-align: middle;\n",
       "    }\n",
       "\n",
       "    .dataframe tbody tr th {\n",
       "        vertical-align: top;\n",
       "    }\n",
       "\n",
       "    .dataframe thead th {\n",
       "        text-align: right;\n",
       "    }\n",
       "</style>\n",
       "<table border=\"1\" class=\"dataframe\">\n",
       "  <thead>\n",
       "    <tr style=\"text-align: right;\">\n",
       "      <th></th>\n",
       "      <th>group</th>\n",
       "      <th>mode</th>\n",
       "      <th>scen</th>\n",
       "      <th>persona</th>\n",
       "      <th>cps</th>\n",
       "      <th>person_id</th>\n",
       "      <th>person_trip_id</th>\n",
       "      <th>leg_index</th>\n",
       "      <th>origin_x</th>\n",
       "      <th>origin_y</th>\n",
       "      <th>...</th>\n",
       "      <th>departure_time</th>\n",
       "      <th>travel_time</th>\n",
       "      <th>vehicle_distance</th>\n",
       "      <th>routed_distance</th>\n",
       "      <th>euclidean_distance</th>\n",
       "      <th>age</th>\n",
       "      <th>employed</th>\n",
       "      <th>socioprofessional_class</th>\n",
       "      <th>has_driving_license</th>\n",
       "      <th>has_pt_subscription</th>\n",
       "    </tr>\n",
       "  </thead>\n",
       "  <tbody>\n",
       "    <tr>\n",
       "      <th>0</th>\n",
       "      <td>0</td>\n",
       "      <td>Bike</td>\n",
       "      <td>s0</td>\n",
       "      <td>0</td>\n",
       "      <td>False</td>\n",
       "      <td>7225310191</td>\n",
       "      <td>2005</td>\n",
       "      <td>2547</td>\n",
       "      <td>975384418.330</td>\n",
       "      <td>10237547171.347</td>\n",
       "      <td>...</td>\n",
       "      <td>69898511.000</td>\n",
       "      <td>2349629.000</td>\n",
       "      <td>0.000</td>\n",
       "      <td>7286100.007</td>\n",
       "      <td>5204063.969</td>\n",
       "      <td>14884</td>\n",
       "      <td>4</td>\n",
       "      <td>11919</td>\n",
       "      <td>28</td>\n",
       "      <td>330</td>\n",
       "    </tr>\n",
       "    <tr>\n",
       "      <th>1</th>\n",
       "      <td>0</td>\n",
       "      <td>Bike</td>\n",
       "      <td>s0</td>\n",
       "      <td>0</td>\n",
       "      <td>True</td>\n",
       "      <td>175075447</td>\n",
       "      <td>34</td>\n",
       "      <td>50</td>\n",
       "      <td>20694925.605</td>\n",
       "      <td>218949133.512</td>\n",
       "      <td>...</td>\n",
       "      <td>1544429.000</td>\n",
       "      <td>76172.000</td>\n",
       "      <td>0.000</td>\n",
       "      <td>236181.517</td>\n",
       "      <td>169069.309</td>\n",
       "      <td>411</td>\n",
       "      <td>0</td>\n",
       "      <td>256</td>\n",
       "      <td>0</td>\n",
       "      <td>14</td>\n",
       "    </tr>\n",
       "    <tr>\n",
       "      <th>2</th>\n",
       "      <td>0</td>\n",
       "      <td>Bike</td>\n",
       "      <td>s0</td>\n",
       "      <td>1</td>\n",
       "      <td>False</td>\n",
       "      <td>751337681</td>\n",
       "      <td>571</td>\n",
       "      <td>937</td>\n",
       "      <td>148582260.315</td>\n",
       "      <td>1564385368.310</td>\n",
       "      <td>...</td>\n",
       "      <td>12441302.000</td>\n",
       "      <td>414764.000</td>\n",
       "      <td>0.000</td>\n",
       "      <td>1286141.983</td>\n",
       "      <td>918408.007</td>\n",
       "      <td>8971</td>\n",
       "      <td>228</td>\n",
       "      <td>850</td>\n",
       "      <td>170</td>\n",
       "      <td>72</td>\n",
       "    </tr>\n",
       "  </tbody>\n",
       "</table>\n",
       "<p>3 rows × 22 columns</p>\n",
       "</div>"
      ],
      "text/plain": [
       "   group  mode scen  persona    cps   person_id  person_trip_id  leg_index  \\\n",
       "0      0  Bike   s0        0  False  7225310191            2005       2547   \n",
       "1      0  Bike   s0        0   True   175075447              34         50   \n",
       "2      0  Bike   s0        1  False   751337681             571        937   \n",
       "\n",
       "       origin_x        origin_y  ...  departure_time  travel_time  \\\n",
       "0 975384418.330 10237547171.347  ...    69898511.000  2349629.000   \n",
       "1  20694925.605   218949133.512  ...     1544429.000    76172.000   \n",
       "2 148582260.315  1564385368.310  ...    12441302.000   414764.000   \n",
       "\n",
       "   vehicle_distance  routed_distance  euclidean_distance    age  employed  \\\n",
       "0             0.000      7286100.007         5204063.969  14884         4   \n",
       "1             0.000       236181.517          169069.309    411         0   \n",
       "2             0.000      1286141.983          918408.007   8971       228   \n",
       "\n",
       "   socioprofessional_class  has_driving_license  has_pt_subscription  \n",
       "0                    11919                   28                  330  \n",
       "1                      256                    0                   14  \n",
       "2                      850                  170                   72  \n",
       "\n",
       "[3 rows x 22 columns]"
      ]
     },
     "execution_count": 425,
     "metadata": {},
     "output_type": "execute_result"
    }
   ],
   "source": [
    "df_emis_aggr.head(3)"
   ]
  },
  {
   "cell_type": "code",
   "execution_count": 426,
   "id": "2eaf009a",
   "metadata": {},
   "outputs": [],
   "source": [
    "# Assign CO2e values based on mode (divided by 1000000 because of m to km and gram to kg)\n",
    "df_emis_aggr.loc[df_emis_aggr['mode'].isin(['Walk', 'Bike']), 'CO2e'] = 0\n",
    "df_emis_aggr.loc[df_emis_aggr['mode'] == 'SAEV', 'CO2e'] = df_emis_aggr['routed_distance'] * 30 / 1000000\n",
    "\n",
    "df_emis_aggr.loc[(df_emis_aggr['scen'] == 's0') & (df_emis_aggr['mode'] == 'Car'), 'CO2e'] = df_emis_aggr['routed_distance'] * 130 / 1000000\n",
    "df_emis_aggr.loc[(df_emis_aggr['scen'] == 's0') & (df_emis_aggr['mode'] == 'Passenger'), 'CO2e'] = df_emis_aggr['routed_distance'] * 65 / 1000000\n",
    "df_emis_aggr.loc[(df_emis_aggr['scen'] == 's0') & (df_emis_aggr['mode'] == 'Public Transport'), 'CO2e'] = df_emis_aggr['routed_distance'] * 25 / 1000000\n",
    "\n",
    "df_emis_aggr.loc[(df_emis_aggr['scen'] != 's0') & (df_emis_aggr['mode'] == 'Car'), 'CO2e'] = df_emis_aggr['routed_distance'] * 80 / 1000000\n",
    "df_emis_aggr.loc[(df_emis_aggr['scen'] != 's0') & (df_emis_aggr['mode'] == 'Passenger'), 'CO2e'] = df_emis_aggr['routed_distance'] * 40 / 1000000\n",
    "df_emis_aggr.loc[(df_emis_aggr['scen'] != 's0') & (df_emis_aggr['mode'] == 'Public Transport'), 'CO2e'] = df_emis_aggr['routed_distance'] * 15 / 1000000"
   ]
  },
  {
   "cell_type": "markdown",
   "id": "37cca22d",
   "metadata": {},
   "source": [
    "### Emissions"
   ]
  },
  {
   "cell_type": "code",
   "execution_count": 435,
   "id": "deee1319",
   "metadata": {},
   "outputs": [
    {
     "name": "stderr",
     "output_type": "stream",
     "text": [
      "/var/folders/93/smcvnv_s04v84f_dnqvd4xkw0000gn/T/ipykernel_41393/901734508.py:1: FutureWarning: The default value of numeric_only in DataFrameGroupBy.sum is deprecated. In a future version, numeric_only will default to False. Either specify numeric_only or select only columns which should be valid for the function.\n",
      "  df_tot_emis = df_emis_aggr.groupby(['group','cps'], as_index=False).sum()\n"
     ]
    }
   ],
   "source": [
    "df_tot_emis = df_emis_aggr.groupby(['group','cps'], as_index=False).sum()"
   ]
  },
  {
   "cell_type": "code",
   "execution_count": 436,
   "id": "5e501d23",
   "metadata": {},
   "outputs": [],
   "source": [
    "df_tot_emis = df_tot_emis.drop(columns=['persona','person_id','person_trip_id','leg_index','origin_x',\n",
    "                 'origin_y','destination_x','destination_y','departure_time',\n",
    "                 'euclidean_distance','vehicle_distance','age','employed','has_driving_license','has_pt_subscription','socioprofessional_class'], axis=1)"
   ]
  },
  {
   "cell_type": "code",
   "execution_count": 437,
   "id": "ffdeadd7",
   "metadata": {},
   "outputs": [
    {
     "data": {
      "text/html": [
       "<div>\n",
       "<style scoped>\n",
       "    .dataframe tbody tr th:only-of-type {\n",
       "        vertical-align: middle;\n",
       "    }\n",
       "\n",
       "    .dataframe tbody tr th {\n",
       "        vertical-align: top;\n",
       "    }\n",
       "\n",
       "    .dataframe thead th {\n",
       "        text-align: right;\n",
       "    }\n",
       "</style>\n",
       "<table border=\"1\" class=\"dataframe\">\n",
       "  <thead>\n",
       "    <tr style=\"text-align: right;\">\n",
       "      <th></th>\n",
       "      <th>group</th>\n",
       "      <th>cps</th>\n",
       "      <th>travel_time</th>\n",
       "      <th>routed_distance</th>\n",
       "      <th>CO2e</th>\n",
       "    </tr>\n",
       "  </thead>\n",
       "  <tbody>\n",
       "    <tr>\n",
       "      <th>0</th>\n",
       "      <td>0</td>\n",
       "      <td>False</td>\n",
       "      <td>637250810.000</td>\n",
       "      <td>2504785847.825</td>\n",
       "      <td>191589207.889</td>\n",
       "    </tr>\n",
       "    <tr>\n",
       "      <th>1</th>\n",
       "      <td>0</td>\n",
       "      <td>True</td>\n",
       "      <td>17113212.000</td>\n",
       "      <td>80673323.854</td>\n",
       "      <td>6966633.079</td>\n",
       "    </tr>\n",
       "    <tr>\n",
       "      <th>2</th>\n",
       "      <td>1</td>\n",
       "      <td>False</td>\n",
       "      <td>2805916172.000</td>\n",
       "      <td>10966040457.992</td>\n",
       "      <td>507059679.025</td>\n",
       "    </tr>\n",
       "    <tr>\n",
       "      <th>3</th>\n",
       "      <td>1</td>\n",
       "      <td>True</td>\n",
       "      <td>79629265.000</td>\n",
       "      <td>362973223.754</td>\n",
       "      <td>19070554.595</td>\n",
       "    </tr>\n",
       "    <tr>\n",
       "      <th>4</th>\n",
       "      <td>2</td>\n",
       "      <td>False</td>\n",
       "      <td>2793692791.000</td>\n",
       "      <td>10907631105.004</td>\n",
       "      <td>505509160.395</td>\n",
       "    </tr>\n",
       "    <tr>\n",
       "      <th>5</th>\n",
       "      <td>2</td>\n",
       "      <td>True</td>\n",
       "      <td>75075648.000</td>\n",
       "      <td>338395233.151</td>\n",
       "      <td>17994392.900</td>\n",
       "    </tr>\n",
       "  </tbody>\n",
       "</table>\n",
       "</div>"
      ],
      "text/plain": [
       "   group    cps    travel_time  routed_distance          CO2e\n",
       "0      0  False  637250810.000   2504785847.825 191589207.889\n",
       "1      0   True   17113212.000     80673323.854   6966633.079\n",
       "2      1  False 2805916172.000  10966040457.992 507059679.025\n",
       "3      1   True   79629265.000    362973223.754  19070554.595\n",
       "4      2  False 2793692791.000  10907631105.004 505509160.395\n",
       "5      2   True   75075648.000    338395233.151  17994392.900"
      ]
     },
     "execution_count": 437,
     "metadata": {},
     "output_type": "execute_result"
    }
   ],
   "source": [
    "df_tot_emis"
   ]
  },
  {
   "cell_type": "code",
   "execution_count": 288,
   "id": "479df76f",
   "metadata": {},
   "outputs": [],
   "source": [
    "df_tot_emis.to_csv('data/interim/df_tot_emis_v02.csv', index=False)"
   ]
  },
  {
   "cell_type": "markdown",
   "id": "f5994a8c",
   "metadata": {},
   "source": [
    "## Emissions and modal share"
   ]
  },
  {
   "cell_type": "code",
   "execution_count": 438,
   "id": "91888af0",
   "metadata": {},
   "outputs": [
    {
     "data": {
      "text/html": [
       "<div>\n",
       "<style scoped>\n",
       "    .dataframe tbody tr th:only-of-type {\n",
       "        vertical-align: middle;\n",
       "    }\n",
       "\n",
       "    .dataframe tbody tr th {\n",
       "        vertical-align: top;\n",
       "    }\n",
       "\n",
       "    .dataframe thead th {\n",
       "        text-align: right;\n",
       "    }\n",
       "</style>\n",
       "<table border=\"1\" class=\"dataframe\">\n",
       "  <thead>\n",
       "    <tr style=\"text-align: right;\">\n",
       "      <th></th>\n",
       "      <th>group</th>\n",
       "      <th>mode</th>\n",
       "      <th>scen</th>\n",
       "      <th>persona</th>\n",
       "      <th>cps</th>\n",
       "      <th>person_id</th>\n",
       "      <th>person_trip_id</th>\n",
       "      <th>leg_index</th>\n",
       "      <th>origin_x</th>\n",
       "      <th>origin_y</th>\n",
       "      <th>...</th>\n",
       "      <th>travel_time</th>\n",
       "      <th>vehicle_distance</th>\n",
       "      <th>routed_distance</th>\n",
       "      <th>euclidean_distance</th>\n",
       "      <th>age</th>\n",
       "      <th>employed</th>\n",
       "      <th>socioprofessional_class</th>\n",
       "      <th>has_driving_license</th>\n",
       "      <th>has_pt_subscription</th>\n",
       "      <th>CO2e</th>\n",
       "    </tr>\n",
       "  </thead>\n",
       "  <tbody>\n",
       "    <tr>\n",
       "      <th>1</th>\n",
       "      <td>0</td>\n",
       "      <td>Bike</td>\n",
       "      <td>s0</td>\n",
       "      <td>0</td>\n",
       "      <td>True</td>\n",
       "      <td>175075447</td>\n",
       "      <td>34</td>\n",
       "      <td>50</td>\n",
       "      <td>20694925.605</td>\n",
       "      <td>218949133.512</td>\n",
       "      <td>...</td>\n",
       "      <td>76172.000</td>\n",
       "      <td>0.000</td>\n",
       "      <td>236181.517</td>\n",
       "      <td>169069.309</td>\n",
       "      <td>411</td>\n",
       "      <td>0</td>\n",
       "      <td>256</td>\n",
       "      <td>0</td>\n",
       "      <td>14</td>\n",
       "      <td>0.000</td>\n",
       "    </tr>\n",
       "    <tr>\n",
       "      <th>4</th>\n",
       "      <td>0</td>\n",
       "      <td>Bike</td>\n",
       "      <td>s0</td>\n",
       "      <td>2</td>\n",
       "      <td>True</td>\n",
       "      <td>10357542</td>\n",
       "      <td>3</td>\n",
       "      <td>9</td>\n",
       "      <td>1284050.427</td>\n",
       "      <td>13678606.663</td>\n",
       "      <td>...</td>\n",
       "      <td>5786.000</td>\n",
       "      <td>0.000</td>\n",
       "      <td>17941.225</td>\n",
       "      <td>13161.872</td>\n",
       "      <td>85</td>\n",
       "      <td>0</td>\n",
       "      <td>15</td>\n",
       "      <td>1</td>\n",
       "      <td>2</td>\n",
       "      <td>0.000</td>\n",
       "    </tr>\n",
       "    <tr>\n",
       "      <th>6</th>\n",
       "      <td>0</td>\n",
       "      <td>Bike</td>\n",
       "      <td>s0</td>\n",
       "      <td>3</td>\n",
       "      <td>True</td>\n",
       "      <td>11581592</td>\n",
       "      <td>8</td>\n",
       "      <td>8</td>\n",
       "      <td>1272845.920</td>\n",
       "      <td>13681629.469</td>\n",
       "      <td>...</td>\n",
       "      <td>3789.000</td>\n",
       "      <td>0.000</td>\n",
       "      <td>11750.201</td>\n",
       "      <td>8315.902</td>\n",
       "      <td>52</td>\n",
       "      <td>2</td>\n",
       "      <td>8</td>\n",
       "      <td>0</td>\n",
       "      <td>0</td>\n",
       "      <td>0.000</td>\n",
       "    </tr>\n",
       "  </tbody>\n",
       "</table>\n",
       "<p>3 rows × 23 columns</p>\n",
       "</div>"
      ],
      "text/plain": [
       "   group  mode scen  persona   cps  person_id  person_trip_id  leg_index  \\\n",
       "1      0  Bike   s0        0  True  175075447              34         50   \n",
       "4      0  Bike   s0        2  True   10357542               3          9   \n",
       "6      0  Bike   s0        3  True   11581592               8          8   \n",
       "\n",
       "      origin_x      origin_y  ...  travel_time  vehicle_distance  \\\n",
       "1 20694925.605 218949133.512  ...    76172.000             0.000   \n",
       "4  1284050.427  13678606.663  ...     5786.000             0.000   \n",
       "6  1272845.920  13681629.469  ...     3789.000             0.000   \n",
       "\n",
       "   routed_distance  euclidean_distance  age  employed  \\\n",
       "1       236181.517          169069.309  411         0   \n",
       "4        17941.225           13161.872   85         0   \n",
       "6        11750.201            8315.902   52         2   \n",
       "\n",
       "   socioprofessional_class  has_driving_license  has_pt_subscription  CO2e  \n",
       "1                      256                    0                   14 0.000  \n",
       "4                       15                    1                    2 0.000  \n",
       "6                        8                    0                    0 0.000  \n",
       "\n",
       "[3 rows x 23 columns]"
      ]
     },
     "execution_count": 438,
     "metadata": {},
     "output_type": "execute_result"
    }
   ],
   "source": [
    "df_cps_aggr = df_emis_aggr[df_emis_aggr['cps'] == True]\n",
    "df_cps_aggr.head(3)"
   ]
  },
  {
   "cell_type": "code",
   "execution_count": 439,
   "id": "a4edc863",
   "metadata": {},
   "outputs": [
    {
     "name": "stderr",
     "output_type": "stream",
     "text": [
      "/var/folders/93/smcvnv_s04v84f_dnqvd4xkw0000gn/T/ipykernel_41393/3938944683.py:1: FutureWarning: The default value of numeric_only in DataFrameGroupBy.sum is deprecated. In a future version, numeric_only will default to False. Either specify numeric_only or select only columns which should be valid for the function.\n",
      "  df_emis_mode = df_cps.groupby(['group','mode'], as_index=False).sum()\n"
     ]
    }
   ],
   "source": [
    "df_emis_mode = df_cps_aggr.groupby(['group','mode'], as_index=False).sum()"
   ]
  },
  {
   "cell_type": "code",
   "execution_count": 441,
   "id": "4d8d92d4",
   "metadata": {},
   "outputs": [],
   "source": [
    "df_emis_mode = df_emis_mode.drop(columns=['persona','person_id','person_trip_id','leg_index','origin_x',\n",
    "                 'origin_y','destination_x','destination_y','departure_time',\n",
    "                 'euclidean_distance','vehicle_distance','age','employed','has_driving_license',\n",
    "                'has_pt_subscription','socioprofessional_class'], axis=1)"
   ]
  },
  {
   "cell_type": "code",
   "execution_count": 442,
   "id": "c6b96ef7",
   "metadata": {},
   "outputs": [
    {
     "data": {
      "text/html": [
       "<div>\n",
       "<style scoped>\n",
       "    .dataframe tbody tr th:only-of-type {\n",
       "        vertical-align: middle;\n",
       "    }\n",
       "\n",
       "    .dataframe tbody tr th {\n",
       "        vertical-align: top;\n",
       "    }\n",
       "\n",
       "    .dataframe thead th {\n",
       "        text-align: right;\n",
       "    }\n",
       "</style>\n",
       "<table border=\"1\" class=\"dataframe\">\n",
       "  <thead>\n",
       "    <tr style=\"text-align: right;\">\n",
       "      <th></th>\n",
       "      <th>group</th>\n",
       "      <th>mode</th>\n",
       "      <th>cps</th>\n",
       "      <th>travel_time</th>\n",
       "      <th>routed_distance</th>\n",
       "      <th>CO2e</th>\n",
       "    </tr>\n",
       "  </thead>\n",
       "  <tbody>\n",
       "    <tr>\n",
       "      <th>0</th>\n",
       "      <td>0</td>\n",
       "      <td>Bike</td>\n",
       "      <td>15</td>\n",
       "      <td>279646.000</td>\n",
       "      <td>867150.819</td>\n",
       "      <td>0.000</td>\n",
       "    </tr>\n",
       "    <tr>\n",
       "      <th>1</th>\n",
       "      <td>0</td>\n",
       "      <td>Car</td>\n",
       "      <td>16</td>\n",
       "      <td>9407714.000</td>\n",
       "      <td>45422028.563</td>\n",
       "      <td>5904863.713</td>\n",
       "    </tr>\n",
       "    <tr>\n",
       "      <th>2</th>\n",
       "      <td>0</td>\n",
       "      <td>Passenger</td>\n",
       "      <td>16</td>\n",
       "      <td>684732.000</td>\n",
       "      <td>7663423.985</td>\n",
       "      <td>498122.559</td>\n",
       "    </tr>\n",
       "    <tr>\n",
       "      <th>3</th>\n",
       "      <td>0</td>\n",
       "      <td>Public Transport</td>\n",
       "      <td>16</td>\n",
       "      <td>3208683.000</td>\n",
       "      <td>22545872.252</td>\n",
       "      <td>563646.806</td>\n",
       "    </tr>\n",
       "    <tr>\n",
       "      <th>4</th>\n",
       "      <td>0</td>\n",
       "      <td>Walk</td>\n",
       "      <td>16</td>\n",
       "      <td>3532437.000</td>\n",
       "      <td>4174848.234</td>\n",
       "      <td>0.000</td>\n",
       "    </tr>\n",
       "    <tr>\n",
       "      <th>5</th>\n",
       "      <td>1</td>\n",
       "      <td>Bike</td>\n",
       "      <td>53</td>\n",
       "      <td>1064558.000</td>\n",
       "      <td>3301043.668</td>\n",
       "      <td>0.000</td>\n",
       "    </tr>\n",
       "    <tr>\n",
       "      <th>6</th>\n",
       "      <td>1</td>\n",
       "      <td>Car</td>\n",
       "      <td>64</td>\n",
       "      <td>44825076.000</td>\n",
       "      <td>201005143.538</td>\n",
       "      <td>16080411.483</td>\n",
       "    </tr>\n",
       "    <tr>\n",
       "      <th>7</th>\n",
       "      <td>1</td>\n",
       "      <td>Passenger</td>\n",
       "      <td>64</td>\n",
       "      <td>3287732.000</td>\n",
       "      <td>35306580.056</td>\n",
       "      <td>1412263.202</td>\n",
       "    </tr>\n",
       "    <tr>\n",
       "      <th>8</th>\n",
       "      <td>1</td>\n",
       "      <td>Public Transport</td>\n",
       "      <td>64</td>\n",
       "      <td>15090455.000</td>\n",
       "      <td>105191993.986</td>\n",
       "      <td>1577879.910</td>\n",
       "    </tr>\n",
       "    <tr>\n",
       "      <th>9</th>\n",
       "      <td>1</td>\n",
       "      <td>Walk</td>\n",
       "      <td>64</td>\n",
       "      <td>15361444.000</td>\n",
       "      <td>18168462.505</td>\n",
       "      <td>0.000</td>\n",
       "    </tr>\n",
       "    <tr>\n",
       "      <th>10</th>\n",
       "      <td>2</td>\n",
       "      <td>Bike</td>\n",
       "      <td>52</td>\n",
       "      <td>991247.000</td>\n",
       "      <td>3073747.716</td>\n",
       "      <td>0.000</td>\n",
       "    </tr>\n",
       "    <tr>\n",
       "      <th>11</th>\n",
       "      <td>2</td>\n",
       "      <td>Car</td>\n",
       "      <td>64</td>\n",
       "      <td>41772018.000</td>\n",
       "      <td>189204430.939</td>\n",
       "      <td>15136354.475</td>\n",
       "    </tr>\n",
       "    <tr>\n",
       "      <th>12</th>\n",
       "      <td>2</td>\n",
       "      <td>Passenger</td>\n",
       "      <td>64</td>\n",
       "      <td>3167842.000</td>\n",
       "      <td>34184810.269</td>\n",
       "      <td>1367392.411</td>\n",
       "    </tr>\n",
       "    <tr>\n",
       "      <th>13</th>\n",
       "      <td>2</td>\n",
       "      <td>Public Transport</td>\n",
       "      <td>64</td>\n",
       "      <td>13163736.000</td>\n",
       "      <td>92114160.626</td>\n",
       "      <td>1381712.409</td>\n",
       "    </tr>\n",
       "    <tr>\n",
       "      <th>14</th>\n",
       "      <td>2</td>\n",
       "      <td>SAEV</td>\n",
       "      <td>64</td>\n",
       "      <td>2347679.000</td>\n",
       "      <td>3631120.155</td>\n",
       "      <td>108933.605</td>\n",
       "    </tr>\n",
       "    <tr>\n",
       "      <th>15</th>\n",
       "      <td>2</td>\n",
       "      <td>Walk</td>\n",
       "      <td>64</td>\n",
       "      <td>13633126.000</td>\n",
       "      <td>16186963.446</td>\n",
       "      <td>0.000</td>\n",
       "    </tr>\n",
       "  </tbody>\n",
       "</table>\n",
       "</div>"
      ],
      "text/plain": [
       "    group              mode  cps  travel_time  routed_distance         CO2e\n",
       "0       0              Bike   15   279646.000       867150.819        0.000\n",
       "1       0               Car   16  9407714.000     45422028.563  5904863.713\n",
       "2       0         Passenger   16   684732.000      7663423.985   498122.559\n",
       "3       0  Public Transport   16  3208683.000     22545872.252   563646.806\n",
       "4       0              Walk   16  3532437.000      4174848.234        0.000\n",
       "5       1              Bike   53  1064558.000      3301043.668        0.000\n",
       "6       1               Car   64 44825076.000    201005143.538 16080411.483\n",
       "7       1         Passenger   64  3287732.000     35306580.056  1412263.202\n",
       "8       1  Public Transport   64 15090455.000    105191993.986  1577879.910\n",
       "9       1              Walk   64 15361444.000     18168462.505        0.000\n",
       "10      2              Bike   52   991247.000      3073747.716        0.000\n",
       "11      2               Car   64 41772018.000    189204430.939 15136354.475\n",
       "12      2         Passenger   64  3167842.000     34184810.269  1367392.411\n",
       "13      2  Public Transport   64 13163736.000     92114160.626  1381712.409\n",
       "14      2              SAEV   64  2347679.000      3631120.155   108933.605\n",
       "15      2              Walk   64 13633126.000     16186963.446        0.000"
      ]
     },
     "execution_count": 442,
     "metadata": {},
     "output_type": "execute_result"
    }
   ],
   "source": [
    "df_emis_mode"
   ]
  },
  {
   "cell_type": "code",
   "execution_count": 303,
   "id": "3f8f4fae",
   "metadata": {},
   "outputs": [],
   "source": [
    "df_emis_mode.to_csv('data/interim/df_emis_mode.csv', index=False)"
   ]
  },
  {
   "cell_type": "markdown",
   "id": "f1632365",
   "metadata": {},
   "source": [
    "## Emissions by scenario"
   ]
  },
  {
   "cell_type": "code",
   "execution_count": 13,
   "id": "69f32a66",
   "metadata": {},
   "outputs": [
    {
     "data": {
      "text/html": [
       "<div>\n",
       "<style scoped>\n",
       "    .dataframe tbody tr th:only-of-type {\n",
       "        vertical-align: middle;\n",
       "    }\n",
       "\n",
       "    .dataframe tbody tr th {\n",
       "        vertical-align: top;\n",
       "    }\n",
       "\n",
       "    .dataframe thead th {\n",
       "        text-align: right;\n",
       "    }\n",
       "</style>\n",
       "<table border=\"1\" class=\"dataframe\">\n",
       "  <thead>\n",
       "    <tr style=\"text-align: right;\">\n",
       "      <th></th>\n",
       "      <th>person_id</th>\n",
       "      <th>person_trip_id</th>\n",
       "      <th>leg_index</th>\n",
       "      <th>origin_x</th>\n",
       "      <th>origin_y</th>\n",
       "      <th>destination_x</th>\n",
       "      <th>destination_y</th>\n",
       "      <th>departure_time</th>\n",
       "      <th>travel_time</th>\n",
       "      <th>vehicle_distance</th>\n",
       "      <th>...</th>\n",
       "      <th>scen</th>\n",
       "      <th>group</th>\n",
       "      <th>age</th>\n",
       "      <th>employed</th>\n",
       "      <th>sex</th>\n",
       "      <th>socioprofessional_class</th>\n",
       "      <th>has_driving_license</th>\n",
       "      <th>has_pt_subscription</th>\n",
       "      <th>persona</th>\n",
       "      <th>cps</th>\n",
       "    </tr>\n",
       "  </thead>\n",
       "  <tbody>\n",
       "    <tr>\n",
       "      <th>116</th>\n",
       "      <td>3150375</td>\n",
       "      <td>0</td>\n",
       "      <td>0</td>\n",
       "      <td>665753.318</td>\n",
       "      <td>6829140.500</td>\n",
       "      <td>643361.616</td>\n",
       "      <td>6844629.155</td>\n",
       "      <td>13304.000</td>\n",
       "      <td>2241.000</td>\n",
       "      <td>34943.418</td>\n",
       "      <td>...</td>\n",
       "      <td>s0</td>\n",
       "      <td>0</td>\n",
       "      <td>61</td>\n",
       "      <td>False</td>\n",
       "      <td>male</td>\n",
       "      <td>6</td>\n",
       "      <td>True</td>\n",
       "      <td>False</td>\n",
       "      <td>2</td>\n",
       "      <td>True</td>\n",
       "    </tr>\n",
       "    <tr>\n",
       "      <th>136</th>\n",
       "      <td>5800300</td>\n",
       "      <td>0</td>\n",
       "      <td>0</td>\n",
       "      <td>639376.660</td>\n",
       "      <td>6842939.747</td>\n",
       "      <td>638711.094</td>\n",
       "      <td>6842826.530</td>\n",
       "      <td>15108.000</td>\n",
       "      <td>638.000</td>\n",
       "      <td>0.000</td>\n",
       "      <td>...</td>\n",
       "      <td>s0</td>\n",
       "      <td>0</td>\n",
       "      <td>34</td>\n",
       "      <td>True</td>\n",
       "      <td>male</td>\n",
       "      <td>6</td>\n",
       "      <td>True</td>\n",
       "      <td>True</td>\n",
       "      <td>4</td>\n",
       "      <td>True</td>\n",
       "    </tr>\n",
       "    <tr>\n",
       "      <th>211</th>\n",
       "      <td>5403999</td>\n",
       "      <td>0</td>\n",
       "      <td>0</td>\n",
       "      <td>648064.220</td>\n",
       "      <td>6848708.708</td>\n",
       "      <td>648102.830</td>\n",
       "      <td>6848541.409</td>\n",
       "      <td>16108.000</td>\n",
       "      <td>198.000</td>\n",
       "      <td>0.000</td>\n",
       "      <td>...</td>\n",
       "      <td>s0</td>\n",
       "      <td>0</td>\n",
       "      <td>56</td>\n",
       "      <td>True</td>\n",
       "      <td>male</td>\n",
       "      <td>6</td>\n",
       "      <td>False</td>\n",
       "      <td>True</td>\n",
       "      <td>8</td>\n",
       "      <td>True</td>\n",
       "    </tr>\n",
       "  </tbody>\n",
       "</table>\n",
       "<p>3 rows × 23 columns</p>\n",
       "</div>"
      ],
      "text/plain": [
       "     person_id  person_trip_id  leg_index   origin_x    origin_y  \\\n",
       "116    3150375               0          0 665753.318 6829140.500   \n",
       "136    5800300               0          0 639376.660 6842939.747   \n",
       "211    5403999               0          0 648064.220 6848708.708   \n",
       "\n",
       "     destination_x  destination_y  departure_time  travel_time  \\\n",
       "116     643361.616    6844629.155       13304.000     2241.000   \n",
       "136     638711.094    6842826.530       15108.000      638.000   \n",
       "211     648102.830    6848541.409       16108.000      198.000   \n",
       "\n",
       "     vehicle_distance  ...  scen group  age employed   sex  \\\n",
       "116         34943.418  ...    s0     0   61    False  male   \n",
       "136             0.000  ...    s0     0   34     True  male   \n",
       "211             0.000  ...    s0     0   56     True  male   \n",
       "\n",
       "     socioprofessional_class  has_driving_license has_pt_subscription  \\\n",
       "116                        6                 True               False   \n",
       "136                        6                 True                True   \n",
       "211                        6                False                True   \n",
       "\n",
       "     persona   cps  \n",
       "116        2  True  \n",
       "136        4  True  \n",
       "211        8  True  \n",
       "\n",
       "[3 rows x 23 columns]"
      ]
     },
     "execution_count": 13,
     "metadata": {},
     "output_type": "execute_result"
    }
   ],
   "source": [
    "df_cps = df[df['cps'] == True]\n",
    "df_cps.head(3)"
   ]
  },
  {
   "cell_type": "code",
   "execution_count": 444,
   "id": "8e190f0d",
   "metadata": {},
   "outputs": [],
   "source": [
    "df_cps_scen = df_cps.groupby(['group','mode','scen'], as_index=False).sum()"
   ]
  },
  {
   "cell_type": "code",
   "execution_count": 445,
   "id": "f3a5dd44",
   "metadata": {},
   "outputs": [
    {
     "data": {
      "text/html": [
       "<div>\n",
       "<style scoped>\n",
       "    .dataframe tbody tr th:only-of-type {\n",
       "        vertical-align: middle;\n",
       "    }\n",
       "\n",
       "    .dataframe tbody tr th {\n",
       "        vertical-align: top;\n",
       "    }\n",
       "\n",
       "    .dataframe thead th {\n",
       "        text-align: right;\n",
       "    }\n",
       "</style>\n",
       "<table border=\"1\" class=\"dataframe\">\n",
       "  <thead>\n",
       "    <tr style=\"text-align: right;\">\n",
       "      <th></th>\n",
       "      <th>group</th>\n",
       "      <th>mode</th>\n",
       "      <th>scen</th>\n",
       "      <th>cps</th>\n",
       "      <th>travel_time</th>\n",
       "      <th>routed_distance</th>\n",
       "      <th>CO2e</th>\n",
       "    </tr>\n",
       "  </thead>\n",
       "  <tbody>\n",
       "    <tr>\n",
       "      <th>0</th>\n",
       "      <td>0</td>\n",
       "      <td>Bike</td>\n",
       "      <td>s0</td>\n",
       "      <td>15</td>\n",
       "      <td>279646.000</td>\n",
       "      <td>867150.819</td>\n",
       "      <td>0.000</td>\n",
       "    </tr>\n",
       "    <tr>\n",
       "      <th>1</th>\n",
       "      <td>0</td>\n",
       "      <td>Car</td>\n",
       "      <td>s0</td>\n",
       "      <td>16</td>\n",
       "      <td>9407714.000</td>\n",
       "      <td>45422028.563</td>\n",
       "      <td>5904863.713</td>\n",
       "    </tr>\n",
       "    <tr>\n",
       "      <th>2</th>\n",
       "      <td>0</td>\n",
       "      <td>Passenger</td>\n",
       "      <td>s0</td>\n",
       "      <td>16</td>\n",
       "      <td>684732.000</td>\n",
       "      <td>7663423.985</td>\n",
       "      <td>498122.559</td>\n",
       "    </tr>\n",
       "  </tbody>\n",
       "</table>\n",
       "</div>"
      ],
      "text/plain": [
       "   group       mode scen  cps  travel_time  routed_distance        CO2e\n",
       "0      0       Bike   s0   15   279646.000       867150.819       0.000\n",
       "1      0        Car   s0   16  9407714.000     45422028.563 5904863.713\n",
       "2      0  Passenger   s0   16   684732.000      7663423.985  498122.559"
      ]
     },
     "execution_count": 445,
     "metadata": {},
     "output_type": "execute_result"
    }
   ],
   "source": [
    "df_cps_scen = df_cps_scen.drop(columns=['persona','person_id','person_trip_id','leg_index','origin_x',\n",
    "                 'origin_y','destination_x','destination_y','departure_time',\n",
    "                 'euclidean_distance','vehicle_distance','age','employed','has_driving_license',\n",
    "                'has_pt_subscription','socioprofessional_class'], axis=1)\n",
    "df_cps_scen.head(3)"
   ]
  },
  {
   "cell_type": "code",
   "execution_count": 310,
   "id": "aed725e4",
   "metadata": {},
   "outputs": [],
   "source": [
    "df_cps_scen.to_csv('data/interim/df_cps_scen.csv', index=False)"
   ]
  },
  {
   "cell_type": "markdown",
   "id": "7bc37cb4",
   "metadata": {},
   "source": [
    "## Duration"
   ]
  },
  {
   "cell_type": "code",
   "execution_count": 48,
   "id": "8174e8aa",
   "metadata": {},
   "outputs": [
    {
     "name": "stderr",
     "output_type": "stream",
     "text": [
      "/var/folders/93/smcvnv_s04v84f_dnqvd4xkw0000gn/T/ipykernel_77392/847086165.py:9: FutureWarning: The default value of numeric_only in DataFrameGroupBy.mean is deprecated. In a future version, numeric_only will default to False. Either specify numeric_only or select only columns which should be valid for the function.\n",
      "  df_cps_time_daily = df_cps_time_daily.groupby(['scen']).mean()\n"
     ]
    }
   ],
   "source": [
    "# sum up by person_id to get daily emissions and not leg emissisons\n",
    "df_cps_time_daily = df_cps.groupby(['group','person_id']).agg({'persona': 'first','age': 'first',\n",
    "                                                'employed': 'first', 'sex': 'first',\n",
    "                                                'socioprofessional_class': 'first',\n",
    "                                                'has_driving_license': 'first',\n",
    "                                                'has_pt_subscription': 'first',\n",
    "                                                'scen': 'first',\n",
    "                                                'travel_time': sum, 'routed_distance': sum}).reset_index()\n",
    "df_cps_time_daily = df_cps_time_daily.groupby(['scen']).mean()"
   ]
  },
  {
   "cell_type": "code",
   "execution_count": 49,
   "id": "640bdc5c",
   "metadata": {
    "scrolled": false
   },
   "outputs": [
    {
     "data": {
      "text/html": [
       "<div>\n",
       "<style scoped>\n",
       "    .dataframe tbody tr th:only-of-type {\n",
       "        vertical-align: middle;\n",
       "    }\n",
       "\n",
       "    .dataframe tbody tr th {\n",
       "        vertical-align: top;\n",
       "    }\n",
       "\n",
       "    .dataframe thead th {\n",
       "        text-align: right;\n",
       "    }\n",
       "</style>\n",
       "<table border=\"1\" class=\"dataframe\">\n",
       "  <thead>\n",
       "    <tr style=\"text-align: right;\">\n",
       "      <th></th>\n",
       "      <th>scen</th>\n",
       "      <th>travel_time</th>\n",
       "    </tr>\n",
       "  </thead>\n",
       "  <tbody>\n",
       "    <tr>\n",
       "      <th>0</th>\n",
       "      <td>s0</td>\n",
       "      <td>62.907</td>\n",
       "    </tr>\n",
       "    <tr>\n",
       "      <th>1</th>\n",
       "      <td>s1</td>\n",
       "      <td>70.074</td>\n",
       "    </tr>\n",
       "    <tr>\n",
       "      <th>2</th>\n",
       "      <td>s2</td>\n",
       "      <td>70.535</td>\n",
       "    </tr>\n",
       "    <tr>\n",
       "      <th>3</th>\n",
       "      <td>s3</td>\n",
       "      <td>63.630</td>\n",
       "    </tr>\n",
       "    <tr>\n",
       "      <th>4</th>\n",
       "      <td>s4</td>\n",
       "      <td>67.561</td>\n",
       "    </tr>\n",
       "    <tr>\n",
       "      <th>5</th>\n",
       "      <td>s5</td>\n",
       "      <td>63.706</td>\n",
       "    </tr>\n",
       "    <tr>\n",
       "      <th>6</th>\n",
       "      <td>s6</td>\n",
       "      <td>63.694</td>\n",
       "    </tr>\n",
       "    <tr>\n",
       "      <th>7</th>\n",
       "      <td>s7</td>\n",
       "      <td>62.754</td>\n",
       "    </tr>\n",
       "    <tr>\n",
       "      <th>8</th>\n",
       "      <td>s8</td>\n",
       "      <td>63.495</td>\n",
       "    </tr>\n",
       "  </tbody>\n",
       "</table>\n",
       "</div>"
      ],
      "text/plain": [
       "  scen  travel_time\n",
       "0   s0       62.907\n",
       "1   s1       70.074\n",
       "2   s2       70.535\n",
       "3   s3       63.630\n",
       "4   s4       67.561\n",
       "5   s5       63.706\n",
       "6   s6       63.694\n",
       "7   s7       62.754\n",
       "8   s8       63.495"
      ]
     },
     "execution_count": 49,
     "metadata": {},
     "output_type": "execute_result"
    }
   ],
   "source": [
    "df_cps_time_daily = df_cps_time_daily.reset_index()\n",
    "df_cps_time_daily = df_cps_time_daily[['scen','travel_time']]\n",
    "df_cps_time_daily['travel_time'] = df_cps_time_daily['travel_time'] / 60\n",
    "df_cps_time_daily.head(9)"
   ]
  },
  {
   "cell_type": "code",
   "execution_count": 51,
   "id": "dd57a3ad",
   "metadata": {},
   "outputs": [],
   "source": [
    "df_cps_time_daily.to_csv('data/interim/df_cps_time_daily.csv', index=False)"
   ]
  },
  {
   "cell_type": "markdown",
   "id": "c22802ec",
   "metadata": {},
   "source": [
    "## Emissions per persona"
   ]
  },
  {
   "cell_type": "code",
   "execution_count": 600,
   "id": "4593f201",
   "metadata": {},
   "outputs": [
    {
     "data": {
      "text/html": [
       "<div>\n",
       "<style scoped>\n",
       "    .dataframe tbody tr th:only-of-type {\n",
       "        vertical-align: middle;\n",
       "    }\n",
       "\n",
       "    .dataframe tbody tr th {\n",
       "        vertical-align: top;\n",
       "    }\n",
       "\n",
       "    .dataframe thead th {\n",
       "        text-align: right;\n",
       "    }\n",
       "</style>\n",
       "<table border=\"1\" class=\"dataframe\">\n",
       "  <thead>\n",
       "    <tr style=\"text-align: right;\">\n",
       "      <th></th>\n",
       "      <th>person_id</th>\n",
       "      <th>person_trip_id</th>\n",
       "      <th>leg_index</th>\n",
       "      <th>origin_x</th>\n",
       "      <th>origin_y</th>\n",
       "      <th>destination_x</th>\n",
       "      <th>destination_y</th>\n",
       "      <th>departure_time</th>\n",
       "      <th>travel_time</th>\n",
       "      <th>vehicle_distance</th>\n",
       "      <th>...</th>\n",
       "      <th>scen</th>\n",
       "      <th>group</th>\n",
       "      <th>age</th>\n",
       "      <th>employed</th>\n",
       "      <th>sex</th>\n",
       "      <th>socioprofessional_class</th>\n",
       "      <th>has_driving_license</th>\n",
       "      <th>has_pt_subscription</th>\n",
       "      <th>persona</th>\n",
       "      <th>cps</th>\n",
       "    </tr>\n",
       "  </thead>\n",
       "  <tbody>\n",
       "    <tr>\n",
       "      <th>129</th>\n",
       "      <td>3150375</td>\n",
       "      <td>0</td>\n",
       "      <td>0</td>\n",
       "      <td>665753.318</td>\n",
       "      <td>6829140.500</td>\n",
       "      <td>643361.616</td>\n",
       "      <td>6844629.155</td>\n",
       "      <td>13304.000</td>\n",
       "      <td>2241.000</td>\n",
       "      <td>34943.418</td>\n",
       "      <td>...</td>\n",
       "      <td>s0</td>\n",
       "      <td>0</td>\n",
       "      <td>61</td>\n",
       "      <td>False</td>\n",
       "      <td>male</td>\n",
       "      <td>6</td>\n",
       "      <td>True</td>\n",
       "      <td>False</td>\n",
       "      <td>2</td>\n",
       "      <td>True</td>\n",
       "    </tr>\n",
       "    <tr>\n",
       "      <th>150</th>\n",
       "      <td>5800300</td>\n",
       "      <td>0</td>\n",
       "      <td>0</td>\n",
       "      <td>639376.660</td>\n",
       "      <td>6842939.747</td>\n",
       "      <td>638711.094</td>\n",
       "      <td>6842826.530</td>\n",
       "      <td>15108.000</td>\n",
       "      <td>638.000</td>\n",
       "      <td>0.000</td>\n",
       "      <td>...</td>\n",
       "      <td>s0</td>\n",
       "      <td>0</td>\n",
       "      <td>34</td>\n",
       "      <td>True</td>\n",
       "      <td>male</td>\n",
       "      <td>6</td>\n",
       "      <td>True</td>\n",
       "      <td>True</td>\n",
       "      <td>4</td>\n",
       "      <td>True</td>\n",
       "    </tr>\n",
       "    <tr>\n",
       "      <th>227</th>\n",
       "      <td>5403999</td>\n",
       "      <td>0</td>\n",
       "      <td>0</td>\n",
       "      <td>648064.220</td>\n",
       "      <td>6848708.708</td>\n",
       "      <td>648102.830</td>\n",
       "      <td>6848541.409</td>\n",
       "      <td>16108.000</td>\n",
       "      <td>198.000</td>\n",
       "      <td>0.000</td>\n",
       "      <td>...</td>\n",
       "      <td>s0</td>\n",
       "      <td>0</td>\n",
       "      <td>56</td>\n",
       "      <td>True</td>\n",
       "      <td>male</td>\n",
       "      <td>6</td>\n",
       "      <td>False</td>\n",
       "      <td>True</td>\n",
       "      <td>8</td>\n",
       "      <td>True</td>\n",
       "    </tr>\n",
       "  </tbody>\n",
       "</table>\n",
       "<p>3 rows × 23 columns</p>\n",
       "</div>"
      ],
      "text/plain": [
       "     person_id  person_trip_id  leg_index   origin_x    origin_y  \\\n",
       "129    3150375               0          0 665753.318 6829140.500   \n",
       "150    5800300               0          0 639376.660 6842939.747   \n",
       "227    5403999               0          0 648064.220 6848708.708   \n",
       "\n",
       "     destination_x  destination_y  departure_time  travel_time  \\\n",
       "129     643361.616    6844629.155       13304.000     2241.000   \n",
       "150     638711.094    6842826.530       15108.000      638.000   \n",
       "227     648102.830    6848541.409       16108.000      198.000   \n",
       "\n",
       "     vehicle_distance  ...  scen group  age employed   sex  \\\n",
       "129         34943.418  ...    s0     0   61    False  male   \n",
       "150             0.000  ...    s0     0   34     True  male   \n",
       "227             0.000  ...    s0     0   56     True  male   \n",
       "\n",
       "     socioprofessional_class  has_driving_license has_pt_subscription  \\\n",
       "129                        6                 True               False   \n",
       "150                        6                 True                True   \n",
       "227                        6                False                True   \n",
       "\n",
       "     persona   cps  \n",
       "129        2  True  \n",
       "150        4  True  \n",
       "227        8  True  \n",
       "\n",
       "[3 rows x 23 columns]"
      ]
     },
     "execution_count": 600,
     "metadata": {},
     "output_type": "execute_result"
    }
   ],
   "source": [
    "df_cps.head(3)"
   ]
  },
  {
   "cell_type": "code",
   "execution_count": 601,
   "id": "c094a9fc",
   "metadata": {},
   "outputs": [
    {
     "name": "stderr",
     "output_type": "stream",
     "text": [
      "/var/folders/93/smcvnv_s04v84f_dnqvd4xkw0000gn/T/ipykernel_41393/2091648666.py:2: SettingWithCopyWarning: \n",
      "A value is trying to be set on a copy of a slice from a DataFrame.\n",
      "Try using .loc[row_indexer,col_indexer] = value instead\n",
      "\n",
      "See the caveats in the documentation: https://pandas.pydata.org/pandas-docs/stable/user_guide/indexing.html#returning-a-view-versus-a-copy\n",
      "  df_cps.loc[df_cps['mode'].isin(['Walk', 'Bike']), 'CO2e'] = 0\n"
     ]
    }
   ],
   "source": [
    "# Assign CO2e values based on mode (divided by 1000000 because of m to km and gram to kg)\n",
    "df_cps.loc[df_cps['mode'].isin(['Walk', 'Bike']), 'CO2e'] = 0\n",
    "df_cps.loc[df_cps['mode'] == 'SAEV', 'CO2e'] = df_cps['routed_distance'] * 30 / 1000000\n",
    "\n",
    "df_cps.loc[(df_cps['scen'] == 's0') & (df_cps['mode'] == 'Car'), 'CO2e'] = df_cps['routed_distance'] * 130 / 1000000\n",
    "df_cps.loc[(df_cps['scen'] == 's0') & (df_cps['mode'] == 'Passenger'), 'CO2e'] = df_cps['routed_distance'] * 65 / 1000000\n",
    "df_cps.loc[(df_cps['scen'] == 's0') & (df_cps['mode'] == 'Public Transport'), 'CO2e'] = df_cps['routed_distance'] * 25 / 1000000\n",
    "\n",
    "df_cps.loc[(df_cps['scen'] != 's0') & (df_cps['mode'] == 'Car'), 'CO2e'] = df_cps['routed_distance'] * 80 / 1000000\n",
    "df_cps.loc[(df_cps['scen'] != 's0') & (df_cps['mode'] == 'Passenger'), 'CO2e'] = df_cps['routed_distance'] * 40 / 1000000\n",
    "df_cps.loc[(df_cps['scen'] != 's0') & (df_cps['mode'] == 'Public Transport'), 'CO2e'] = df_cps['routed_distance'] * 15 / 1000000"
   ]
  },
  {
   "cell_type": "code",
   "execution_count": 602,
   "id": "3c0729a7",
   "metadata": {},
   "outputs": [
    {
     "data": {
      "text/html": [
       "<div>\n",
       "<style scoped>\n",
       "    .dataframe tbody tr th:only-of-type {\n",
       "        vertical-align: middle;\n",
       "    }\n",
       "\n",
       "    .dataframe tbody tr th {\n",
       "        vertical-align: top;\n",
       "    }\n",
       "\n",
       "    .dataframe thead th {\n",
       "        text-align: right;\n",
       "    }\n",
       "</style>\n",
       "<table border=\"1\" class=\"dataframe\">\n",
       "  <thead>\n",
       "    <tr style=\"text-align: right;\">\n",
       "      <th></th>\n",
       "      <th>person_id</th>\n",
       "      <th>person_trip_id</th>\n",
       "      <th>leg_index</th>\n",
       "      <th>origin_x</th>\n",
       "      <th>origin_y</th>\n",
       "      <th>destination_x</th>\n",
       "      <th>destination_y</th>\n",
       "      <th>departure_time</th>\n",
       "      <th>travel_time</th>\n",
       "      <th>vehicle_distance</th>\n",
       "      <th>...</th>\n",
       "      <th>group</th>\n",
       "      <th>age</th>\n",
       "      <th>employed</th>\n",
       "      <th>sex</th>\n",
       "      <th>socioprofessional_class</th>\n",
       "      <th>has_driving_license</th>\n",
       "      <th>has_pt_subscription</th>\n",
       "      <th>persona</th>\n",
       "      <th>cps</th>\n",
       "      <th>CO2e</th>\n",
       "    </tr>\n",
       "  </thead>\n",
       "  <tbody>\n",
       "    <tr>\n",
       "      <th>129</th>\n",
       "      <td>3150375</td>\n",
       "      <td>0</td>\n",
       "      <td>0</td>\n",
       "      <td>665753.318</td>\n",
       "      <td>6829140.500</td>\n",
       "      <td>643361.616</td>\n",
       "      <td>6844629.155</td>\n",
       "      <td>13304.000</td>\n",
       "      <td>2241.000</td>\n",
       "      <td>34943.418</td>\n",
       "      <td>...</td>\n",
       "      <td>0</td>\n",
       "      <td>61</td>\n",
       "      <td>False</td>\n",
       "      <td>male</td>\n",
       "      <td>6</td>\n",
       "      <td>True</td>\n",
       "      <td>False</td>\n",
       "      <td>2</td>\n",
       "      <td>True</td>\n",
       "      <td>4.543</td>\n",
       "    </tr>\n",
       "    <tr>\n",
       "      <th>150</th>\n",
       "      <td>5800300</td>\n",
       "      <td>0</td>\n",
       "      <td>0</td>\n",
       "      <td>639376.660</td>\n",
       "      <td>6842939.747</td>\n",
       "      <td>638711.094</td>\n",
       "      <td>6842826.530</td>\n",
       "      <td>15108.000</td>\n",
       "      <td>638.000</td>\n",
       "      <td>0.000</td>\n",
       "      <td>...</td>\n",
       "      <td>0</td>\n",
       "      <td>34</td>\n",
       "      <td>True</td>\n",
       "      <td>male</td>\n",
       "      <td>6</td>\n",
       "      <td>True</td>\n",
       "      <td>True</td>\n",
       "      <td>4</td>\n",
       "      <td>True</td>\n",
       "      <td>0.000</td>\n",
       "    </tr>\n",
       "    <tr>\n",
       "      <th>227</th>\n",
       "      <td>5403999</td>\n",
       "      <td>0</td>\n",
       "      <td>0</td>\n",
       "      <td>648064.220</td>\n",
       "      <td>6848708.708</td>\n",
       "      <td>648102.830</td>\n",
       "      <td>6848541.409</td>\n",
       "      <td>16108.000</td>\n",
       "      <td>198.000</td>\n",
       "      <td>0.000</td>\n",
       "      <td>...</td>\n",
       "      <td>0</td>\n",
       "      <td>56</td>\n",
       "      <td>True</td>\n",
       "      <td>male</td>\n",
       "      <td>6</td>\n",
       "      <td>False</td>\n",
       "      <td>True</td>\n",
       "      <td>8</td>\n",
       "      <td>True</td>\n",
       "      <td>0.000</td>\n",
       "    </tr>\n",
       "  </tbody>\n",
       "</table>\n",
       "<p>3 rows × 24 columns</p>\n",
       "</div>"
      ],
      "text/plain": [
       "     person_id  person_trip_id  leg_index   origin_x    origin_y  \\\n",
       "129    3150375               0          0 665753.318 6829140.500   \n",
       "150    5800300               0          0 639376.660 6842939.747   \n",
       "227    5403999               0          0 648064.220 6848708.708   \n",
       "\n",
       "     destination_x  destination_y  departure_time  travel_time  \\\n",
       "129     643361.616    6844629.155       13304.000     2241.000   \n",
       "150     638711.094    6842826.530       15108.000      638.000   \n",
       "227     648102.830    6848541.409       16108.000      198.000   \n",
       "\n",
       "     vehicle_distance  ...  group age  employed   sex  \\\n",
       "129         34943.418  ...      0  61     False  male   \n",
       "150             0.000  ...      0  34      True  male   \n",
       "227             0.000  ...      0  56      True  male   \n",
       "\n",
       "     socioprofessional_class  has_driving_license  has_pt_subscription  \\\n",
       "129                        6                 True                False   \n",
       "150                        6                 True                 True   \n",
       "227                        6                False                 True   \n",
       "\n",
       "    persona   cps  CO2e  \n",
       "129       2  True 4.543  \n",
       "150       4  True 0.000  \n",
       "227       8  True 0.000  \n",
       "\n",
       "[3 rows x 24 columns]"
      ]
     },
     "execution_count": 602,
     "metadata": {},
     "output_type": "execute_result"
    }
   ],
   "source": [
    "df_cps.head(3)"
   ]
  },
  {
   "cell_type": "code",
   "execution_count": 603,
   "id": "fabd90f7",
   "metadata": {},
   "outputs": [
    {
     "data": {
      "text/html": [
       "<div>\n",
       "<style scoped>\n",
       "    .dataframe tbody tr th:only-of-type {\n",
       "        vertical-align: middle;\n",
       "    }\n",
       "\n",
       "    .dataframe tbody tr th {\n",
       "        vertical-align: top;\n",
       "    }\n",
       "\n",
       "    .dataframe thead th {\n",
       "        text-align: right;\n",
       "    }\n",
       "</style>\n",
       "<table border=\"1\" class=\"dataframe\">\n",
       "  <thead>\n",
       "    <tr style=\"text-align: right;\">\n",
       "      <th></th>\n",
       "      <th>person_id</th>\n",
       "      <th>travel_time</th>\n",
       "      <th>routed_distance</th>\n",
       "      <th>mode</th>\n",
       "      <th>scen</th>\n",
       "      <th>group</th>\n",
       "      <th>age</th>\n",
       "      <th>employed</th>\n",
       "      <th>sex</th>\n",
       "      <th>socioprofessional_class</th>\n",
       "      <th>has_driving_license</th>\n",
       "      <th>has_pt_subscription</th>\n",
       "      <th>persona</th>\n",
       "      <th>CO2e</th>\n",
       "    </tr>\n",
       "  </thead>\n",
       "  <tbody>\n",
       "    <tr>\n",
       "      <th>129</th>\n",
       "      <td>3150375</td>\n",
       "      <td>2241.000</td>\n",
       "      <td>34943.418</td>\n",
       "      <td>Car</td>\n",
       "      <td>s0</td>\n",
       "      <td>0</td>\n",
       "      <td>61</td>\n",
       "      <td>False</td>\n",
       "      <td>male</td>\n",
       "      <td>6</td>\n",
       "      <td>True</td>\n",
       "      <td>False</td>\n",
       "      <td>2</td>\n",
       "      <td>4.543</td>\n",
       "    </tr>\n",
       "    <tr>\n",
       "      <th>150</th>\n",
       "      <td>5800300</td>\n",
       "      <td>638.000</td>\n",
       "      <td>765.317</td>\n",
       "      <td>Walk</td>\n",
       "      <td>s0</td>\n",
       "      <td>0</td>\n",
       "      <td>34</td>\n",
       "      <td>True</td>\n",
       "      <td>male</td>\n",
       "      <td>6</td>\n",
       "      <td>True</td>\n",
       "      <td>True</td>\n",
       "      <td>4</td>\n",
       "      <td>0.000</td>\n",
       "    </tr>\n",
       "    <tr>\n",
       "      <th>227</th>\n",
       "      <td>5403999</td>\n",
       "      <td>198.000</td>\n",
       "      <td>236.688</td>\n",
       "      <td>Walk</td>\n",
       "      <td>s0</td>\n",
       "      <td>0</td>\n",
       "      <td>56</td>\n",
       "      <td>True</td>\n",
       "      <td>male</td>\n",
       "      <td>6</td>\n",
       "      <td>False</td>\n",
       "      <td>True</td>\n",
       "      <td>8</td>\n",
       "      <td>0.000</td>\n",
       "    </tr>\n",
       "    <tr>\n",
       "      <th>235</th>\n",
       "      <td>10315127</td>\n",
       "      <td>2394.000</td>\n",
       "      <td>31610.267</td>\n",
       "      <td>Car</td>\n",
       "      <td>s0</td>\n",
       "      <td>0</td>\n",
       "      <td>36</td>\n",
       "      <td>False</td>\n",
       "      <td>male</td>\n",
       "      <td>6</td>\n",
       "      <td>True</td>\n",
       "      <td>False</td>\n",
       "      <td>10</td>\n",
       "      <td>4.109</td>\n",
       "    </tr>\n",
       "    <tr>\n",
       "      <th>325</th>\n",
       "      <td>5215575</td>\n",
       "      <td>1245.000</td>\n",
       "      <td>20435.944</td>\n",
       "      <td>Car</td>\n",
       "      <td>s0</td>\n",
       "      <td>0</td>\n",
       "      <td>23</td>\n",
       "      <td>True</td>\n",
       "      <td>male</td>\n",
       "      <td>6</td>\n",
       "      <td>True</td>\n",
       "      <td>False</td>\n",
       "      <td>12</td>\n",
       "      <td>2.657</td>\n",
       "    </tr>\n",
       "  </tbody>\n",
       "</table>\n",
       "</div>"
      ],
      "text/plain": [
       "     person_id  travel_time  routed_distance  mode scen  group  age  employed  \\\n",
       "129    3150375     2241.000        34943.418   Car   s0      0   61     False   \n",
       "150    5800300      638.000          765.317  Walk   s0      0   34      True   \n",
       "227    5403999      198.000          236.688  Walk   s0      0   56      True   \n",
       "235   10315127     2394.000        31610.267   Car   s0      0   36     False   \n",
       "325    5215575     1245.000        20435.944   Car   s0      0   23      True   \n",
       "\n",
       "      sex  socioprofessional_class  has_driving_license  has_pt_subscription  \\\n",
       "129  male                        6                 True                False   \n",
       "150  male                        6                 True                 True   \n",
       "227  male                        6                False                 True   \n",
       "235  male                        6                 True                False   \n",
       "325  male                        6                 True                False   \n",
       "\n",
       "     persona  CO2e  \n",
       "129        2 4.543  \n",
       "150        4 0.000  \n",
       "227        8 0.000  \n",
       "235       10 4.109  \n",
       "325       12 2.657  "
      ]
     },
     "execution_count": 603,
     "metadata": {},
     "output_type": "execute_result"
    }
   ],
   "source": [
    "df_cps = df_cps.drop(columns=['person_trip_id','leg_index','origin_x','origin_y','destination_x','destination_y','departure_time',\n",
    "                     'vehicle_distance','euclidean_distance','cps'],axis=1)\n",
    "df_cps.head()"
   ]
  },
  {
   "cell_type": "code",
   "execution_count": 520,
   "id": "566b4a5a",
   "metadata": {},
   "outputs": [
    {
     "data": {
      "text/html": [
       "<div>\n",
       "<style scoped>\n",
       "    .dataframe tbody tr th:only-of-type {\n",
       "        vertical-align: middle;\n",
       "    }\n",
       "\n",
       "    .dataframe tbody tr th {\n",
       "        vertical-align: top;\n",
       "    }\n",
       "\n",
       "    .dataframe thead th {\n",
       "        text-align: right;\n",
       "    }\n",
       "</style>\n",
       "<table border=\"1\" class=\"dataframe\">\n",
       "  <thead>\n",
       "    <tr style=\"text-align: right;\">\n",
       "      <th></th>\n",
       "      <th>group</th>\n",
       "      <th>scen</th>\n",
       "      <th>person_id</th>\n",
       "      <th>persona</th>\n",
       "      <th>age</th>\n",
       "      <th>employed</th>\n",
       "      <th>sex</th>\n",
       "      <th>socioprofessional_class</th>\n",
       "      <th>has_driving_license</th>\n",
       "      <th>has_pt_subscription</th>\n",
       "      <th>travel_time</th>\n",
       "      <th>routed_distance</th>\n",
       "      <th>CO2e</th>\n",
       "    </tr>\n",
       "  </thead>\n",
       "  <tbody>\n",
       "    <tr>\n",
       "      <th>0</th>\n",
       "      <td>0</td>\n",
       "      <td>s0</td>\n",
       "      <td>2982</td>\n",
       "      <td>3</td>\n",
       "      <td>21</td>\n",
       "      <td>True</td>\n",
       "      <td>male</td>\n",
       "      <td>5</td>\n",
       "      <td>True</td>\n",
       "      <td>True</td>\n",
       "      <td>792.000</td>\n",
       "      <td>949.450</td>\n",
       "      <td>0.000</td>\n",
       "    </tr>\n",
       "    <tr>\n",
       "      <th>1</th>\n",
       "      <td>0</td>\n",
       "      <td>s0</td>\n",
       "      <td>8079</td>\n",
       "      <td>9</td>\n",
       "      <td>26</td>\n",
       "      <td>True</td>\n",
       "      <td>female</td>\n",
       "      <td>3</td>\n",
       "      <td>True</td>\n",
       "      <td>True</td>\n",
       "      <td>6159.000</td>\n",
       "      <td>21489.217</td>\n",
       "      <td>2.794</td>\n",
       "    </tr>\n",
       "    <tr>\n",
       "      <th>2</th>\n",
       "      <td>0</td>\n",
       "      <td>s0</td>\n",
       "      <td>10737</td>\n",
       "      <td>1</td>\n",
       "      <td>34</td>\n",
       "      <td>True</td>\n",
       "      <td>female</td>\n",
       "      <td>3</td>\n",
       "      <td>True</td>\n",
       "      <td>False</td>\n",
       "      <td>1633.000</td>\n",
       "      <td>9181.882</td>\n",
       "      <td>0.226</td>\n",
       "    </tr>\n",
       "  </tbody>\n",
       "</table>\n",
       "</div>"
      ],
      "text/plain": [
       "   group scen  person_id  persona  age  employed     sex  \\\n",
       "0      0   s0       2982        3   21      True    male   \n",
       "1      0   s0       8079        9   26      True  female   \n",
       "2      0   s0      10737        1   34      True  female   \n",
       "\n",
       "   socioprofessional_class  has_driving_license  has_pt_subscription  \\\n",
       "0                        5                 True                 True   \n",
       "1                        3                 True                 True   \n",
       "2                        3                 True                False   \n",
       "\n",
       "   travel_time  routed_distance  CO2e  \n",
       "0      792.000          949.450 0.000  \n",
       "1     6159.000        21489.217 2.794  \n",
       "2     1633.000         9181.882 0.226  "
      ]
     },
     "execution_count": 520,
     "metadata": {},
     "output_type": "execute_result"
    }
   ],
   "source": [
    "# sum up by person_id to get daily emissions and not leg emissisons\n",
    "df_cps_daily = df_cps.groupby(['group','scen','person_id']).agg({'persona': 'first','age': 'first',\n",
    "                                                'employed': 'first', 'sex': 'first',\n",
    "                                                'socioprofessional_class': 'first',\n",
    "                                                'has_driving_license': 'first',\n",
    "                                                'has_pt_subscription': 'first',\n",
    "                                                'travel_time': sum, 'routed_distance': sum, \n",
    "                                                'CO2e': sum}).reset_index()\n",
    "df_cps_daily.head(3)"
   ]
  },
  {
   "cell_type": "code",
   "execution_count": 521,
   "id": "3b5fbc1a",
   "metadata": {},
   "outputs": [
    {
     "name": "stderr",
     "output_type": "stream",
     "text": [
      "/var/folders/93/smcvnv_s04v84f_dnqvd4xkw0000gn/T/ipykernel_41393/2124908025.py:1: FutureWarning: The default value of numeric_only in DataFrameGroupBy.mean is deprecated. In a future version, numeric_only will default to False. Either specify numeric_only or select only columns which should be valid for the function.\n",
      "  df_cps_emis_pers = df_cps_daily.groupby(['group','persona'], as_index=False).mean()\n"
     ]
    }
   ],
   "source": [
    "df_cps_emis_pers = df_cps_daily.groupby(['group','persona'], as_index=False).mean()\n",
    "df_cps_emis_pers = df_cps_emis_pers.drop(columns=['person_id','age','employed',\n",
    "                                                  'has_driving_license','has_pt_subscription',\n",
    "                                                  'socioprofessional_class'], axis=1)\n",
    "df_cps_emis_pers.to_csv('data/interim/df_cps_emis_pers.csv', index=False)"
   ]
  },
  {
   "cell_type": "markdown",
   "id": "22d817ff",
   "metadata": {},
   "source": [
    "### Export temporary df for number of personas per scenario"
   ]
  },
  {
   "cell_type": "code",
   "execution_count": 533,
   "id": "ac2f4346",
   "metadata": {},
   "outputs": [],
   "source": [
    "pers_scen = {}\n",
    "for s in scenarios:\n",
    "    pers_scen[s] = df_cps.loc[df_cps['scen'] == s, 'persona'].value_counts()"
   ]
  },
  {
   "cell_type": "code",
   "execution_count": 545,
   "id": "ec14c438",
   "metadata": {},
   "outputs": [],
   "source": [
    "for s in scenarios:\n",
    "    df_temp = pers_scen[s]\n",
    "    df_temp = df_temp.reset_index()\n",
    "    df_temp = df_temp.rename(columns={'index': 'persona'})\n",
    "    df_temp.to_csv(f'data/interim/df_temp_{s}.csv', index=False)"
   ]
  },
  {
   "cell_type": "markdown",
   "id": "105489d5",
   "metadata": {},
   "source": [
    "# Random analysis"
   ]
  },
  {
   "cell_type": "code",
   "execution_count": 561,
   "id": "ad251318",
   "metadata": {},
   "outputs": [
    {
     "data": {
      "text/html": [
       "<div>\n",
       "<style scoped>\n",
       "    .dataframe tbody tr th:only-of-type {\n",
       "        vertical-align: middle;\n",
       "    }\n",
       "\n",
       "    .dataframe tbody tr th {\n",
       "        vertical-align: top;\n",
       "    }\n",
       "\n",
       "    .dataframe thead th {\n",
       "        text-align: right;\n",
       "    }\n",
       "</style>\n",
       "<table border=\"1\" class=\"dataframe\">\n",
       "  <thead>\n",
       "    <tr style=\"text-align: right;\">\n",
       "      <th></th>\n",
       "      <th>group</th>\n",
       "      <th>scen</th>\n",
       "      <th>person_id</th>\n",
       "      <th>persona</th>\n",
       "      <th>age</th>\n",
       "      <th>employed</th>\n",
       "      <th>sex</th>\n",
       "      <th>socioprofessional_class</th>\n",
       "      <th>has_driving_license</th>\n",
       "      <th>has_pt_subscription</th>\n",
       "      <th>travel_time</th>\n",
       "      <th>routed_distance</th>\n",
       "      <th>CO2e</th>\n",
       "    </tr>\n",
       "  </thead>\n",
       "  <tbody>\n",
       "    <tr>\n",
       "      <th>0</th>\n",
       "      <td>0</td>\n",
       "      <td>s0</td>\n",
       "      <td>2982</td>\n",
       "      <td>3</td>\n",
       "      <td>21</td>\n",
       "      <td>True</td>\n",
       "      <td>male</td>\n",
       "      <td>5</td>\n",
       "      <td>True</td>\n",
       "      <td>True</td>\n",
       "      <td>792.000</td>\n",
       "      <td>949.450</td>\n",
       "      <td>0.000</td>\n",
       "    </tr>\n",
       "    <tr>\n",
       "      <th>1</th>\n",
       "      <td>0</td>\n",
       "      <td>s0</td>\n",
       "      <td>8079</td>\n",
       "      <td>9</td>\n",
       "      <td>26</td>\n",
       "      <td>True</td>\n",
       "      <td>female</td>\n",
       "      <td>3</td>\n",
       "      <td>True</td>\n",
       "      <td>True</td>\n",
       "      <td>6159.000</td>\n",
       "      <td>21489.217</td>\n",
       "      <td>2.794</td>\n",
       "    </tr>\n",
       "    <tr>\n",
       "      <th>2</th>\n",
       "      <td>0</td>\n",
       "      <td>s0</td>\n",
       "      <td>10737</td>\n",
       "      <td>1</td>\n",
       "      <td>34</td>\n",
       "      <td>True</td>\n",
       "      <td>female</td>\n",
       "      <td>3</td>\n",
       "      <td>True</td>\n",
       "      <td>False</td>\n",
       "      <td>1633.000</td>\n",
       "      <td>9181.882</td>\n",
       "      <td>0.226</td>\n",
       "    </tr>\n",
       "  </tbody>\n",
       "</table>\n",
       "</div>"
      ],
      "text/plain": [
       "   group scen  person_id  persona  age  employed     sex  \\\n",
       "0      0   s0       2982        3   21      True    male   \n",
       "1      0   s0       8079        9   26      True  female   \n",
       "2      0   s0      10737        1   34      True  female   \n",
       "\n",
       "   socioprofessional_class  has_driving_license  has_pt_subscription  \\\n",
       "0                        5                 True                 True   \n",
       "1                        3                 True                 True   \n",
       "2                        3                 True                False   \n",
       "\n",
       "   travel_time  routed_distance  CO2e  \n",
       "0      792.000          949.450 0.000  \n",
       "1     6159.000        21489.217 2.794  \n",
       "2     1633.000         9181.882 0.226  "
      ]
     },
     "execution_count": 561,
     "metadata": {},
     "output_type": "execute_result"
    }
   ],
   "source": [
    "df_cps_daily.head(3)"
   ]
  },
  {
   "cell_type": "code",
   "execution_count": 563,
   "id": "5b096ea8",
   "metadata": {},
   "outputs": [
    {
     "data": {
      "text/plain": [
       "1.6762154036083838"
      ]
     },
     "execution_count": 563,
     "metadata": {},
     "output_type": "execute_result"
    }
   ],
   "source": [
    "df_cps_daily[(df_cps_daily['sex']=='male') & (df_cps_daily['scen'] == 's0')]['CO2e'].mean()"
   ]
  },
  {
   "cell_type": "code",
   "execution_count": 564,
   "id": "b7acca36",
   "metadata": {
    "scrolled": true
   },
   "outputs": [
    {
     "data": {
      "text/plain": [
       "1.024181775882461"
      ]
     },
     "execution_count": 564,
     "metadata": {},
     "output_type": "execute_result"
    }
   ],
   "source": [
    "df_cps_daily[(df_cps_daily['sex']=='male') & (df_cps_daily['scen'] != 's0')]['CO2e'].mean()"
   ]
  },
  {
   "cell_type": "code",
   "execution_count": 565,
   "id": "20089485",
   "metadata": {},
   "outputs": [
    {
     "data": {
      "text/plain": [
       "0.9127094930292851"
      ]
     },
     "execution_count": 565,
     "metadata": {},
     "output_type": "execute_result"
    }
   ],
   "source": [
    "df_cps_daily[df_cps_daily['sex']=='female']['CO2e'].mean()"
   ]
  },
  {
   "cell_type": "code",
   "execution_count": 567,
   "id": "9963ac81",
   "metadata": {},
   "outputs": [
    {
     "data": {
      "text/plain": [
       "0.8581424926124269"
      ]
     },
     "execution_count": 567,
     "metadata": {},
     "output_type": "execute_result"
    }
   ],
   "source": [
    "df_cps_daily[(df_cps_daily['sex']=='female') & (df_cps_daily['scen'] != 's0')]['CO2e'].mean()"
   ]
  },
  {
   "cell_type": "code",
   "execution_count": 568,
   "id": "ff88daaa",
   "metadata": {},
   "outputs": [
    {
     "data": {
      "text/plain": [
       "1.9721574460256057"
      ]
     },
     "execution_count": 568,
     "metadata": {},
     "output_type": "execute_result"
    }
   ],
   "source": [
    "df_cps_daily[(df_cps_daily['employed']==True) & (df_cps_daily['scen'] == 's0')]['CO2e'].mean()"
   ]
  },
  {
   "cell_type": "code",
   "execution_count": 574,
   "id": "3af94cde",
   "metadata": {},
   "outputs": [
    {
     "data": {
      "text/plain": [
       "1.0316199309327991"
      ]
     },
     "execution_count": 574,
     "metadata": {},
     "output_type": "execute_result"
    }
   ],
   "source": [
    "df_cps_daily[(df_cps_daily['employed']==False) & (df_cps_daily['scen'] == 's0')]['CO2e'].mean()"
   ]
  },
  {
   "cell_type": "code",
   "execution_count": 575,
   "id": "6f161f58",
   "metadata": {},
   "outputs": [
    {
     "data": {
      "text/plain": [
       "1.2066623650481412"
      ]
     },
     "execution_count": 575,
     "metadata": {},
     "output_type": "execute_result"
    }
   ],
   "source": [
    "df_cps_daily[(df_cps_daily['employed']==True) & (df_cps_daily['scen'] != 's0')]['CO2e'].mean()"
   ]
  },
  {
   "cell_type": "code",
   "execution_count": 576,
   "id": "4dee703f",
   "metadata": {},
   "outputs": [
    {
     "data": {
      "text/plain": [
       "0.6305069192081867"
      ]
     },
     "execution_count": 576,
     "metadata": {},
     "output_type": "execute_result"
    }
   ],
   "source": [
    "df_cps_daily[(df_cps_daily['employed']==False) & (df_cps_daily['scen'] != 's0')]['CO2e'].mean()"
   ]
  },
  {
   "cell_type": "code",
   "execution_count": 577,
   "id": "c8a2cb09",
   "metadata": {},
   "outputs": [
    {
     "data": {
      "text/plain": [
       "2.0174465893434337"
      ]
     },
     "execution_count": 577,
     "metadata": {},
     "output_type": "execute_result"
    }
   ],
   "source": [
    "df_cps_daily[(df_cps_daily['has_driving_license']==True) & (df_cps_daily['scen'] == 's0')]['CO2e'].mean()"
   ]
  },
  {
   "cell_type": "code",
   "execution_count": 578,
   "id": "2607ebc2",
   "metadata": {},
   "outputs": [
    {
     "data": {
      "text/plain": [
       "0.40824381628223416"
      ]
     },
     "execution_count": 578,
     "metadata": {},
     "output_type": "execute_result"
    }
   ],
   "source": [
    "df_cps_daily[(df_cps_daily['has_driving_license']==False) & (df_cps_daily['scen'] == 's0')]['CO2e'].mean()"
   ]
  },
  {
   "cell_type": "markdown",
   "id": "11321a6f",
   "metadata": {},
   "source": [
    "### Socio-professional class"
   ]
  },
  {
   "cell_type": "code",
   "execution_count": 581,
   "id": "b2811f56",
   "metadata": {},
   "outputs": [
    {
     "data": {
      "text/plain": [
       "2.458922838017109"
      ]
     },
     "execution_count": 581,
     "metadata": {},
     "output_type": "execute_result"
    }
   ],
   "source": [
    "df_cps_daily[(df_cps_daily['socioprofessional_class']==2) & (df_cps_daily['scen'] == 's0')]['CO2e'].mean()"
   ]
  },
  {
   "cell_type": "code",
   "execution_count": 582,
   "id": "562aeb14",
   "metadata": {},
   "outputs": [
    {
     "data": {
      "text/plain": [
       "2.1257255318940067"
      ]
     },
     "execution_count": 582,
     "metadata": {},
     "output_type": "execute_result"
    }
   ],
   "source": [
    "df_cps_daily[(df_cps_daily['socioprofessional_class']==3) & (df_cps_daily['scen'] == 's0')]['CO2e'].mean()"
   ]
  },
  {
   "cell_type": "code",
   "execution_count": 583,
   "id": "8b0811ab",
   "metadata": {},
   "outputs": [
    {
     "data": {
      "text/plain": [
       "2.0019136199864236"
      ]
     },
     "execution_count": 583,
     "metadata": {},
     "output_type": "execute_result"
    }
   ],
   "source": [
    "df_cps_daily[(df_cps_daily['socioprofessional_class']==4) & (df_cps_daily['scen'] == 's0')]['CO2e'].mean()"
   ]
  },
  {
   "cell_type": "code",
   "execution_count": 585,
   "id": "ea8e650e",
   "metadata": {
    "scrolled": true
   },
   "outputs": [
    {
     "data": {
      "text/plain": [
       "1.5084911475951979"
      ]
     },
     "execution_count": 585,
     "metadata": {},
     "output_type": "execute_result"
    }
   ],
   "source": [
    "df_cps_daily[(df_cps_daily['socioprofessional_class']==5) & (df_cps_daily['scen'] == 's0')]['CO2e'].mean()"
   ]
  },
  {
   "cell_type": "code",
   "execution_count": 586,
   "id": "7ba43573",
   "metadata": {},
   "outputs": [
    {
     "data": {
      "text/plain": [
       "1.9796435287464873"
      ]
     },
     "execution_count": 586,
     "metadata": {},
     "output_type": "execute_result"
    }
   ],
   "source": [
    "df_cps_daily[(df_cps_daily['socioprofessional_class']==6) & (df_cps_daily['scen'] == 's0')]['CO2e'].mean()"
   ]
  },
  {
   "cell_type": "code",
   "execution_count": 587,
   "id": "b2289114",
   "metadata": {},
   "outputs": [
    {
     "data": {
      "text/plain": [
       "1.3705717717718315"
      ]
     },
     "execution_count": 587,
     "metadata": {},
     "output_type": "execute_result"
    }
   ],
   "source": [
    "df_cps_daily[(df_cps_daily['socioprofessional_class']==7) & (df_cps_daily['scen'] == 's0')]['CO2e'].mean()"
   ]
  },
  {
   "cell_type": "code",
   "execution_count": 588,
   "id": "de2d164f",
   "metadata": {},
   "outputs": [
    {
     "data": {
      "text/plain": [
       "0.6649826175359229"
      ]
     },
     "execution_count": 588,
     "metadata": {},
     "output_type": "execute_result"
    }
   ],
   "source": [
    "df_cps_daily[(df_cps_daily['socioprofessional_class']==8) & (df_cps_daily['scen'] == 's0')]['CO2e'].mean()"
   ]
  },
  {
   "cell_type": "markdown",
   "id": "57dbd5de",
   "metadata": {},
   "source": [
    "# Cost analysis"
   ]
  },
  {
   "cell_type": "code",
   "execution_count": 605,
   "id": "dbbce51e",
   "metadata": {},
   "outputs": [
    {
     "data": {
      "text/html": [
       "<div>\n",
       "<style scoped>\n",
       "    .dataframe tbody tr th:only-of-type {\n",
       "        vertical-align: middle;\n",
       "    }\n",
       "\n",
       "    .dataframe tbody tr th {\n",
       "        vertical-align: top;\n",
       "    }\n",
       "\n",
       "    .dataframe thead th {\n",
       "        text-align: right;\n",
       "    }\n",
       "</style>\n",
       "<table border=\"1\" class=\"dataframe\">\n",
       "  <thead>\n",
       "    <tr style=\"text-align: right;\">\n",
       "      <th></th>\n",
       "      <th>person_id</th>\n",
       "      <th>travel_time</th>\n",
       "      <th>routed_distance</th>\n",
       "      <th>mode</th>\n",
       "      <th>scen</th>\n",
       "      <th>group</th>\n",
       "      <th>age</th>\n",
       "      <th>employed</th>\n",
       "      <th>sex</th>\n",
       "      <th>socioprofessional_class</th>\n",
       "      <th>has_driving_license</th>\n",
       "      <th>has_pt_subscription</th>\n",
       "      <th>persona</th>\n",
       "      <th>CO2e</th>\n",
       "    </tr>\n",
       "  </thead>\n",
       "  <tbody>\n",
       "    <tr>\n",
       "      <th>129</th>\n",
       "      <td>3150375</td>\n",
       "      <td>2241.000</td>\n",
       "      <td>34943.418</td>\n",
       "      <td>Car</td>\n",
       "      <td>s0</td>\n",
       "      <td>0</td>\n",
       "      <td>61</td>\n",
       "      <td>False</td>\n",
       "      <td>male</td>\n",
       "      <td>6</td>\n",
       "      <td>True</td>\n",
       "      <td>False</td>\n",
       "      <td>2</td>\n",
       "      <td>4.543</td>\n",
       "    </tr>\n",
       "    <tr>\n",
       "      <th>150</th>\n",
       "      <td>5800300</td>\n",
       "      <td>638.000</td>\n",
       "      <td>765.317</td>\n",
       "      <td>Walk</td>\n",
       "      <td>s0</td>\n",
       "      <td>0</td>\n",
       "      <td>34</td>\n",
       "      <td>True</td>\n",
       "      <td>male</td>\n",
       "      <td>6</td>\n",
       "      <td>True</td>\n",
       "      <td>True</td>\n",
       "      <td>4</td>\n",
       "      <td>0.000</td>\n",
       "    </tr>\n",
       "    <tr>\n",
       "      <th>227</th>\n",
       "      <td>5403999</td>\n",
       "      <td>198.000</td>\n",
       "      <td>236.688</td>\n",
       "      <td>Walk</td>\n",
       "      <td>s0</td>\n",
       "      <td>0</td>\n",
       "      <td>56</td>\n",
       "      <td>True</td>\n",
       "      <td>male</td>\n",
       "      <td>6</td>\n",
       "      <td>False</td>\n",
       "      <td>True</td>\n",
       "      <td>8</td>\n",
       "      <td>0.000</td>\n",
       "    </tr>\n",
       "    <tr>\n",
       "      <th>235</th>\n",
       "      <td>10315127</td>\n",
       "      <td>2394.000</td>\n",
       "      <td>31610.267</td>\n",
       "      <td>Car</td>\n",
       "      <td>s0</td>\n",
       "      <td>0</td>\n",
       "      <td>36</td>\n",
       "      <td>False</td>\n",
       "      <td>male</td>\n",
       "      <td>6</td>\n",
       "      <td>True</td>\n",
       "      <td>False</td>\n",
       "      <td>10</td>\n",
       "      <td>4.109</td>\n",
       "    </tr>\n",
       "    <tr>\n",
       "      <th>325</th>\n",
       "      <td>5215575</td>\n",
       "      <td>1245.000</td>\n",
       "      <td>20435.944</td>\n",
       "      <td>Car</td>\n",
       "      <td>s0</td>\n",
       "      <td>0</td>\n",
       "      <td>23</td>\n",
       "      <td>True</td>\n",
       "      <td>male</td>\n",
       "      <td>6</td>\n",
       "      <td>True</td>\n",
       "      <td>False</td>\n",
       "      <td>12</td>\n",
       "      <td>2.657</td>\n",
       "    </tr>\n",
       "  </tbody>\n",
       "</table>\n",
       "</div>"
      ],
      "text/plain": [
       "     person_id  travel_time  routed_distance  mode scen  group  age  employed  \\\n",
       "129    3150375     2241.000        34943.418   Car   s0      0   61     False   \n",
       "150    5800300      638.000          765.317  Walk   s0      0   34      True   \n",
       "227    5403999      198.000          236.688  Walk   s0      0   56      True   \n",
       "235   10315127     2394.000        31610.267   Car   s0      0   36     False   \n",
       "325    5215575     1245.000        20435.944   Car   s0      0   23      True   \n",
       "\n",
       "      sex  socioprofessional_class  has_driving_license  has_pt_subscription  \\\n",
       "129  male                        6                 True                False   \n",
       "150  male                        6                 True                 True   \n",
       "227  male                        6                False                 True   \n",
       "235  male                        6                 True                False   \n",
       "325  male                        6                 True                False   \n",
       "\n",
       "     persona  CO2e  \n",
       "129        2 4.543  \n",
       "150        4 0.000  \n",
       "227        8 0.000  \n",
       "235       10 4.109  \n",
       "325       12 2.657  "
      ]
     },
     "execution_count": 605,
     "metadata": {},
     "output_type": "execute_result"
    }
   ],
   "source": [
    "df_cps.head()"
   ]
  },
  {
   "cell_type": "code",
   "execution_count": 606,
   "id": "d2ebf6a3",
   "metadata": {},
   "outputs": [],
   "source": [
    "# Assign cost based on mode and distance\n",
    "df_cps.loc[df_cps['mode'].isin(['Walk', 'Bike']), 'Cost'] = 0\n",
    "\n",
    "# Car based\n",
    "df_cps.loc[df_cps['mode'] == 'Car', 'Cost'] = df_cps['routed_distance'] / 1000 * 0.9\n",
    "df_cps.loc[df_cps['mode'] == 'Passenger', 'Cost'] = df_cps['routed_distance'] / 1000 * 0.45\n",
    "\n",
    "# Looking only at CPS and assuming that no regular trips between Paris/CPS will be made without\n",
    "# a Navigo pass for financial reasons, the price is set at a single ticket\n",
    "# The maximum price is set at 4 euros per person as otherwise, a Navigo subscription is cheaper\n",
    "df_cps.loc[(df_cps['mode'] == 'Public Transport') & (df_cps['has_pt_subscription'] == True),\n",
    "                                                     'Cost'] = 0\n",
    "df_cps.loc[(df_cps['mode'] == 'Public Transport') & (df_cps['has_pt_subscription'] != True),\n",
    "                                                     'PT_Cost'] = 2\n",
    "\n",
    "# For SAEV €1.53 per km for zone b in Paris region according to G7 data on 18 May 2023 (https://www.g7.fr/en/paris-taxi-fares)\n",
    "# and Pick-up fee of €2.6. We do not consider minimum trip cost as not integrated in model.\n",
    "# As SAEVs are supposed to be cheaper, sharing further reduces costs, \n",
    "# use less costly engines,and potential subsidy due to suburban setting\n",
    "# we assume a quarter of the price > 0.65 ct pick up fee, 0.38 ct per km\n",
    "df_cps.loc[df_cps['mode'] == 'SAEV', 'Cost'] = 0.65 + df_cps['routed_distance'] / 1000 * 0.38"
   ]
  },
  {
   "cell_type": "code",
   "execution_count": 628,
   "id": "480a2138",
   "metadata": {},
   "outputs": [
    {
     "data": {
      "text/html": [
       "<div>\n",
       "<style scoped>\n",
       "    .dataframe tbody tr th:only-of-type {\n",
       "        vertical-align: middle;\n",
       "    }\n",
       "\n",
       "    .dataframe tbody tr th {\n",
       "        vertical-align: top;\n",
       "    }\n",
       "\n",
       "    .dataframe thead th {\n",
       "        text-align: right;\n",
       "    }\n",
       "</style>\n",
       "<table border=\"1\" class=\"dataframe\">\n",
       "  <thead>\n",
       "    <tr style=\"text-align: right;\">\n",
       "      <th></th>\n",
       "      <th>group</th>\n",
       "      <th>scen</th>\n",
       "      <th>person_id</th>\n",
       "      <th>persona</th>\n",
       "      <th>age</th>\n",
       "      <th>employed</th>\n",
       "      <th>sex</th>\n",
       "      <th>socioprofessional_class</th>\n",
       "      <th>has_driving_license</th>\n",
       "      <th>has_pt_subscription</th>\n",
       "      <th>travel_time</th>\n",
       "      <th>routed_distance</th>\n",
       "      <th>CO2e</th>\n",
       "      <th>Cost</th>\n",
       "      <th>PT_Cost</th>\n",
       "    </tr>\n",
       "  </thead>\n",
       "  <tbody>\n",
       "    <tr>\n",
       "      <th>0</th>\n",
       "      <td>0</td>\n",
       "      <td>s0</td>\n",
       "      <td>2982</td>\n",
       "      <td>3</td>\n",
       "      <td>21</td>\n",
       "      <td>True</td>\n",
       "      <td>male</td>\n",
       "      <td>5</td>\n",
       "      <td>True</td>\n",
       "      <td>True</td>\n",
       "      <td>792.000</td>\n",
       "      <td>949.450</td>\n",
       "      <td>0.000</td>\n",
       "      <td>0.000</td>\n",
       "      <td>0.000</td>\n",
       "    </tr>\n",
       "    <tr>\n",
       "      <th>1</th>\n",
       "      <td>0</td>\n",
       "      <td>s0</td>\n",
       "      <td>8079</td>\n",
       "      <td>9</td>\n",
       "      <td>26</td>\n",
       "      <td>True</td>\n",
       "      <td>female</td>\n",
       "      <td>3</td>\n",
       "      <td>True</td>\n",
       "      <td>True</td>\n",
       "      <td>6159.000</td>\n",
       "      <td>21489.217</td>\n",
       "      <td>2.794</td>\n",
       "      <td>19.340</td>\n",
       "      <td>0.000</td>\n",
       "    </tr>\n",
       "    <tr>\n",
       "      <th>2</th>\n",
       "      <td>0</td>\n",
       "      <td>s0</td>\n",
       "      <td>10737</td>\n",
       "      <td>1</td>\n",
       "      <td>34</td>\n",
       "      <td>True</td>\n",
       "      <td>female</td>\n",
       "      <td>3</td>\n",
       "      <td>True</td>\n",
       "      <td>False</td>\n",
       "      <td>1633.000</td>\n",
       "      <td>9181.882</td>\n",
       "      <td>0.226</td>\n",
       "      <td>0.000</td>\n",
       "      <td>2.000</td>\n",
       "    </tr>\n",
       "  </tbody>\n",
       "</table>\n",
       "</div>"
      ],
      "text/plain": [
       "   group scen  person_id  persona  age  employed     sex  \\\n",
       "0      0   s0       2982        3   21      True    male   \n",
       "1      0   s0       8079        9   26      True  female   \n",
       "2      0   s0      10737        1   34      True  female   \n",
       "\n",
       "   socioprofessional_class  has_driving_license  has_pt_subscription  \\\n",
       "0                        5                 True                 True   \n",
       "1                        3                 True                 True   \n",
       "2                        3                 True                False   \n",
       "\n",
       "   travel_time  routed_distance  CO2e   Cost  PT_Cost  \n",
       "0      792.000          949.450 0.000  0.000    0.000  \n",
       "1     6159.000        21489.217 2.794 19.340    0.000  \n",
       "2     1633.000         9181.882 0.226  0.000    2.000  "
      ]
     },
     "execution_count": 628,
     "metadata": {},
     "output_type": "execute_result"
    }
   ],
   "source": [
    "# sum up by person_id to get daily emissions and not leg emissisons\n",
    "df_cps_daily_pt = df_cps.groupby(['group','scen','person_id']).agg({'persona': 'first',\n",
    "                                                'age': 'first',\n",
    "                                                'employed': 'first',\n",
    "                                                'sex': 'first',\n",
    "                                                'socioprofessional_class': 'first',\n",
    "                                                'has_driving_license': 'first',\n",
    "                                                'has_pt_subscription': 'first',\n",
    "                                                'travel_time': sum, \n",
    "                                                'routed_distance': sum, \n",
    "                                                'CO2e': sum,\n",
    "                                                'Cost': sum,\n",
    "                                                'PT_Cost': sum}).reset_index()\n",
    "df_cps_daily_pt.head(3)"
   ]
  },
  {
   "cell_type": "code",
   "execution_count": 629,
   "id": "daf7ed68",
   "metadata": {},
   "outputs": [],
   "source": [
    "# Cut off PT_Cost at 4 euro\n",
    "df_cps_daily_pt.loc[df_cps_daily_pt['PT_Cost'] > 4, 'PT_Cost'] = 4\n",
    "df_cps_daily_pt['Cost'] = df_cps_daily_pt['Cost'] + df_cps_daily_pt['PT_Cost']\n",
    "df_cps_daily_pt = df_cps_daily_pt.drop(columns='PT_Cost', axis=1)"
   ]
  },
  {
   "cell_type": "code",
   "execution_count": 630,
   "id": "2cdc268a",
   "metadata": {},
   "outputs": [
    {
     "data": {
      "text/html": [
       "<div>\n",
       "<style scoped>\n",
       "    .dataframe tbody tr th:only-of-type {\n",
       "        vertical-align: middle;\n",
       "    }\n",
       "\n",
       "    .dataframe tbody tr th {\n",
       "        vertical-align: top;\n",
       "    }\n",
       "\n",
       "    .dataframe thead th {\n",
       "        text-align: right;\n",
       "    }\n",
       "</style>\n",
       "<table border=\"1\" class=\"dataframe\">\n",
       "  <thead>\n",
       "    <tr style=\"text-align: right;\">\n",
       "      <th></th>\n",
       "      <th>group</th>\n",
       "      <th>scen</th>\n",
       "      <th>person_id</th>\n",
       "      <th>persona</th>\n",
       "      <th>age</th>\n",
       "      <th>employed</th>\n",
       "      <th>sex</th>\n",
       "      <th>socioprofessional_class</th>\n",
       "      <th>has_driving_license</th>\n",
       "      <th>has_pt_subscription</th>\n",
       "      <th>travel_time</th>\n",
       "      <th>routed_distance</th>\n",
       "      <th>CO2e</th>\n",
       "      <th>Cost</th>\n",
       "    </tr>\n",
       "  </thead>\n",
       "  <tbody>\n",
       "    <tr>\n",
       "      <th>0</th>\n",
       "      <td>0</td>\n",
       "      <td>s0</td>\n",
       "      <td>2982</td>\n",
       "      <td>3</td>\n",
       "      <td>21</td>\n",
       "      <td>True</td>\n",
       "      <td>male</td>\n",
       "      <td>5</td>\n",
       "      <td>True</td>\n",
       "      <td>True</td>\n",
       "      <td>792.000</td>\n",
       "      <td>949.450</td>\n",
       "      <td>0.000</td>\n",
       "      <td>0.000</td>\n",
       "    </tr>\n",
       "    <tr>\n",
       "      <th>1</th>\n",
       "      <td>0</td>\n",
       "      <td>s0</td>\n",
       "      <td>8079</td>\n",
       "      <td>9</td>\n",
       "      <td>26</td>\n",
       "      <td>True</td>\n",
       "      <td>female</td>\n",
       "      <td>3</td>\n",
       "      <td>True</td>\n",
       "      <td>True</td>\n",
       "      <td>6159.000</td>\n",
       "      <td>21489.217</td>\n",
       "      <td>2.794</td>\n",
       "      <td>19.340</td>\n",
       "    </tr>\n",
       "    <tr>\n",
       "      <th>2</th>\n",
       "      <td>0</td>\n",
       "      <td>s0</td>\n",
       "      <td>10737</td>\n",
       "      <td>1</td>\n",
       "      <td>34</td>\n",
       "      <td>True</td>\n",
       "      <td>female</td>\n",
       "      <td>3</td>\n",
       "      <td>True</td>\n",
       "      <td>False</td>\n",
       "      <td>1633.000</td>\n",
       "      <td>9181.882</td>\n",
       "      <td>0.226</td>\n",
       "      <td>2.000</td>\n",
       "    </tr>\n",
       "  </tbody>\n",
       "</table>\n",
       "</div>"
      ],
      "text/plain": [
       "   group scen  person_id  persona  age  employed     sex  \\\n",
       "0      0   s0       2982        3   21      True    male   \n",
       "1      0   s0       8079        9   26      True  female   \n",
       "2      0   s0      10737        1   34      True  female   \n",
       "\n",
       "   socioprofessional_class  has_driving_license  has_pt_subscription  \\\n",
       "0                        5                 True                 True   \n",
       "1                        3                 True                 True   \n",
       "2                        3                 True                False   \n",
       "\n",
       "   travel_time  routed_distance  CO2e   Cost  \n",
       "0      792.000          949.450 0.000  0.000  \n",
       "1     6159.000        21489.217 2.794 19.340  \n",
       "2     1633.000         9181.882 0.226  2.000  "
      ]
     },
     "execution_count": 630,
     "metadata": {},
     "output_type": "execute_result"
    }
   ],
   "source": [
    "df_cps_daily_pt.head(3)"
   ]
  },
  {
   "cell_type": "code",
   "execution_count": 631,
   "id": "22c76e79",
   "metadata": {},
   "outputs": [
    {
     "name": "stderr",
     "output_type": "stream",
     "text": [
      "/var/folders/93/smcvnv_s04v84f_dnqvd4xkw0000gn/T/ipykernel_41393/3156362637.py:1: FutureWarning: The default value of numeric_only in DataFrameGroupBy.sum is deprecated. In a future version, numeric_only will default to False. Either specify numeric_only or select only columns which should be valid for the function.\n",
      "  df_cps_daily_pt = df_cps_daily_pt.groupby(['group','scen'], as_index=False).sum()\n"
     ]
    }
   ],
   "source": [
    "df_cps_daily_pt = df_cps_daily_pt.groupby(['group','scen'], as_index=False).sum()\n",
    "df_cps_daily_pt = df_cps_daily_pt.drop(columns=['person_id','age','employed',\n",
    "                                                  'has_driving_license','has_pt_subscription',\n",
    "                                                  'socioprofessional_class'], axis=1)\n",
    "df_cps_daily_pt.to_csv('data/interim/df_cps_daily_pt.csv', index=False)"
   ]
  },
  {
   "cell_type": "code",
   "execution_count": null,
   "id": "34d2d66c",
   "metadata": {},
   "outputs": [],
   "source": []
  },
  {
   "cell_type": "code",
   "execution_count": null,
   "id": "16133b42",
   "metadata": {},
   "outputs": [],
   "source": []
  },
  {
   "cell_type": "code",
   "execution_count": null,
   "id": "576a3bf7",
   "metadata": {},
   "outputs": [],
   "source": []
  },
  {
   "cell_type": "code",
   "execution_count": 157,
   "id": "11b35f0c",
   "metadata": {},
   "outputs": [
    {
     "data": {
      "image/png": "[encoded data removed]",
      "text/plain": [
       "<Figure size 864x432 with 1 Axes>"
      ]
     },
     "metadata": {
      "needs_background": "light"
     },
     "output_type": "display_data"
    }
   ],
   "source": [
    "# Set the color palette to shades of blue\n",
    "sns.set_palette(\"Blues\")\n",
    "\n",
    "df_emis['group'] = df_emis['group'].replace({0: 'Today', 1: '2030 without MoD', 2: '2030 with MoD'})\n",
    "\n",
    "# Select only the desired modes\n",
    "modes = ['Car', 'Passenger', 'Public Transport', 'SAEV']\n",
    "df_emis_selected = df_emis.loc[df_emis['mode'].isin(modes)]\n",
    "\n",
    "# Create bar chart with hue = 'group' and y = mean travel_time\n",
    "ax = sns.barplot(x=\"mode\", y='CO2e', hue=\"group\", data=df_emis_selected)\n",
    "\n",
    "# Set the y-axis limits to only show values between 20 and 30\n",
    "ax.set_ylim(0, 6000000)\n",
    "\n",
    "# Add title\n",
    "ax.set_title(\"CO2e emissions per scenario group for 1%\")\n",
    "\n",
    "# Add x and y axis titles\n",
    "ax.set(xlabel=\"Mode\", ylabel=\"CO2e emissions per scenario group and mode\")\n",
    "\n",
    "# Format x-axis labels as integers\n",
    "ax.set_xticklabels([label.get_text() for label in ax.get_xticklabels() if label.get_text() in modes], rotation=0, ha=\"center\", fontsize=12)\n",
    "\n",
    "# Set default figure size using rcParams\n",
    "mpl.rcParams['figure.figsize'] = [12, 6]\n",
    "\n",
    "# Show plot\n",
    "plt.show()\n"
   ]
  },
  {
   "cell_type": "code",
   "execution_count": 149,
   "id": "fbca4146",
   "metadata": {},
   "outputs": [
    {
     "name": "stderr",
     "output_type": "stream",
     "text": [
      "/var/folders/93/smcvnv_s04v84f_dnqvd4xkw0000gn/T/ipykernel_41393/2065738219.py:1: FutureWarning: The default value of numeric_only in DataFrameGroupBy.sum is deprecated. In a future version, numeric_only will default to False. Either specify numeric_only or select only columns which should be valid for the function.\n",
      "  df_emis_scen = df_emis.groupby(['scen'], as_index=False).sum()\n"
     ]
    }
   ],
   "source": [
    "df_emis_scen = df_emis.groupby(['scen'], as_index=False).sum()\n"
   ]
  },
  {
   "cell_type": "code",
   "execution_count": 150,
   "id": "79991046",
   "metadata": {},
   "outputs": [
    {
     "data": {
      "text/html": [
       "<div>\n",
       "<style scoped>\n",
       "    .dataframe tbody tr th:only-of-type {\n",
       "        vertical-align: middle;\n",
       "    }\n",
       "\n",
       "    .dataframe tbody tr th {\n",
       "        vertical-align: top;\n",
       "    }\n",
       "\n",
       "    .dataframe thead th {\n",
       "        text-align: right;\n",
       "    }\n",
       "</style>\n",
       "<table border=\"1\" class=\"dataframe\">\n",
       "  <thead>\n",
       "    <tr style=\"text-align: right;\">\n",
       "      <th></th>\n",
       "      <th>scen</th>\n",
       "      <th>persona</th>\n",
       "      <th>person_id</th>\n",
       "      <th>person_trip_id</th>\n",
       "      <th>leg_index</th>\n",
       "      <th>origin_x</th>\n",
       "      <th>origin_y</th>\n",
       "      <th>destination_x</th>\n",
       "      <th>destination_y</th>\n",
       "      <th>departure_time</th>\n",
       "      <th>travel_time</th>\n",
       "      <th>vehicle_distance</th>\n",
       "      <th>routed_distance</th>\n",
       "      <th>euclidean_distance</th>\n",
       "      <th>cps</th>\n",
       "      <th>avg_speed</th>\n",
       "      <th>CO2e</th>\n",
       "    </tr>\n",
       "  </thead>\n",
       "  <tbody>\n",
       "    <tr>\n",
       "      <th>0</th>\n",
       "      <td>s0</td>\n",
       "      <td>2030</td>\n",
       "      <td>3748216867169</td>\n",
       "      <td>1229056</td>\n",
       "      <td>3059702</td>\n",
       "      <td>4.257339e+11</td>\n",
       "      <td>4.478575e+12</td>\n",
       "      <td>4.257322e+11</td>\n",
       "      <td>4.478579e+12</td>\n",
       "      <td>3.313318e+10</td>\n",
       "      <td>654364022.0</td>\n",
       "      <td>1.242698e+09</td>\n",
       "      <td>2.585459e+09</td>\n",
       "      <td>1.798827e+09</td>\n",
       "      <td>15699</td>\n",
       "      <td>7.780396e+06</td>\n",
       "      <td>1.556675e+08</td>\n",
       "    </tr>\n",
       "    <tr>\n",
       "      <th>1</th>\n",
       "      <td>s1</td>\n",
       "      <td>2030</td>\n",
       "      <td>4588961777615</td>\n",
       "      <td>1381708</td>\n",
       "      <td>3491916</td>\n",
       "      <td>4.779994e+11</td>\n",
       "      <td>5.024646e+12</td>\n",
       "      <td>4.779976e+11</td>\n",
       "      <td>5.024649e+12</td>\n",
       "      <td>3.718945e+10</td>\n",
       "      <td>747027881.0</td>\n",
       "      <td>1.356213e+09</td>\n",
       "      <td>2.898254e+09</td>\n",
       "      <td>2.015840e+09</td>\n",
       "      <td>17992</td>\n",
       "      <td>8.675738e+06</td>\n",
       "      <td>1.717356e+08</td>\n",
       "    </tr>\n",
       "    <tr>\n",
       "      <th>2</th>\n",
       "      <td>s2</td>\n",
       "      <td>2030</td>\n",
       "      <td>4550428801222</td>\n",
       "      <td>1357791</td>\n",
       "      <td>3444016</td>\n",
       "      <td>4.725824e+11</td>\n",
       "      <td>4.967752e+12</td>\n",
       "      <td>4.725808e+11</td>\n",
       "      <td>4.967756e+12</td>\n",
       "      <td>3.673380e+10</td>\n",
       "      <td>739133253.0</td>\n",
       "      <td>1.361272e+09</td>\n",
       "      <td>2.900597e+09</td>\n",
       "      <td>2.018965e+09</td>\n",
       "      <td>18183</td>\n",
       "      <td>8.611842e+06</td>\n",
       "      <td>1.718971e+08</td>\n",
       "    </tr>\n",
       "    <tr>\n",
       "      <th>3</th>\n",
       "      <td>s3</td>\n",
       "      <td>2030</td>\n",
       "      <td>3498543351481</td>\n",
       "      <td>1200542</td>\n",
       "      <td>2985736</td>\n",
       "      <td>4.148193e+11</td>\n",
       "      <td>4.361668e+12</td>\n",
       "      <td>4.148190e+11</td>\n",
       "      <td>4.361671e+12</td>\n",
       "      <td>3.227695e+10</td>\n",
       "      <td>622691926.0</td>\n",
       "      <td>1.217043e+09</td>\n",
       "      <td>2.531472e+09</td>\n",
       "      <td>1.767704e+09</td>\n",
       "      <td>16696</td>\n",
       "      <td>7.677500e+06</td>\n",
       "      <td>1.520197e+08</td>\n",
       "    </tr>\n",
       "    <tr>\n",
       "      <th>4</th>\n",
       "      <td>s4</td>\n",
       "      <td>1960</td>\n",
       "      <td>4937226061773</td>\n",
       "      <td>1407525</td>\n",
       "      <td>3570934</td>\n",
       "      <td>4.922895e+11</td>\n",
       "      <td>5.173994e+12</td>\n",
       "      <td>4.922882e+11</td>\n",
       "      <td>5.173999e+12</td>\n",
       "      <td>3.827165e+10</td>\n",
       "      <td>776692377.0</td>\n",
       "      <td>1.387325e+09</td>\n",
       "      <td>2.998691e+09</td>\n",
       "      <td>2.088084e+09</td>\n",
       "      <td>18223</td>\n",
       "      <td>8.921192e+06</td>\n",
       "      <td>1.766716e+08</td>\n",
       "    </tr>\n",
       "    <tr>\n",
       "      <th>5</th>\n",
       "      <td>s5</td>\n",
       "      <td>2436</td>\n",
       "      <td>4574699877947</td>\n",
       "      <td>1376624</td>\n",
       "      <td>3468272</td>\n",
       "      <td>4.764735e+11</td>\n",
       "      <td>5.008537e+12</td>\n",
       "      <td>4.764705e+11</td>\n",
       "      <td>5.008538e+12</td>\n",
       "      <td>3.705336e+10</td>\n",
       "      <td>739026504.0</td>\n",
       "      <td>2.370079e+09</td>\n",
       "      <td>2.875876e+09</td>\n",
       "      <td>2.000213e+09</td>\n",
       "      <td>17090</td>\n",
       "      <td>8.637456e+06</td>\n",
       "      <td>1.705148e+08</td>\n",
       "    </tr>\n",
       "    <tr>\n",
       "      <th>6</th>\n",
       "      <td>s6</td>\n",
       "      <td>2436</td>\n",
       "      <td>4515911598827</td>\n",
       "      <td>1347204</td>\n",
       "      <td>3387716</td>\n",
       "      <td>4.692089e+11</td>\n",
       "      <td>4.932189e+12</td>\n",
       "      <td>4.692065e+11</td>\n",
       "      <td>4.932190e+12</td>\n",
       "      <td>3.645163e+10</td>\n",
       "      <td>736281923.0</td>\n",
       "      <td>2.374604e+09</td>\n",
       "      <td>2.871514e+09</td>\n",
       "      <td>1.998026e+09</td>\n",
       "      <td>17119</td>\n",
       "      <td>8.529034e+06</td>\n",
       "      <td>1.710006e+08</td>\n",
       "    </tr>\n",
       "    <tr>\n",
       "      <th>7</th>\n",
       "      <td>s7</td>\n",
       "      <td>2413</td>\n",
       "      <td>3490657235320</td>\n",
       "      <td>1195491</td>\n",
       "      <td>2974634</td>\n",
       "      <td>4.139886e+11</td>\n",
       "      <td>4.352961e+12</td>\n",
       "      <td>4.139876e+11</td>\n",
       "      <td>4.352963e+12</td>\n",
       "      <td>3.219679e+10</td>\n",
       "      <td>621497942.0</td>\n",
       "      <td>2.091713e+09</td>\n",
       "      <td>2.519115e+09</td>\n",
       "      <td>1.759501e+09</td>\n",
       "      <td>17054</td>\n",
       "      <td>7.657832e+06</td>\n",
       "      <td>1.515939e+08</td>\n",
       "    </tr>\n",
       "    <tr>\n",
       "      <th>8</th>\n",
       "      <td>s8</td>\n",
       "      <td>2352</td>\n",
       "      <td>4922850022390</td>\n",
       "      <td>1402073</td>\n",
       "      <td>3545230</td>\n",
       "      <td>4.904202e+11</td>\n",
       "      <td>5.154235e+12</td>\n",
       "      <td>4.904177e+11</td>\n",
       "      <td>5.154238e+12</td>\n",
       "      <td>3.810460e+10</td>\n",
       "      <td>771962070.0</td>\n",
       "      <td>2.453094e+09</td>\n",
       "      <td>2.979522e+09</td>\n",
       "      <td>2.072341e+09</td>\n",
       "      <td>18217</td>\n",
       "      <td>8.868657e+06</td>\n",
       "      <td>1.762777e+08</td>\n",
       "    </tr>\n",
       "  </tbody>\n",
       "</table>\n",
       "</div>"
      ],
      "text/plain": [
       "  scen  persona      person_id  person_trip_id  leg_index      origin_x  \\\n",
       "0   s0     2030  3748216867169         1229056    3059702  4.257339e+11   \n",
       "1   s1     2030  4588961777615         1381708    3491916  4.779994e+11   \n",
       "2   s2     2030  4550428801222         1357791    3444016  4.725824e+11   \n",
       "3   s3     2030  3498543351481         1200542    2985736  4.148193e+11   \n",
       "4   s4     1960  4937226061773         1407525    3570934  4.922895e+11   \n",
       "5   s5     2436  4574699877947         1376624    3468272  4.764735e+11   \n",
       "6   s6     2436  4515911598827         1347204    3387716  4.692089e+11   \n",
       "7   s7     2413  3490657235320         1195491    2974634  4.139886e+11   \n",
       "8   s8     2352  4922850022390         1402073    3545230  4.904202e+11   \n",
       "\n",
       "       origin_y  destination_x  destination_y  departure_time  travel_time  \\\n",
       "0  4.478575e+12   4.257322e+11   4.478579e+12    3.313318e+10  654364022.0   \n",
       "1  5.024646e+12   4.779976e+11   5.024649e+12    3.718945e+10  747027881.0   \n",
       "2  4.967752e+12   4.725808e+11   4.967756e+12    3.673380e+10  739133253.0   \n",
       "3  4.361668e+12   4.148190e+11   4.361671e+12    3.227695e+10  622691926.0   \n",
       "4  5.173994e+12   4.922882e+11   5.173999e+12    3.827165e+10  776692377.0   \n",
       "5  5.008537e+12   4.764705e+11   5.008538e+12    3.705336e+10  739026504.0   \n",
       "6  4.932189e+12   4.692065e+11   4.932190e+12    3.645163e+10  736281923.0   \n",
       "7  4.352961e+12   4.139876e+11   4.352963e+12    3.219679e+10  621497942.0   \n",
       "8  5.154235e+12   4.904177e+11   5.154238e+12    3.810460e+10  771962070.0   \n",
       "\n",
       "   vehicle_distance  routed_distance  euclidean_distance    cps     avg_speed  \\\n",
       "0      1.242698e+09     2.585459e+09        1.798827e+09  15699  7.780396e+06   \n",
       "1      1.356213e+09     2.898254e+09        2.015840e+09  17992  8.675738e+06   \n",
       "2      1.361272e+09     2.900597e+09        2.018965e+09  18183  8.611842e+06   \n",
       "3      1.217043e+09     2.531472e+09        1.767704e+09  16696  7.677500e+06   \n",
       "4      1.387325e+09     2.998691e+09        2.088084e+09  18223  8.921192e+06   \n",
       "5      2.370079e+09     2.875876e+09        2.000213e+09  17090  8.637456e+06   \n",
       "6      2.374604e+09     2.871514e+09        1.998026e+09  17119  8.529034e+06   \n",
       "7      2.091713e+09     2.519115e+09        1.759501e+09  17054  7.657832e+06   \n",
       "8      2.453094e+09     2.979522e+09        2.072341e+09  18217  8.868657e+06   \n",
       "\n",
       "           CO2e  \n",
       "0  1.556675e+08  \n",
       "1  1.717356e+08  \n",
       "2  1.718971e+08  \n",
       "3  1.520197e+08  \n",
       "4  1.766716e+08  \n",
       "5  1.705148e+08  \n",
       "6  1.710006e+08  \n",
       "7  1.515939e+08  \n",
       "8  1.762777e+08  "
      ]
     },
     "execution_count": 150,
     "metadata": {},
     "output_type": "execute_result"
    }
   ],
   "source": [
    "df_emis_scen"
   ]
  },
  {
   "cell_type": "code",
   "execution_count": 151,
   "id": "f9fb436e",
   "metadata": {
    "scrolled": true
   },
   "outputs": [
    {
     "ename": "NameError",
     "evalue": "name 'xlabels' is not defined",
     "output_type": "error",
     "traceback": [
      "\u001b[0;31m---------------------------------------------------------------------------\u001b[0m",
      "\u001b[0;31mNameError\u001b[0m                                 Traceback (most recent call last)",
      "Input \u001b[0;32mIn [151]\u001b[0m, in \u001b[0;36m<cell line: 19>\u001b[0;34m()\u001b[0m\n\u001b[1;32m     16\u001b[0m ax\u001b[38;5;241m.\u001b[39mset(xlabel\u001b[38;5;241m=\u001b[39m\u001b[38;5;124m\"\u001b[39m\u001b[38;5;124mMode\u001b[39m\u001b[38;5;124m\"\u001b[39m,ylabel\u001b[38;5;241m=\u001b[39m\u001b[38;5;124m\"\u001b[39m\u001b[38;5;124mCO2e emissions per scenario\u001b[39m\u001b[38;5;124m\"\u001b[39m)\n\u001b[1;32m     18\u001b[0m \u001b[38;5;66;03m# Group x-axis values\u001b[39;00m\n\u001b[0;32m---> 19\u001b[0m ax\u001b[38;5;241m.\u001b[39mset_xticklabels(\u001b[43mxlabels\u001b[49m, rotation\u001b[38;5;241m=\u001b[39m\u001b[38;5;241m0\u001b[39m, ha\u001b[38;5;241m=\u001b[39m\u001b[38;5;124m\"\u001b[39m\u001b[38;5;124mcenter\u001b[39m\u001b[38;5;124m\"\u001b[39m, fontsize\u001b[38;5;241m=\u001b[39m\u001b[38;5;241m12\u001b[39m)\n\u001b[1;32m     21\u001b[0m \u001b[38;5;66;03m# Set default figure size using rcParams\u001b[39;00m\n\u001b[1;32m     22\u001b[0m mpl\u001b[38;5;241m.\u001b[39mrcParams[\u001b[38;5;124m'\u001b[39m\u001b[38;5;124mfigure.figsize\u001b[39m\u001b[38;5;124m'\u001b[39m] \u001b[38;5;241m=\u001b[39m [\u001b[38;5;241m12\u001b[39m, \u001b[38;5;241m6\u001b[39m]\n",
      "\u001b[0;31mNameError\u001b[0m: name 'xlabels' is not defined"
     ]
    },
    {
     "data": {
      "image/png": "[encoded data removed]",
      "text/plain": [
       "<Figure size 864x432 with 1 Axes>"
      ]
     },
     "metadata": {
      "needs_background": "light"
     },
     "output_type": "display_data"
    }
   ],
   "source": [
    "# Set the color palette to shades of blue\n",
    "sns.set_palette(\"Blues\")\n",
    "\n",
    "df_emis['group'] = df_emis['group'].replace({0: 'Today', 1: '2030 without MoD', 2: '2030 with MoD'})\n",
    "\n",
    "# Create bar chart with hue = 'group' and y = mean travel_time\n",
    "ax = sns.barplot(x=\"scen\", y='CO2e', data=df_emis_scen)\n",
    "\n",
    "# Set the y-axis limits to only show values between 20 and 30\n",
    "ax.set_ylim(100000000, 200000000)\n",
    "\n",
    "# Add title\n",
    "ax.set_title(\"CO2e emissions per scenario\")\n",
    "\n",
    "# Add x and y axis titles\n",
    "ax.set(xlabel=\"Mode\",ylabel=\"CO2e emissions per scenario\")\n",
    "\n",
    "# Group x-axis values\n",
    "ax.set_xticklabels(xlabels, rotation=0, ha=\"center\", fontsize=12)\n",
    "\n",
    "# Set default figure size using rcParams\n",
    "mpl.rcParams['figure.figsize'] = [12, 6]\n",
    "\n",
    "# Show plot\n",
    "plt.show()\n"
   ]
  },
  {
   "cell_type": "code",
   "execution_count": null,
   "id": "597987c5",
   "metadata": {},
   "outputs": [],
   "source": [
    "df_dist_scen = df.groupby(['scen'], as_index=False).sum()"
   ]
  },
  {
   "cell_type": "code",
   "execution_count": null,
   "id": "ade67d32",
   "metadata": {},
   "outputs": [],
   "source": [
    "df_dist_scen[['scen','routed_distance']]"
   ]
  },
  {
   "cell_type": "code",
   "execution_count": null,
   "id": "07e0ecc2",
   "metadata": {
    "scrolled": true
   },
   "outputs": [],
   "source": [
    "# Set the color palette to shades of blue\n",
    "sns.set_palette(\"Blues\")\n",
    "\n",
    "# Create bar chart with hue = 'group' and y = mean travel_time\n",
    "ax = sns.barplot(x=\"scen\", y='routed_distance', data=df_dist_scen)\n",
    "\n",
    "# Set the y-axis limits to only show values between 20 and 30\n",
    "ax.set_ylim(100000000, 5000000000)\n",
    "\n",
    "# Add title\n",
    "ax.set_title(\"Routed distance per scenario\")\n",
    "\n",
    "# Add x and y axis titles\n",
    "ax.set(xlabel=\"Scenario\", ylabel=\"Routed distance in m\")\n",
    "\n",
    "# Set default figure size using rcParams\n",
    "mpl.rcParams['figure.figsize'] = [12, 6]\n",
    "\n",
    "# Show plot\n",
    "plt.show()\n"
   ]
  },
  {
   "cell_type": "code",
   "execution_count": null,
   "id": "3985be92",
   "metadata": {},
   "outputs": [],
   "source": [
    "df_emis"
   ]
  },
  {
   "cell_type": "code",
   "execution_count": null,
   "id": "15dee579",
   "metadata": {},
   "outputs": [],
   "source": [
    "df_pers_mean = df.groupby(['persona','scen','mode'], as_index=False).mean()"
   ]
  },
  {
   "cell_type": "code",
   "execution_count": 195,
   "id": "27f0fc36",
   "metadata": {},
   "outputs": [
    {
     "ename": "NameError",
     "evalue": "name 'df_pers_mean' is not defined",
     "output_type": "error",
     "traceback": [
      "\u001b[0;31m---------------------------------------------------------------------------\u001b[0m",
      "\u001b[0;31mNameError\u001b[0m                                 Traceback (most recent call last)",
      "Input \u001b[0;32mIn [195]\u001b[0m, in \u001b[0;36m<cell line: 1>\u001b[0;34m()\u001b[0m\n\u001b[0;32m----> 1\u001b[0m \u001b[43mdf_pers_mean\u001b[49m[[\u001b[38;5;124m'\u001b[39m\u001b[38;5;124mpersona\u001b[39m\u001b[38;5;124m'\u001b[39m,\u001b[38;5;124m'\u001b[39m\u001b[38;5;124mscen\u001b[39m\u001b[38;5;124m'\u001b[39m,\u001b[38;5;124m'\u001b[39m\u001b[38;5;124mmode\u001b[39m\u001b[38;5;124m'\u001b[39m]]\n",
      "\u001b[0;31mNameError\u001b[0m: name 'df_pers_mean' is not defined"
     ]
    }
   ],
   "source": [
    "df_pers_mean[['persona','scen','mode']]"
   ]
  },
  {
   "cell_type": "code",
   "execution_count": null,
   "id": "f12fcb6c",
   "metadata": {},
   "outputs": [],
   "source": [
    "# Assign CO2e values based on mode\n",
    "df_pers_mean.loc[df_pers_mean['mode'].isin(['Walk', 'Bike']), 'CO2e'] = 0\n",
    "df_pers_mean.loc[df_pers_mean['mode'] == 'Passenger', 'CO2e'] = df_pers_mean['routed_distance'] * 80 / 1000\n",
    "df_pers_mean.loc[df_pers_mean['mode'] == 'Car', 'CO2e'] = df_pers_mean['routed_distance'] * 100 / 1000\n",
    "df_pers_mean.loc[df_pers_mean['mode'] == 'Public Transport', 'CO2e'] = df_pers_mean['routed_distance'] * 15 / 1000\n",
    "df_pers_mean.loc[df_pers_mean['mode'] == 'SAEV', 'CO2e'] = df_pers_mean['routed_distance'] * 50 / 1000"
   ]
  },
  {
   "cell_type": "code",
   "execution_count": null,
   "id": "3ebcaf51",
   "metadata": {},
   "outputs": [],
   "source": [
    "df_pers_mean_aggr = df_pers_mean.groupby(['persona','scen'], as_index=False).mean()"
   ]
  },
  {
   "cell_type": "code",
   "execution_count": null,
   "id": "63a5f1b2",
   "metadata": {},
   "outputs": [],
   "source": [
    "df_pers_mean_aggr[['persona','CO2e']].head(50)"
   ]
  },
  {
   "cell_type": "code",
   "execution_count": null,
   "id": "b63402c5",
   "metadata": {},
   "outputs": [],
   "source": [
    "# Set the color palette to shades of blue\n",
    "sns.set_palette(\"Blues\")\n",
    "\n",
    "# Create bar chart with hue = 'group' and y = mean travel_time\n",
    "ax = sns.barplot(x=\"persona\", y='CO2e', data=df_pers_mean_aggr)\n",
    "\n",
    "# Set the y-axis limits to only show values between 20 and 30\n",
    "ax.set_ylim(220, 400)\n",
    "\n",
    "# Add title\n",
    "ax.set_title(\"CO2e emissions per persona\")\n",
    "\n",
    "# Add x and y axis titles\n",
    "ax.set(xlabel=\"Persona\", ylabel=\"CO2e emissions per persona in g/day\")\n",
    "\n",
    "# Format x-axis labels as integers\n",
    "ax.set_xticklabels([label.get_text() for label in ax.get_xticklabels()], rotation=0, ha=\"center\", fontsize=12)\n",
    "\n",
    "# Set default figure size using rcParams\n",
    "mpl.rcParams['figure.figsize'] = [12, 6]\n",
    "\n",
    "# Show plot\n",
    "plt.show()\n"
   ]
  },
  {
   "cell_type": "code",
   "execution_count": null,
   "id": "e3c668e9",
   "metadata": {},
   "outputs": [],
   "source": []
  }
 ],
 "metadata": {
  "kernelspec": {
   "display_name": "Python 3 (ipykernel)",
   "language": "python",
   "name": "python3"
  },
  "language_info": {
   "codemirror_mode": {
    "name": "ipython",
    "version": 3
   },
   "file_extension": ".py",
   "mimetype": "text/x-python",
   "name": "python",
   "nbconvert_exporter": "python",
   "pygments_lexer": "ipython3",
   "version": "3.9.13"
  }
 },
 "nbformat": 4,
 "nbformat_minor": 5
}
